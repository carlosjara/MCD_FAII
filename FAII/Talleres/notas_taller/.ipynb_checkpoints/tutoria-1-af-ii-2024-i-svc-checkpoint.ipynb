{
 "cells": [
  {
   "cell_type": "code",
   "execution_count": 5,
   "id": "9ef53323-d27f-48f0-b48b-ddf4715a1bcf",
   "metadata": {},
   "outputs": [
    {
     "name": "stdout",
     "output_type": "stream",
     "text": [
      "Collecting pyarrow\n",
      "  Downloading pyarrow-15.0.2-cp310-cp310-win_amd64.whl (24.8 MB)\n",
      "     --------------------------------------- 24.8/24.8 MB 34.4 MB/s eta 0:00:00\n",
      "Requirement already satisfied: numpy<2,>=1.16.6 in c:\\users\\carlosenriquejaramil\\anaconda3\\lib\\site-packages (from pyarrow) (1.23.5)\n",
      "Installing collected packages: pyarrow\n",
      "Successfully installed pyarrow-15.0.2\n"
     ]
    }
   ],
   "source": [
    "#!pip install fastai wwf bayesian-optimization -q --upgrade\n",
    "#!pip install fastparquet\n",
    "!pip install pyarrow"
   ]
  },
  {
   "cell_type": "code",
   "execution_count": 6,
   "id": "14ae06e8",
   "metadata": {
    "_cell_guid": "b1076dfc-b9ad-4769-8c92-a6c4dae69d19",
    "_uuid": "8f2839f25d086af736a60e9eeb907d3b93b6e0e5",
    "papermill": {
     "duration": 1.369273,
     "end_time": "2023-09-06T22:31:32.084801",
     "exception": false,
     "start_time": "2023-09-06T22:31:30.715528",
     "status": "completed"
    },
    "tags": []
   },
   "outputs": [],
   "source": [
    "# This Python 3 environment comes with many helpful analytics libraries installed\n",
    "# It is defined by the kaggle/python Docker image: https://github.com/kaggle/docker-python\n",
    "# For example, here's several helpful packages to load\n",
    "import pickle\n",
    "\n",
    "import numpy as np # linear algebra\n",
    "import pandas as pd # data processing, CSV file I/O (e.g. pd.read_csv)\n",
    "import pandas as pd\n",
    "import os.path as osp \n",
    "import os\n",
    "from sklearn.model_selection import train_test_split\n",
    "from sklearn.pipeline import Pipeline\n",
    "from sklearn.preprocessing import (\n",
    "    StandardScaler, MinMaxScaler, OneHotEncoder\n",
    ")\n",
    "from sklearn.impute import SimpleImputer\n",
    "from sklearn.compose import ColumnTransformer\n",
    "from sklearn.svm import SVC\n",
    "from sklearn.linear_model import LogisticRegression\n",
    "from sklearn.discriminant_analysis import LinearDiscriminantAnalysis #LDA\n",
    "from sklearn.decomposition import PCA\n",
    "from sklearn.feature_selection import SelectFromModel #para seleccionar los coeficientes de lasso\n",
    "from sklearn.metrics import roc_auc_score, f1_score\n",
    "from sklearn import set_config\n",
    "set_config(display=\"diagram\")\n",
    "\n",
    "from sklearn.impute import KNNImputer\n",
    "from sklearn.preprocessing import MinMaxScaler\n",
    "from sklearn.model_selection import KFold\n",
    "from sklearn.neural_network import MLPClassifier\n",
    "from bayes_opt import BayesianOptimization\n",
    "from bayes_opt.logger import JSONLogger\n",
    "from bayes_opt.event import Events\n",
    "\n",
    "import matplotlib.pyplot as plt\n",
    "# Input data files are available in the read-only \"../input/\" directory\n",
    "# For example, running this (by clicking run or pressing Shift+Enter) will list all files under the input directory\n",
    "\n",
    "for dirname, _, filenames in os.walk('/kaggle/input'):\n",
    "    for filename in filenames:\n",
    "        print(os.path.join(dirname, filename))\n",
    "\n",
    "# You can write up to 20GB to the current directory (/kaggle/working/) that gets preserved as output when you create a version using \"Save & Run All\" \n",
    "# You can also write temporary files to /kaggle/temp/, but they won't be saved outside of the current session"
   ]
  },
  {
   "cell_type": "code",
   "execution_count": 40,
   "id": "7c572280",
   "metadata": {
    "papermill": {
     "duration": 1.116014,
     "end_time": "2023-09-06T22:31:33.21207",
     "exception": false,
     "start_time": "2023-09-06T22:31:32.096056",
     "status": "completed"
    },
    "tags": []
   },
   "outputs": [
    {
     "data": {
      "text/html": [
       "<div>\n",
       "<style scoped>\n",
       "    .dataframe tbody tr th:only-of-type {\n",
       "        vertical-align: middle;\n",
       "    }\n",
       "\n",
       "    .dataframe tbody tr th {\n",
       "        vertical-align: top;\n",
       "    }\n",
       "\n",
       "    .dataframe thead th {\n",
       "        text-align: right;\n",
       "    }\n",
       "</style>\n",
       "<table border=\"1\" class=\"dataframe\">\n",
       "  <thead>\n",
       "    <tr style=\"text-align: right;\">\n",
       "      <th></th>\n",
       "      <th>GENERO</th>\n",
       "      <th>ESTADO_CIVIL</th>\n",
       "      <th>FECHA_NACIMIENTO</th>\n",
       "      <th>CODIGO_SEDE</th>\n",
       "      <th>MULTI_CANCER</th>\n",
       "      <th>CESION</th>\n",
       "      <th>RIESGOS</th>\n",
       "      <th>CANCER_MAMA_FAMILIAR</th>\n",
       "      <th>CANCER_OTRO_SITIO</th>\n",
       "      <th>CANCER_OTRO_SITIO_FAMILIAR</th>\n",
       "      <th>...</th>\n",
       "      <th>radioterapias_cancer</th>\n",
       "      <th>quimioterapias__cancer</th>\n",
       "      <th>hormonoterapias__cancer</th>\n",
       "      <th>cuidado_palitiavo__cancer</th>\n",
       "      <th>inmunoterapias_cancer</th>\n",
       "      <th>Citas_oncologicas_cancer</th>\n",
       "      <th>psiquiatria_cancer</th>\n",
       "      <th>psicologia_cancer</th>\n",
       "      <th>nutricion_cancer</th>\n",
       "      <th>atencion_nutricion</th>\n",
       "    </tr>\n",
       "    <tr>\n",
       "      <th>ID</th>\n",
       "      <th></th>\n",
       "      <th></th>\n",
       "      <th></th>\n",
       "      <th></th>\n",
       "      <th></th>\n",
       "      <th></th>\n",
       "      <th></th>\n",
       "      <th></th>\n",
       "      <th></th>\n",
       "      <th></th>\n",
       "      <th></th>\n",
       "      <th></th>\n",
       "      <th></th>\n",
       "      <th></th>\n",
       "      <th></th>\n",
       "      <th></th>\n",
       "      <th></th>\n",
       "      <th></th>\n",
       "      <th></th>\n",
       "      <th></th>\n",
       "      <th></th>\n",
       "    </tr>\n",
       "  </thead>\n",
       "  <tbody>\n",
       "    <tr>\n",
       "      <th>2987</th>\n",
       "      <td>F</td>\n",
       "      <td>SO</td>\n",
       "      <td>1977-01-17</td>\n",
       "      <td>1051</td>\n",
       "      <td>None</td>\n",
       "      <td>0</td>\n",
       "      <td>2.0</td>\n",
       "      <td>0</td>\n",
       "      <td>0</td>\n",
       "      <td>1</td>\n",
       "      <td>...</td>\n",
       "      <td>0.0</td>\n",
       "      <td>0.0</td>\n",
       "      <td>0.0</td>\n",
       "      <td>0.0</td>\n",
       "      <td>0.0</td>\n",
       "      <td>2.0</td>\n",
       "      <td>0.0</td>\n",
       "      <td>0.0</td>\n",
       "      <td>0.0</td>\n",
       "      <td>Sin servicios nutricion</td>\n",
       "    </tr>\n",
       "    <tr>\n",
       "      <th>3423</th>\n",
       "      <td>F</td>\n",
       "      <td>CA</td>\n",
       "      <td>1980-10-13</td>\n",
       "      <td>1028</td>\n",
       "      <td>None</td>\n",
       "      <td>0</td>\n",
       "      <td>1.0</td>\n",
       "      <td>0</td>\n",
       "      <td>0</td>\n",
       "      <td>0</td>\n",
       "      <td>...</td>\n",
       "      <td>0.0</td>\n",
       "      <td>0.0</td>\n",
       "      <td>0.0</td>\n",
       "      <td>0.0</td>\n",
       "      <td>0.0</td>\n",
       "      <td>5.0</td>\n",
       "      <td>1.0</td>\n",
       "      <td>1.0</td>\n",
       "      <td>0.0</td>\n",
       "      <td>Sin servicios nutricion</td>\n",
       "    </tr>\n",
       "    <tr>\n",
       "      <th>6981</th>\n",
       "      <td>F</td>\n",
       "      <td>SO</td>\n",
       "      <td>1951-10-28</td>\n",
       "      <td>1022</td>\n",
       "      <td>None</td>\n",
       "      <td>0</td>\n",
       "      <td>3.0</td>\n",
       "      <td>0</td>\n",
       "      <td>0</td>\n",
       "      <td>0</td>\n",
       "      <td>...</td>\n",
       "      <td>0.0</td>\n",
       "      <td>0.0</td>\n",
       "      <td>0.0</td>\n",
       "      <td>0.0</td>\n",
       "      <td>0.0</td>\n",
       "      <td>0.0</td>\n",
       "      <td>0.0</td>\n",
       "      <td>0.0</td>\n",
       "      <td>1.0</td>\n",
       "      <td>Una servicio nutricion</td>\n",
       "    </tr>\n",
       "    <tr>\n",
       "      <th>6701</th>\n",
       "      <td>F</td>\n",
       "      <td>SO</td>\n",
       "      <td>1984-03-31</td>\n",
       "      <td>1026</td>\n",
       "      <td>None</td>\n",
       "      <td>0</td>\n",
       "      <td>1.0</td>\n",
       "      <td>0</td>\n",
       "      <td>0</td>\n",
       "      <td>0</td>\n",
       "      <td>...</td>\n",
       "      <td>0.0</td>\n",
       "      <td>0.0</td>\n",
       "      <td>0.0</td>\n",
       "      <td>0.0</td>\n",
       "      <td>0.0</td>\n",
       "      <td>4.0</td>\n",
       "      <td>0.0</td>\n",
       "      <td>0.0</td>\n",
       "      <td>0.0</td>\n",
       "      <td>Sin servicios nutricion</td>\n",
       "    </tr>\n",
       "    <tr>\n",
       "      <th>7361</th>\n",
       "      <td>F</td>\n",
       "      <td>UL</td>\n",
       "      <td>1974-03-28</td>\n",
       "      <td>1007</td>\n",
       "      <td>None</td>\n",
       "      <td>0</td>\n",
       "      <td>1.0</td>\n",
       "      <td>0</td>\n",
       "      <td>0</td>\n",
       "      <td>0</td>\n",
       "      <td>...</td>\n",
       "      <td>0.0</td>\n",
       "      <td>1.0</td>\n",
       "      <td>0.0</td>\n",
       "      <td>0.0</td>\n",
       "      <td>0.0</td>\n",
       "      <td>7.0</td>\n",
       "      <td>0.0</td>\n",
       "      <td>0.0</td>\n",
       "      <td>0.0</td>\n",
       "      <td>Sin servicios nutricion</td>\n",
       "    </tr>\n",
       "    <tr>\n",
       "      <th>...</th>\n",
       "      <td>...</td>\n",
       "      <td>...</td>\n",
       "      <td>...</td>\n",
       "      <td>...</td>\n",
       "      <td>...</td>\n",
       "      <td>...</td>\n",
       "      <td>...</td>\n",
       "      <td>...</td>\n",
       "      <td>...</td>\n",
       "      <td>...</td>\n",
       "      <td>...</td>\n",
       "      <td>...</td>\n",
       "      <td>...</td>\n",
       "      <td>...</td>\n",
       "      <td>...</td>\n",
       "      <td>...</td>\n",
       "      <td>...</td>\n",
       "      <td>...</td>\n",
       "      <td>...</td>\n",
       "      <td>...</td>\n",
       "      <td>...</td>\n",
       "    </tr>\n",
       "    <tr>\n",
       "      <th>6344</th>\n",
       "      <td>F</td>\n",
       "      <td>UL</td>\n",
       "      <td>1979-08-20</td>\n",
       "      <td>1223</td>\n",
       "      <td>None</td>\n",
       "      <td>0</td>\n",
       "      <td>1.0</td>\n",
       "      <td>0</td>\n",
       "      <td>0</td>\n",
       "      <td>0</td>\n",
       "      <td>...</td>\n",
       "      <td>0.0</td>\n",
       "      <td>0.0</td>\n",
       "      <td>0.0</td>\n",
       "      <td>0.0</td>\n",
       "      <td>0.0</td>\n",
       "      <td>3.0</td>\n",
       "      <td>0.0</td>\n",
       "      <td>0.0</td>\n",
       "      <td>0.0</td>\n",
       "      <td>Sin servicios nutricion</td>\n",
       "    </tr>\n",
       "    <tr>\n",
       "      <th>4050</th>\n",
       "      <td>F</td>\n",
       "      <td>SO</td>\n",
       "      <td>1973-07-19</td>\n",
       "      <td>1007</td>\n",
       "      <td>None</td>\n",
       "      <td>0</td>\n",
       "      <td>2.0</td>\n",
       "      <td>1</td>\n",
       "      <td>0</td>\n",
       "      <td>0</td>\n",
       "      <td>...</td>\n",
       "      <td>0.0</td>\n",
       "      <td>0.0</td>\n",
       "      <td>0.0</td>\n",
       "      <td>0.0</td>\n",
       "      <td>0.0</td>\n",
       "      <td>0.0</td>\n",
       "      <td>0.0</td>\n",
       "      <td>0.0</td>\n",
       "      <td>0.0</td>\n",
       "      <td>Sin servicios nutricion</td>\n",
       "    </tr>\n",
       "    <tr>\n",
       "      <th>1040</th>\n",
       "      <td>F</td>\n",
       "      <td>CA</td>\n",
       "      <td>1971-05-12</td>\n",
       "      <td>1008</td>\n",
       "      <td>None</td>\n",
       "      <td>0</td>\n",
       "      <td>1.0</td>\n",
       "      <td>0</td>\n",
       "      <td>0</td>\n",
       "      <td>0</td>\n",
       "      <td>...</td>\n",
       "      <td>0.0</td>\n",
       "      <td>0.0</td>\n",
       "      <td>0.0</td>\n",
       "      <td>0.0</td>\n",
       "      <td>0.0</td>\n",
       "      <td>6.0</td>\n",
       "      <td>0.0</td>\n",
       "      <td>0.0</td>\n",
       "      <td>3.0</td>\n",
       "      <td>Multiple servicio nutricion</td>\n",
       "    </tr>\n",
       "    <tr>\n",
       "      <th>1472</th>\n",
       "      <td>F</td>\n",
       "      <td>UL</td>\n",
       "      <td>1969-09-03</td>\n",
       "      <td>1008</td>\n",
       "      <td>None</td>\n",
       "      <td>0</td>\n",
       "      <td>0.0</td>\n",
       "      <td>1</td>\n",
       "      <td>0</td>\n",
       "      <td>0</td>\n",
       "      <td>...</td>\n",
       "      <td>0.0</td>\n",
       "      <td>0.0</td>\n",
       "      <td>1.0</td>\n",
       "      <td>0.0</td>\n",
       "      <td>0.0</td>\n",
       "      <td>0.0</td>\n",
       "      <td>0.0</td>\n",
       "      <td>0.0</td>\n",
       "      <td>0.0</td>\n",
       "      <td>Sin servicios nutricion</td>\n",
       "    </tr>\n",
       "    <tr>\n",
       "      <th>898</th>\n",
       "      <td>F</td>\n",
       "      <td>VI</td>\n",
       "      <td>1955-06-25</td>\n",
       "      <td>3109</td>\n",
       "      <td>1</td>\n",
       "      <td>0</td>\n",
       "      <td>4.0</td>\n",
       "      <td>0</td>\n",
       "      <td>0</td>\n",
       "      <td>0</td>\n",
       "      <td>...</td>\n",
       "      <td>0.0</td>\n",
       "      <td>0.0</td>\n",
       "      <td>0.0</td>\n",
       "      <td>0.0</td>\n",
       "      <td>0.0</td>\n",
       "      <td>5.0</td>\n",
       "      <td>0.0</td>\n",
       "      <td>0.0</td>\n",
       "      <td>0.0</td>\n",
       "      <td>Sin servicios nutricion</td>\n",
       "    </tr>\n",
       "  </tbody>\n",
       "</table>\n",
       "<p>3955 rows × 42 columns</p>\n",
       "</div>"
      ],
      "text/plain": [
       "     GENERO ESTADO_CIVIL FECHA_NACIMIENTO CODIGO_SEDE MULTI_CANCER CESION  \\\n",
       "ID                                                                          \n",
       "2987      F           SO       1977-01-17        1051         None      0   \n",
       "3423      F           CA       1980-10-13        1028         None      0   \n",
       "6981      F           SO       1951-10-28        1022         None      0   \n",
       "6701      F           SO       1984-03-31        1026         None      0   \n",
       "7361      F           UL       1974-03-28        1007         None      0   \n",
       "...     ...          ...              ...         ...          ...    ...   \n",
       "6344      F           UL       1979-08-20        1223         None      0   \n",
       "4050      F           SO       1973-07-19        1007         None      0   \n",
       "1040      F           CA       1971-05-12        1008         None      0   \n",
       "1472      F           UL       1969-09-03        1008         None      0   \n",
       "898       F           VI       1955-06-25        3109            1      0   \n",
       "\n",
       "      RIESGOS CANCER_MAMA_FAMILIAR CANCER_OTRO_SITIO  \\\n",
       "ID                                                     \n",
       "2987      2.0                    0                 0   \n",
       "3423      1.0                    0                 0   \n",
       "6981      3.0                    0                 0   \n",
       "6701      1.0                    0                 0   \n",
       "7361      1.0                    0                 0   \n",
       "...       ...                  ...               ...   \n",
       "6344      1.0                    0                 0   \n",
       "4050      2.0                    1                 0   \n",
       "1040      1.0                    0                 0   \n",
       "1472      0.0                    1                 0   \n",
       "898       4.0                    0                 0   \n",
       "\n",
       "     CANCER_OTRO_SITIO_FAMILIAR  ... radioterapias_cancer  \\\n",
       "ID                               ...                        \n",
       "2987                          1  ...                  0.0   \n",
       "3423                          0  ...                  0.0   \n",
       "6981                          0  ...                  0.0   \n",
       "6701                          0  ...                  0.0   \n",
       "7361                          0  ...                  0.0   \n",
       "...                         ...  ...                  ...   \n",
       "6344                          0  ...                  0.0   \n",
       "4050                          0  ...                  0.0   \n",
       "1040                          0  ...                  0.0   \n",
       "1472                          0  ...                  0.0   \n",
       "898                           0  ...                  0.0   \n",
       "\n",
       "     quimioterapias__cancer  hormonoterapias__cancer  \\\n",
       "ID                                                     \n",
       "2987                    0.0                      0.0   \n",
       "3423                    0.0                      0.0   \n",
       "6981                    0.0                      0.0   \n",
       "6701                    0.0                      0.0   \n",
       "7361                    1.0                      0.0   \n",
       "...                     ...                      ...   \n",
       "6344                    0.0                      0.0   \n",
       "4050                    0.0                      0.0   \n",
       "1040                    0.0                      0.0   \n",
       "1472                    0.0                      1.0   \n",
       "898                     0.0                      0.0   \n",
       "\n",
       "      cuidado_palitiavo__cancer inmunoterapias_cancer  \\\n",
       "ID                                                      \n",
       "2987                        0.0                   0.0   \n",
       "3423                        0.0                   0.0   \n",
       "6981                        0.0                   0.0   \n",
       "6701                        0.0                   0.0   \n",
       "7361                        0.0                   0.0   \n",
       "...                         ...                   ...   \n",
       "6344                        0.0                   0.0   \n",
       "4050                        0.0                   0.0   \n",
       "1040                        0.0                   0.0   \n",
       "1472                        0.0                   0.0   \n",
       "898                         0.0                   0.0   \n",
       "\n",
       "      Citas_oncologicas_cancer  psiquiatria_cancer psicologia_cancer  \\\n",
       "ID                                                                     \n",
       "2987                       2.0                 0.0               0.0   \n",
       "3423                       5.0                 1.0               1.0   \n",
       "6981                       0.0                 0.0               0.0   \n",
       "6701                       4.0                 0.0               0.0   \n",
       "7361                       7.0                 0.0               0.0   \n",
       "...                        ...                 ...               ...   \n",
       "6344                       3.0                 0.0               0.0   \n",
       "4050                       0.0                 0.0               0.0   \n",
       "1040                       6.0                 0.0               0.0   \n",
       "1472                       0.0                 0.0               0.0   \n",
       "898                        5.0                 0.0               0.0   \n",
       "\n",
       "      nutricion_cancer           atencion_nutricion  \n",
       "ID                                                   \n",
       "2987               0.0      Sin servicios nutricion  \n",
       "3423               0.0      Sin servicios nutricion  \n",
       "6981               1.0       Una servicio nutricion  \n",
       "6701               0.0      Sin servicios nutricion  \n",
       "7361               0.0      Sin servicios nutricion  \n",
       "...                ...                          ...  \n",
       "6344               0.0      Sin servicios nutricion  \n",
       "4050               0.0      Sin servicios nutricion  \n",
       "1040               3.0  Multiple servicio nutricion  \n",
       "1472               0.0      Sin servicios nutricion  \n",
       "898                0.0      Sin servicios nutricion  \n",
       "\n",
       "[3955 rows x 42 columns]"
      ]
     },
     "execution_count": 40,
     "metadata": {},
     "output_type": "execute_result"
    }
   ],
   "source": [
    "#DATA_DIR = \"/kaggle/input/fa-ii-2024-i-flujos-de-modelos-tradicionales/\"\n",
    "DATA_DIR = \"../Taller_Practico/data/\"\n",
    "df = pd.read_parquet(osp.join(DATA_DIR, \"df_train.parquet\"))\n",
    "df"
   ]
  },
  {
   "cell_type": "code",
   "execution_count": 41,
   "id": "3a6511a8",
   "metadata": {
    "tags": []
   },
   "outputs": [
    {
     "name": "stdout",
     "output_type": "stream",
     "text": [
      "<class 'pandas.core.frame.DataFrame'>\n",
      "Int64Index: 3955 entries, 2987 to 898\n",
      "Data columns (total 42 columns):\n",
      " #   Column                      Non-Null Count  Dtype         \n",
      "---  ------                      --------------  -----         \n",
      " 0   GENERO                      3955 non-null   object        \n",
      " 1   ESTADO_CIVIL                3955 non-null   object        \n",
      " 2   FECHA_NACIMIENTO            3955 non-null   datetime64[ns]\n",
      " 3   CODIGO_SEDE                 3955 non-null   object        \n",
      " 4   MULTI_CANCER                337 non-null    object        \n",
      " 5   CESION                      3955 non-null   object        \n",
      " 6   RIESGOS                     3955 non-null   float64       \n",
      " 7   CANCER_MAMA_FAMILIAR        3955 non-null   object        \n",
      " 8   CANCER_OTRO_SITIO           3955 non-null   object        \n",
      " 9   CANCER_OTRO_SITIO_FAMILIAR  3955 non-null   object        \n",
      " 10  CEREBRAL_FAMILIAR           3955 non-null   object        \n",
      " 11  FECHA_DATOS_PESO_TALLA      3955 non-null   datetime64[ns]\n",
      " 12  PESO                        3822 non-null   float64       \n",
      " 13  TALLA                       3822 non-null   float64       \n",
      " 14  FECHA_CONSULTA_TENSION      3955 non-null   datetime64[ns]\n",
      " 15  TSISTOLICA                  3815 non-null   float64       \n",
      " 16  TDIASTOLICA                 3815 non-null   float64       \n",
      " 17  Fecha_cero                  3955 non-null   datetime64[ns]\n",
      " 18  Target                      3955 non-null   float64       \n",
      " 19  mes_6                       3955 non-null   float64       \n",
      " 20  mes_5                       3955 non-null   float64       \n",
      " 21  mes_4                       3955 non-null   float64       \n",
      " 22  mes_3                       3955 non-null   float64       \n",
      " 23  mes_2                       3955 non-null   float64       \n",
      " 24  mes_1                       3955 non-null   float64       \n",
      " 25  valor_servicio              3955 non-null   float64       \n",
      " 26  IV_NIVEL                    3955 non-null   float64       \n",
      " 27  HOSPI_NO_QUIRURGICA         3955 non-null   float64       \n",
      " 28  URGENCIAS                   3955 non-null   float64       \n",
      " 29  HOSPITALIZACION             3955 non-null   float64       \n",
      " 30  CITA_ONCOLOGICA             3955 non-null   float64       \n",
      " 31  Biopsias_cancer             3955 non-null   float64       \n",
      " 32  radioterapias_cancer        3955 non-null   float64       \n",
      " 33  quimioterapias__cancer      3955 non-null   float64       \n",
      " 34  hormonoterapias__cancer     3955 non-null   float64       \n",
      " 35  cuidado_palitiavo__cancer   3955 non-null   float64       \n",
      " 36  inmunoterapias_cancer       3955 non-null   float64       \n",
      " 37  Citas_oncologicas_cancer    3955 non-null   float64       \n",
      " 38  psiquiatria_cancer          3955 non-null   float64       \n",
      " 39  psicologia_cancer           3955 non-null   float64       \n",
      " 40  nutricion_cancer            3955 non-null   float64       \n",
      " 41  atencion_nutricion          3955 non-null   object        \n",
      "dtypes: datetime64[ns](4), float64(28), object(10)\n",
      "memory usage: 1.3+ MB\n"
     ]
    }
   ],
   "source": [
    "df.info()"
   ]
  },
  {
   "cell_type": "code",
   "execution_count": 42,
   "id": "309d52c0",
   "metadata": {
    "papermill": {
     "duration": 0.13312,
     "end_time": "2023-09-06T22:31:33.649383",
     "exception": false,
     "start_time": "2023-09-06T22:31:33.516263",
     "status": "completed"
    },
    "tags": []
   },
   "outputs": [
    {
     "data": {
      "text/plain": [
       "0.0    88.697851\n",
       "1.0    11.302149\n",
       "Name: Target, dtype: float64"
      ]
     },
     "execution_count": 42,
     "metadata": {},
     "output_type": "execute_result"
    }
   ],
   "source": [
    "X, y = df.drop(columns=\"Target\"), df[\"Target\"]\n",
    "y.value_counts(True) * 100"
   ]
  },
  {
   "cell_type": "code",
   "execution_count": 43,
   "id": "721d9116",
   "metadata": {
    "tags": []
   },
   "outputs": [],
   "source": [
    "porcetaje_de_nulidad = (\n",
    "    X.isnull()\n",
    "    .apply(lambda s: s.value_counts(True)).T\n",
    ") \n",
    "\n",
    "porcetaje_de_nulidad.columns = ['not_null', 'null']\n",
    "variables_muy_nulas = porcetaje_de_nulidad.query('null > 0.7').index"
   ]
  },
  {
   "cell_type": "code",
   "execution_count": 44,
   "id": "bff4fe82",
   "metadata": {
    "papermill": {
     "duration": 0.48839,
     "end_time": "2023-09-06T22:31:34.148758",
     "exception": false,
     "start_time": "2023-09-06T22:31:33.660368",
     "status": "completed"
    },
    "tags": []
   },
   "outputs": [],
   "source": [
    "X_train, X_test, y_train, y_test = train_test_split(X, y, test_size=0.15, random_state=42)"
   ]
  },
  {
   "cell_type": "code",
   "execution_count": 45,
   "id": "f29f6bb8",
   "metadata": {
    "papermill": {
     "duration": 0.036947,
     "end_time": "2023-09-06T22:31:34.196801",
     "exception": false,
     "start_time": "2023-09-06T22:31:34.159854",
     "status": "completed"
    },
    "tags": []
   },
   "outputs": [],
   "source": [
    "columnas_numerico=['MULTI_CANCER','RIESGOS','CESION','CANCER_MAMA_FAMILIAR','CANCER_OTRO_SITIO','CANCER_OTRO_SITIO_FAMILIAR','CEREBRAL_FAMILIAR']\n",
    "X[columnas_numerico] = X[columnas_numerico].astype(float)\n",
    "\n",
    "columnas_categ= ['GENERO','ESTADO_CIVIL',#'CODIGO_SEDE',\n",
    "                 'CESION','CANCER_MAMA_FAMILIAR',\n",
    "                'CANCER_OTRO_SITIO','CANCER_OTRO_SITIO_FAMILIAR','CEREBRAL_FAMILIAR'\n",
    "                ,'atencion_nutricion'\n",
    "                ]\n",
    "X[columnas_categ] = X[columnas_categ].astype(str)"
   ]
  },
  {
   "cell_type": "code",
   "execution_count": 46,
   "id": "5a10a1a7",
   "metadata": {
    "papermill": {
     "duration": 0.023952,
     "end_time": "2023-09-06T22:31:34.231279",
     "exception": false,
     "start_time": "2023-09-06T22:31:34.207327",
     "status": "completed"
    },
    "tags": []
   },
   "outputs": [
    {
     "name": "stdout",
     "output_type": "stream",
     "text": [
      "0.0    88.693841\n",
      "1.0    11.306159\n",
      "Name: Target, dtype: float64\n",
      "0.0    88.720539\n",
      "1.0    11.279461\n",
      "Name: Target, dtype: float64\n"
     ]
    }
   ],
   "source": [
    "print(y_train.value_counts(True)*100)\n",
    "print(y_test.value_counts(True)*100)"
   ]
  },
  {
   "cell_type": "code",
   "execution_count": 47,
   "id": "2aa7b330",
   "metadata": {
    "tags": []
   },
   "outputs": [],
   "source": [
    "var_categoricas = ['GENERO','ESTADO_CIVIL',#'CODIGO_SEDE',\n",
    "                 'CESION','CANCER_MAMA_FAMILIAR',\n",
    "                'CANCER_OTRO_SITIO','CANCER_OTRO_SITIO_FAMILIAR','CEREBRAL_FAMILIAR'\n",
    "                ,'atencion_nutricion'\n",
    "                ]\n",
    "var_numericas = X_train.select_dtypes('number').columns"
   ]
  },
  {
   "cell_type": "markdown",
   "id": "0f9da4d5",
   "metadata": {
    "papermill": {
     "duration": 0.010628,
     "end_time": "2023-09-06T22:31:34.25249",
     "exception": false,
     "start_time": "2023-09-06T22:31:34.241862",
     "status": "completed"
    },
    "tags": []
   },
   "source": [
    "# Data Processing"
   ]
  },
  {
   "cell_type": "markdown",
   "id": "0744f13e",
   "metadata": {
    "papermill": {
     "duration": 0.010169,
     "end_time": "2023-09-06T22:31:34.272811",
     "exception": false,
     "start_time": "2023-09-06T22:31:34.262642",
     "status": "completed"
    },
    "tags": []
   },
   "source": [
    "Ejemplo sobre como usar Pipelines: https://scikit-learn.org/stable/auto_examples/compose/plot_column_transformer_mixed_types.html\n",
    "\n",
    "https://towardsdatascience.com/creating-custom-transformers-for-sklearn-pipelines-d3d51852ecc1"
   ]
  },
  {
   "cell_type": "code",
   "execution_count": 48,
   "id": "513e6ddd",
   "metadata": {
    "papermill": {
     "duration": 0.017346,
     "end_time": "2023-09-06T22:31:34.300375",
     "exception": false,
     "start_time": "2023-09-06T22:31:34.283029",
     "status": "completed"
    },
    "tags": []
   },
   "outputs": [],
   "source": [
    "from sklearn.base import BaseEstimator, TransformerMixin"
   ]
  },
  {
   "cell_type": "code",
   "execution_count": 49,
   "id": "eec5c775",
   "metadata": {
    "papermill": {
     "duration": 0.020352,
     "end_time": "2023-09-06T22:31:34.330822",
     "exception": false,
     "start_time": "2023-09-06T22:31:34.31047",
     "status": "completed"
    },
    "tags": []
   },
   "outputs": [],
   "source": [
    "class LDATransformer(BaseEstimator, TransformerMixin):\n",
    "    def __init__(self):\n",
    "        return None\n",
    "    \n",
    "    def fit(self, X, y=None):\n",
    "        self.clf = LinearDiscriminantAnalysis()\n",
    "        self.clf.fit(X,y) \n",
    "        return self\n",
    "\n",
    "    def transform(self, X, y=None):\n",
    "      # Perform arbitary transformation\n",
    "        X_transformed = X.copy()\n",
    "        lda = pd.DataFrame(self.clf.transform(X_transformed)).rename(columns={0:'LDA'})\n",
    "        X_transformed=pd.DataFrame(X_transformed)\n",
    "        X_transformed = pd.concat([X_transformed,lda],axis=1)\n",
    "        return X_transformed"
   ]
  },
  {
   "cell_type": "code",
   "execution_count": 50,
   "id": "fbbb1831",
   "metadata": {
    "tags": []
   },
   "outputs": [],
   "source": [
    "Imputer = SimpleImputer(strategy=\"median\") # le estoy diciendo cual es la mediana para imputar\n",
    "Scaler = StandardScaler() # se puede poner el minmaxscaler, robustscaler o otros # resto la media y divido la desviacion estandar\n",
    "LDA = LinearDiscriminantAnalysis()"
   ]
  },
  {
   "cell_type": "code",
   "execution_count": 51,
   "id": "882885eb",
   "metadata": {
    "tags": []
   },
   "outputs": [],
   "source": [
    "X_num = X[var_numericas].copy()"
   ]
  },
  {
   "cell_type": "code",
   "execution_count": 52,
   "id": "af2a4a43",
   "metadata": {
    "tags": []
   },
   "outputs": [],
   "source": [
    "Imputer.fit(X_num)\n",
    "X_num_proces = Imputer.transform(X_num)"
   ]
  },
  {
   "cell_type": "code",
   "execution_count": 53,
   "id": "1b457dbe",
   "metadata": {
    "tags": []
   },
   "outputs": [
    {
     "data": {
      "text/plain": [
       "array([[  2.,  52., 149., ...,   0.,   0.,   0.],\n",
       "       [  1.,  67., 163., ...,   1.,   1.,   0.],\n",
       "       [  3.,  77., 152., ...,   0.,   0.,   1.],\n",
       "       ...,\n",
       "       [  1.,  45., 150., ...,   0.,   0.,   3.],\n",
       "       [  0.,  60., 157., ...,   0.,   0.,   0.],\n",
       "       [  4.,  62., 159., ...,   0.,   0.,   0.]])"
      ]
     },
     "execution_count": 53,
     "metadata": {},
     "output_type": "execute_result"
    }
   ],
   "source": [
    "X_num_proces"
   ]
  },
  {
   "cell_type": "code",
   "execution_count": 54,
   "id": "5bb196ec",
   "metadata": {
    "tags": []
   },
   "outputs": [],
   "source": [
    "Scaler.fit(X_num_proces)\n",
    "X_num_proces = Scaler.transform(X_num_proces)"
   ]
  },
  {
   "cell_type": "code",
   "execution_count": 55,
   "id": "cad2ab62",
   "metadata": {
    "tags": []
   },
   "outputs": [
    {
     "data": {
      "text/plain": [
       "array([[ 0.3812237 , -1.11122016, -1.09786153, ..., -0.16458836,\n",
       "        -0.26479975, -0.37345961],\n",
       "       [-0.42505424,  0.19691873,  1.00489516, ...,  1.39643554,\n",
       "         0.99093527, -0.37345961],\n",
       "       [ 1.18750164,  1.06901132, -0.64727082, ..., -0.16458836,\n",
       "        -0.26479975,  0.65798785],\n",
       "       ...,\n",
       "       [-0.42505424, -1.72168497, -0.94766463, ..., -0.16458836,\n",
       "        -0.26479975,  2.72088278],\n",
       "       [-1.23133218, -0.41354609,  0.10371372, ..., -0.16458836,\n",
       "        -0.26479975, -0.37345961],\n",
       "       [ 1.99377959, -0.23912757,  0.40410753, ..., -0.16458836,\n",
       "        -0.26479975, -0.37345961]])"
      ]
     },
     "execution_count": 55,
     "metadata": {},
     "output_type": "execute_result"
    }
   ],
   "source": [
    "X_num_proces"
   ]
  },
  {
   "cell_type": "code",
   "execution_count": 56,
   "id": "e7e07511",
   "metadata": {
    "tags": []
   },
   "outputs": [
    {
     "data": {
      "text/html": [
       "<style>#sk-container-id-2 {color: black;background-color: white;}#sk-container-id-2 pre{padding: 0;}#sk-container-id-2 div.sk-toggleable {background-color: white;}#sk-container-id-2 label.sk-toggleable__label {cursor: pointer;display: block;width: 100%;margin-bottom: 0;padding: 0.3em;box-sizing: border-box;text-align: center;}#sk-container-id-2 label.sk-toggleable__label-arrow:before {content: \"▸\";float: left;margin-right: 0.25em;color: #696969;}#sk-container-id-2 label.sk-toggleable__label-arrow:hover:before {color: black;}#sk-container-id-2 div.sk-estimator:hover label.sk-toggleable__label-arrow:before {color: black;}#sk-container-id-2 div.sk-toggleable__content {max-height: 0;max-width: 0;overflow: hidden;text-align: left;background-color: #f0f8ff;}#sk-container-id-2 div.sk-toggleable__content pre {margin: 0.2em;color: black;border-radius: 0.25em;background-color: #f0f8ff;}#sk-container-id-2 input.sk-toggleable__control:checked~div.sk-toggleable__content {max-height: 200px;max-width: 100%;overflow: auto;}#sk-container-id-2 input.sk-toggleable__control:checked~label.sk-toggleable__label-arrow:before {content: \"▾\";}#sk-container-id-2 div.sk-estimator input.sk-toggleable__control:checked~label.sk-toggleable__label {background-color: #d4ebff;}#sk-container-id-2 div.sk-label input.sk-toggleable__control:checked~label.sk-toggleable__label {background-color: #d4ebff;}#sk-container-id-2 input.sk-hidden--visually {border: 0;clip: rect(1px 1px 1px 1px);clip: rect(1px, 1px, 1px, 1px);height: 1px;margin: -1px;overflow: hidden;padding: 0;position: absolute;width: 1px;}#sk-container-id-2 div.sk-estimator {font-family: monospace;background-color: #f0f8ff;border: 1px dotted black;border-radius: 0.25em;box-sizing: border-box;margin-bottom: 0.5em;}#sk-container-id-2 div.sk-estimator:hover {background-color: #d4ebff;}#sk-container-id-2 div.sk-parallel-item::after {content: \"\";width: 100%;border-bottom: 1px solid gray;flex-grow: 1;}#sk-container-id-2 div.sk-label:hover label.sk-toggleable__label {background-color: #d4ebff;}#sk-container-id-2 div.sk-serial::before {content: \"\";position: absolute;border-left: 1px solid gray;box-sizing: border-box;top: 0;bottom: 0;left: 50%;z-index: 0;}#sk-container-id-2 div.sk-serial {display: flex;flex-direction: column;align-items: center;background-color: white;padding-right: 0.2em;padding-left: 0.2em;position: relative;}#sk-container-id-2 div.sk-item {position: relative;z-index: 1;}#sk-container-id-2 div.sk-parallel {display: flex;align-items: stretch;justify-content: center;background-color: white;position: relative;}#sk-container-id-2 div.sk-item::before, #sk-container-id-2 div.sk-parallel-item::before {content: \"\";position: absolute;border-left: 1px solid gray;box-sizing: border-box;top: 0;bottom: 0;left: 50%;z-index: -1;}#sk-container-id-2 div.sk-parallel-item {display: flex;flex-direction: column;z-index: 1;position: relative;background-color: white;}#sk-container-id-2 div.sk-parallel-item:first-child::after {align-self: flex-end;width: 50%;}#sk-container-id-2 div.sk-parallel-item:last-child::after {align-self: flex-start;width: 50%;}#sk-container-id-2 div.sk-parallel-item:only-child::after {width: 0;}#sk-container-id-2 div.sk-dashed-wrapped {border: 1px dashed gray;margin: 0 0.4em 0.5em 0.4em;box-sizing: border-box;padding-bottom: 0.4em;background-color: white;}#sk-container-id-2 div.sk-label label {font-family: monospace;font-weight: bold;display: inline-block;line-height: 1.2em;}#sk-container-id-2 div.sk-label-container {text-align: center;}#sk-container-id-2 div.sk-container {/* jupyter's `normalize.less` sets `[hidden] { display: none; }` but bootstrap.min.css set `[hidden] { display: none !important; }` so we also need the `!important` here to be able to override the default hidden behavior on the sphinx rendered scikit-learn.org. See: https://github.com/scikit-learn/scikit-learn/issues/21755 */display: inline-block !important;position: relative;}#sk-container-id-2 div.sk-text-repr-fallback {display: none;}</style><div id=\"sk-container-id-2\" class=\"sk-top-container\"><div class=\"sk-text-repr-fallback\"><pre>LinearDiscriminantAnalysis()</pre><b>In a Jupyter environment, please rerun this cell to show the HTML representation or trust the notebook. <br />On GitHub, the HTML representation is unable to render, please try loading this page with nbviewer.org.</b></div><div class=\"sk-container\" hidden><div class=\"sk-item\"><div class=\"sk-estimator sk-toggleable\"><input class=\"sk-toggleable__control sk-hidden--visually\" id=\"sk-estimator-id-2\" type=\"checkbox\" checked><label for=\"sk-estimator-id-2\" class=\"sk-toggleable__label sk-toggleable__label-arrow\">LinearDiscriminantAnalysis</label><div class=\"sk-toggleable__content\"><pre>LinearDiscriminantAnalysis()</pre></div></div></div></div></div>"
      ],
      "text/plain": [
       "LinearDiscriminantAnalysis()"
      ]
     },
     "execution_count": 56,
     "metadata": {},
     "output_type": "execute_result"
    }
   ],
   "source": [
    "LDA.fit(X_num_proces,y)"
   ]
  },
  {
   "cell_type": "code",
   "execution_count": 57,
   "id": "59394cfe",
   "metadata": {
    "tags": []
   },
   "outputs": [],
   "source": [
    "X_num_proces = LDA.transform(X_num_proces) ## tambien podria tenerse todos los antesriores y agregar el lda como columna adicional"
   ]
  },
  {
   "cell_type": "code",
   "execution_count": 58,
   "id": "baa6348b",
   "metadata": {
    "tags": []
   },
   "outputs": [
    {
     "data": {
      "text/plain": [
       "array([[ 0.39376537],\n",
       "       [ 0.18280032],\n",
       "       [ 0.69031987],\n",
       "       ...,\n",
       "       [-1.00729842],\n",
       "       [ 0.76668694],\n",
       "       [-0.59761324]])"
      ]
     },
     "execution_count": 58,
     "metadata": {},
     "output_type": "execute_result"
    }
   ],
   "source": [
    "X_num_proces"
   ]
  },
  {
   "cell_type": "code",
   "execution_count": null,
   "id": "466a8ca0",
   "metadata": {},
   "outputs": [],
   "source": []
  },
  {
   "cell_type": "code",
   "execution_count": 59,
   "id": "5e117bac",
   "metadata": {
    "papermill": {
     "duration": 0.019269,
     "end_time": "2023-09-06T22:31:34.360293",
     "exception": false,
     "start_time": "2023-09-06T22:31:34.341024",
     "status": "completed"
    },
    "tags": []
   },
   "outputs": [],
   "source": [
    "numeric_transformer = Pipeline(\n",
    "    steps=[(\"imputer\", SimpleImputer(strategy=\"median\")), (\"scaler\", StandardScaler()), (\"LDA_feature\",LDATransformer())]\n",
    ")\n",
    "\n",
    "categorical_transformer = OneHotEncoder(handle_unknown=\"ignore\", drop=\"if_binary\")\n",
    "\n",
    "preprocessor = ColumnTransformer(\n",
    "    transformers=[\n",
    "        (\"num\", numeric_transformer, var_numericas),\n",
    "        (\"cat\", categorical_transformer, var_categoricas),\n",
    "    ]\n",
    ")"
   ]
  },
  {
   "cell_type": "code",
   "execution_count": 60,
   "id": "cb226780",
   "metadata": {
    "tags": []
   },
   "outputs": [
    {
     "data": {
      "text/html": [
       "<style>#sk-container-id-3 {color: black;background-color: white;}#sk-container-id-3 pre{padding: 0;}#sk-container-id-3 div.sk-toggleable {background-color: white;}#sk-container-id-3 label.sk-toggleable__label {cursor: pointer;display: block;width: 100%;margin-bottom: 0;padding: 0.3em;box-sizing: border-box;text-align: center;}#sk-container-id-3 label.sk-toggleable__label-arrow:before {content: \"▸\";float: left;margin-right: 0.25em;color: #696969;}#sk-container-id-3 label.sk-toggleable__label-arrow:hover:before {color: black;}#sk-container-id-3 div.sk-estimator:hover label.sk-toggleable__label-arrow:before {color: black;}#sk-container-id-3 div.sk-toggleable__content {max-height: 0;max-width: 0;overflow: hidden;text-align: left;background-color: #f0f8ff;}#sk-container-id-3 div.sk-toggleable__content pre {margin: 0.2em;color: black;border-radius: 0.25em;background-color: #f0f8ff;}#sk-container-id-3 input.sk-toggleable__control:checked~div.sk-toggleable__content {max-height: 200px;max-width: 100%;overflow: auto;}#sk-container-id-3 input.sk-toggleable__control:checked~label.sk-toggleable__label-arrow:before {content: \"▾\";}#sk-container-id-3 div.sk-estimator input.sk-toggleable__control:checked~label.sk-toggleable__label {background-color: #d4ebff;}#sk-container-id-3 div.sk-label input.sk-toggleable__control:checked~label.sk-toggleable__label {background-color: #d4ebff;}#sk-container-id-3 input.sk-hidden--visually {border: 0;clip: rect(1px 1px 1px 1px);clip: rect(1px, 1px, 1px, 1px);height: 1px;margin: -1px;overflow: hidden;padding: 0;position: absolute;width: 1px;}#sk-container-id-3 div.sk-estimator {font-family: monospace;background-color: #f0f8ff;border: 1px dotted black;border-radius: 0.25em;box-sizing: border-box;margin-bottom: 0.5em;}#sk-container-id-3 div.sk-estimator:hover {background-color: #d4ebff;}#sk-container-id-3 div.sk-parallel-item::after {content: \"\";width: 100%;border-bottom: 1px solid gray;flex-grow: 1;}#sk-container-id-3 div.sk-label:hover label.sk-toggleable__label {background-color: #d4ebff;}#sk-container-id-3 div.sk-serial::before {content: \"\";position: absolute;border-left: 1px solid gray;box-sizing: border-box;top: 0;bottom: 0;left: 50%;z-index: 0;}#sk-container-id-3 div.sk-serial {display: flex;flex-direction: column;align-items: center;background-color: white;padding-right: 0.2em;padding-left: 0.2em;position: relative;}#sk-container-id-3 div.sk-item {position: relative;z-index: 1;}#sk-container-id-3 div.sk-parallel {display: flex;align-items: stretch;justify-content: center;background-color: white;position: relative;}#sk-container-id-3 div.sk-item::before, #sk-container-id-3 div.sk-parallel-item::before {content: \"\";position: absolute;border-left: 1px solid gray;box-sizing: border-box;top: 0;bottom: 0;left: 50%;z-index: -1;}#sk-container-id-3 div.sk-parallel-item {display: flex;flex-direction: column;z-index: 1;position: relative;background-color: white;}#sk-container-id-3 div.sk-parallel-item:first-child::after {align-self: flex-end;width: 50%;}#sk-container-id-3 div.sk-parallel-item:last-child::after {align-self: flex-start;width: 50%;}#sk-container-id-3 div.sk-parallel-item:only-child::after {width: 0;}#sk-container-id-3 div.sk-dashed-wrapped {border: 1px dashed gray;margin: 0 0.4em 0.5em 0.4em;box-sizing: border-box;padding-bottom: 0.4em;background-color: white;}#sk-container-id-3 div.sk-label label {font-family: monospace;font-weight: bold;display: inline-block;line-height: 1.2em;}#sk-container-id-3 div.sk-label-container {text-align: center;}#sk-container-id-3 div.sk-container {/* jupyter's `normalize.less` sets `[hidden] { display: none; }` but bootstrap.min.css set `[hidden] { display: none !important; }` so we also need the `!important` here to be able to override the default hidden behavior on the sphinx rendered scikit-learn.org. See: https://github.com/scikit-learn/scikit-learn/issues/21755 */display: inline-block !important;position: relative;}#sk-container-id-3 div.sk-text-repr-fallback {display: none;}</style><div id=\"sk-container-id-3\" class=\"sk-top-container\"><div class=\"sk-text-repr-fallback\"><pre>ColumnTransformer(transformers=[(&#x27;num&#x27;,\n",
       "                                 Pipeline(steps=[(&#x27;imputer&#x27;,\n",
       "                                                  SimpleImputer(strategy=&#x27;median&#x27;)),\n",
       "                                                 (&#x27;scaler&#x27;, StandardScaler()),\n",
       "                                                 (&#x27;LDA_feature&#x27;,\n",
       "                                                  LDATransformer())]),\n",
       "                                 Index([&#x27;RIESGOS&#x27;, &#x27;PESO&#x27;, &#x27;TALLA&#x27;, &#x27;TSISTOLICA&#x27;, &#x27;TDIASTOLICA&#x27;, &#x27;mes_6&#x27;,\n",
       "       &#x27;mes_5&#x27;, &#x27;mes_4&#x27;, &#x27;mes_3&#x27;, &#x27;mes_2&#x27;, &#x27;mes_1&#x27;, &#x27;valor_servicio&#x27;,\n",
       "       &#x27;IV_NIVEL&#x27;, &#x27;HOSPI_NO_QUIRURGICA&#x27;, &#x27;URGENCIAS&#x27;, &#x27;HOSPITALIZACION&#x27;,...\n",
       "       &#x27;cuidado_palitiavo__cancer&#x27;, &#x27;inmunoterapias_cancer&#x27;,\n",
       "       &#x27;Citas_oncologicas_cancer&#x27;, &#x27;psiquiatria_cancer&#x27;, &#x27;psicologia_cancer&#x27;,\n",
       "       &#x27;nutricion_cancer&#x27;],\n",
       "      dtype=&#x27;object&#x27;)),\n",
       "                                (&#x27;cat&#x27;,\n",
       "                                 OneHotEncoder(drop=&#x27;if_binary&#x27;,\n",
       "                                               handle_unknown=&#x27;ignore&#x27;),\n",
       "                                 [&#x27;GENERO&#x27;, &#x27;ESTADO_CIVIL&#x27;, &#x27;CESION&#x27;,\n",
       "                                  &#x27;CANCER_MAMA_FAMILIAR&#x27;, &#x27;CANCER_OTRO_SITIO&#x27;,\n",
       "                                  &#x27;CANCER_OTRO_SITIO_FAMILIAR&#x27;,\n",
       "                                  &#x27;CEREBRAL_FAMILIAR&#x27;, &#x27;atencion_nutricion&#x27;])])</pre><b>In a Jupyter environment, please rerun this cell to show the HTML representation or trust the notebook. <br />On GitHub, the HTML representation is unable to render, please try loading this page with nbviewer.org.</b></div><div class=\"sk-container\" hidden><div class=\"sk-item sk-dashed-wrapped\"><div class=\"sk-label-container\"><div class=\"sk-label sk-toggleable\"><input class=\"sk-toggleable__control sk-hidden--visually\" id=\"sk-estimator-id-3\" type=\"checkbox\" ><label for=\"sk-estimator-id-3\" class=\"sk-toggleable__label sk-toggleable__label-arrow\">ColumnTransformer</label><div class=\"sk-toggleable__content\"><pre>ColumnTransformer(transformers=[(&#x27;num&#x27;,\n",
       "                                 Pipeline(steps=[(&#x27;imputer&#x27;,\n",
       "                                                  SimpleImputer(strategy=&#x27;median&#x27;)),\n",
       "                                                 (&#x27;scaler&#x27;, StandardScaler()),\n",
       "                                                 (&#x27;LDA_feature&#x27;,\n",
       "                                                  LDATransformer())]),\n",
       "                                 Index([&#x27;RIESGOS&#x27;, &#x27;PESO&#x27;, &#x27;TALLA&#x27;, &#x27;TSISTOLICA&#x27;, &#x27;TDIASTOLICA&#x27;, &#x27;mes_6&#x27;,\n",
       "       &#x27;mes_5&#x27;, &#x27;mes_4&#x27;, &#x27;mes_3&#x27;, &#x27;mes_2&#x27;, &#x27;mes_1&#x27;, &#x27;valor_servicio&#x27;,\n",
       "       &#x27;IV_NIVEL&#x27;, &#x27;HOSPI_NO_QUIRURGICA&#x27;, &#x27;URGENCIAS&#x27;, &#x27;HOSPITALIZACION&#x27;,...\n",
       "       &#x27;cuidado_palitiavo__cancer&#x27;, &#x27;inmunoterapias_cancer&#x27;,\n",
       "       &#x27;Citas_oncologicas_cancer&#x27;, &#x27;psiquiatria_cancer&#x27;, &#x27;psicologia_cancer&#x27;,\n",
       "       &#x27;nutricion_cancer&#x27;],\n",
       "      dtype=&#x27;object&#x27;)),\n",
       "                                (&#x27;cat&#x27;,\n",
       "                                 OneHotEncoder(drop=&#x27;if_binary&#x27;,\n",
       "                                               handle_unknown=&#x27;ignore&#x27;),\n",
       "                                 [&#x27;GENERO&#x27;, &#x27;ESTADO_CIVIL&#x27;, &#x27;CESION&#x27;,\n",
       "                                  &#x27;CANCER_MAMA_FAMILIAR&#x27;, &#x27;CANCER_OTRO_SITIO&#x27;,\n",
       "                                  &#x27;CANCER_OTRO_SITIO_FAMILIAR&#x27;,\n",
       "                                  &#x27;CEREBRAL_FAMILIAR&#x27;, &#x27;atencion_nutricion&#x27;])])</pre></div></div></div><div class=\"sk-parallel\"><div class=\"sk-parallel-item\"><div class=\"sk-item\"><div class=\"sk-label-container\"><div class=\"sk-label sk-toggleable\"><input class=\"sk-toggleable__control sk-hidden--visually\" id=\"sk-estimator-id-4\" type=\"checkbox\" ><label for=\"sk-estimator-id-4\" class=\"sk-toggleable__label sk-toggleable__label-arrow\">num</label><div class=\"sk-toggleable__content\"><pre>Index([&#x27;RIESGOS&#x27;, &#x27;PESO&#x27;, &#x27;TALLA&#x27;, &#x27;TSISTOLICA&#x27;, &#x27;TDIASTOLICA&#x27;, &#x27;mes_6&#x27;,\n",
       "       &#x27;mes_5&#x27;, &#x27;mes_4&#x27;, &#x27;mes_3&#x27;, &#x27;mes_2&#x27;, &#x27;mes_1&#x27;, &#x27;valor_servicio&#x27;,\n",
       "       &#x27;IV_NIVEL&#x27;, &#x27;HOSPI_NO_QUIRURGICA&#x27;, &#x27;URGENCIAS&#x27;, &#x27;HOSPITALIZACION&#x27;,\n",
       "       &#x27;CITA_ONCOLOGICA&#x27;, &#x27;Biopsias_cancer&#x27;, &#x27;radioterapias_cancer&#x27;,\n",
       "       &#x27;quimioterapias__cancer&#x27;, &#x27;hormonoterapias__cancer&#x27;,\n",
       "       &#x27;cuidado_palitiavo__cancer&#x27;, &#x27;inmunoterapias_cancer&#x27;,\n",
       "       &#x27;Citas_oncologicas_cancer&#x27;, &#x27;psiquiatria_cancer&#x27;, &#x27;psicologia_cancer&#x27;,\n",
       "       &#x27;nutricion_cancer&#x27;],\n",
       "      dtype=&#x27;object&#x27;)</pre></div></div></div><div class=\"sk-serial\"><div class=\"sk-item\"><div class=\"sk-serial\"><div class=\"sk-item\"><div class=\"sk-estimator sk-toggleable\"><input class=\"sk-toggleable__control sk-hidden--visually\" id=\"sk-estimator-id-5\" type=\"checkbox\" ><label for=\"sk-estimator-id-5\" class=\"sk-toggleable__label sk-toggleable__label-arrow\">SimpleImputer</label><div class=\"sk-toggleable__content\"><pre>SimpleImputer(strategy=&#x27;median&#x27;)</pre></div></div></div><div class=\"sk-item\"><div class=\"sk-estimator sk-toggleable\"><input class=\"sk-toggleable__control sk-hidden--visually\" id=\"sk-estimator-id-6\" type=\"checkbox\" ><label for=\"sk-estimator-id-6\" class=\"sk-toggleable__label sk-toggleable__label-arrow\">StandardScaler</label><div class=\"sk-toggleable__content\"><pre>StandardScaler()</pre></div></div></div><div class=\"sk-item\"><div class=\"sk-estimator sk-toggleable\"><input class=\"sk-toggleable__control sk-hidden--visually\" id=\"sk-estimator-id-7\" type=\"checkbox\" ><label for=\"sk-estimator-id-7\" class=\"sk-toggleable__label sk-toggleable__label-arrow\">LDATransformer</label><div class=\"sk-toggleable__content\"><pre>LDATransformer()</pre></div></div></div></div></div></div></div></div><div class=\"sk-parallel-item\"><div class=\"sk-item\"><div class=\"sk-label-container\"><div class=\"sk-label sk-toggleable\"><input class=\"sk-toggleable__control sk-hidden--visually\" id=\"sk-estimator-id-8\" type=\"checkbox\" ><label for=\"sk-estimator-id-8\" class=\"sk-toggleable__label sk-toggleable__label-arrow\">cat</label><div class=\"sk-toggleable__content\"><pre>[&#x27;GENERO&#x27;, &#x27;ESTADO_CIVIL&#x27;, &#x27;CESION&#x27;, &#x27;CANCER_MAMA_FAMILIAR&#x27;, &#x27;CANCER_OTRO_SITIO&#x27;, &#x27;CANCER_OTRO_SITIO_FAMILIAR&#x27;, &#x27;CEREBRAL_FAMILIAR&#x27;, &#x27;atencion_nutricion&#x27;]</pre></div></div></div><div class=\"sk-serial\"><div class=\"sk-item\"><div class=\"sk-estimator sk-toggleable\"><input class=\"sk-toggleable__control sk-hidden--visually\" id=\"sk-estimator-id-9\" type=\"checkbox\" ><label for=\"sk-estimator-id-9\" class=\"sk-toggleable__label sk-toggleable__label-arrow\">OneHotEncoder</label><div class=\"sk-toggleable__content\"><pre>OneHotEncoder(drop=&#x27;if_binary&#x27;, handle_unknown=&#x27;ignore&#x27;)</pre></div></div></div></div></div></div></div></div></div></div>"
      ],
      "text/plain": [
       "ColumnTransformer(transformers=[('num',\n",
       "                                 Pipeline(steps=[('imputer',\n",
       "                                                  SimpleImputer(strategy='median')),\n",
       "                                                 ('scaler', StandardScaler()),\n",
       "                                                 ('LDA_feature',\n",
       "                                                  LDATransformer())]),\n",
       "                                 Index(['RIESGOS', 'PESO', 'TALLA', 'TSISTOLICA', 'TDIASTOLICA', 'mes_6',\n",
       "       'mes_5', 'mes_4', 'mes_3', 'mes_2', 'mes_1', 'valor_servicio',\n",
       "       'IV_NIVEL', 'HOSPI_NO_QUIRURGICA', 'URGENCIAS', 'HOSPITALIZACION',...\n",
       "       'cuidado_palitiavo__cancer', 'inmunoterapias_cancer',\n",
       "       'Citas_oncologicas_cancer', 'psiquiatria_cancer', 'psicologia_cancer',\n",
       "       'nutricion_cancer'],\n",
       "      dtype='object')),\n",
       "                                ('cat',\n",
       "                                 OneHotEncoder(drop='if_binary',\n",
       "                                               handle_unknown='ignore'),\n",
       "                                 ['GENERO', 'ESTADO_CIVIL', 'CESION',\n",
       "                                  'CANCER_MAMA_FAMILIAR', 'CANCER_OTRO_SITIO',\n",
       "                                  'CANCER_OTRO_SITIO_FAMILIAR',\n",
       "                                  'CEREBRAL_FAMILIAR', 'atencion_nutricion'])])"
      ]
     },
     "execution_count": 60,
     "metadata": {},
     "output_type": "execute_result"
    }
   ],
   "source": [
    "preprocessor.fit(X,y)"
   ]
  },
  {
   "cell_type": "code",
   "execution_count": 61,
   "id": "5a7e474f",
   "metadata": {
    "tags": []
   },
   "outputs": [],
   "source": [
    "X_a=preprocessor.transform(X)"
   ]
  },
  {
   "cell_type": "code",
   "execution_count": 62,
   "id": "28d99661",
   "metadata": {
    "papermill": {
     "duration": 0.017586,
     "end_time": "2023-09-06T22:31:34.388325",
     "exception": false,
     "start_time": "2023-09-06T22:31:34.370739",
     "status": "completed"
    },
    "tags": []
   },
   "outputs": [],
   "source": [
    "def add_model(data_pipeline, model) -> Pipeline:\n",
    "    whole_pipeline = Pipeline([\n",
    "        (\"data_pipeline\", data_pipeline),\n",
    "        (\"model\", model)\n",
    "    ])\n",
    "    return whole_pipeline"
   ]
  },
  {
   "cell_type": "markdown",
   "id": "f7bbfc94",
   "metadata": {
    "papermill": {
     "duration": 0.009786,
     "end_time": "2023-09-06T22:31:34.408504",
     "exception": false,
     "start_time": "2023-09-06T22:31:34.398718",
     "status": "completed"
    },
    "tags": []
   },
   "source": [
    "# Bayesian optimization"
   ]
  },
  {
   "cell_type": "code",
   "execution_count": 63,
   "id": "72e166e5",
   "metadata": {
    "papermill": {
     "duration": 0.025339,
     "end_time": "2023-09-06T22:31:34.443888",
     "exception": false,
     "start_time": "2023-09-06T22:31:34.418549",
     "status": "completed"
    },
    "tags": []
   },
   "outputs": [],
   "source": [
    "from IPython.display import clear_output\n",
    "from matplotlib import pyplot as plt\n",
    "import numpy as np\n",
    "import collections\n",
    "%matplotlib inline\n",
    "\n",
    "def live_plot(data_dict, figsize=(7,5), title='', win_size: int = 100):\n",
    "    \"\"\"\n",
    "    Función para mostrar en tiempo real el progreso de la optmización bayesiana.\n",
    "    \"\"\"\n",
    "    clear_output(wait=True)\n",
    "    plt.figure(figsize=figsize)\n",
    "    for label,data in data_dict.items():\n",
    "        if len(data) > win_size:\n",
    "            data = data[-win_size:]\n",
    "            iterations = np.arange(len(data))[-win_size:] \n",
    "        else:\n",
    "            iterations = np.arange(len(data))\n",
    "        plt.plot(iterations, data, label=label)\n",
    "    plt.title(title)\n",
    "    plt.grid(True)\n",
    "    plt.xlabel('Iteration')\n",
    "    plt.legend(loc='center left') # the plot evolves to the right\n",
    "    plt.show();"
   ]
  },
  {
   "cell_type": "code",
   "execution_count": 64,
   "id": "6beb6b2b",
   "metadata": {
    "tags": []
   },
   "outputs": [],
   "source": [
    "data = collections.defaultdict(list)\n",
    "\n",
    "def train_and_evaluate(\n",
    "    # Data \n",
    "    scaler_choice,\n",
    "    imputer_strategy,\n",
    "    knn_imputer,\n",
    "    knn_imputer_k,\n",
    "\n",
    "    #Modelo SVC\n",
    "    SVC_C,\n",
    "    SVC_gamma,\n",
    "    kernel_SVC='linear'\n",
    "\n",
    ") -> float:\n",
    "    scaler_cls = StandardScaler if scaler_choice > 0.5 else MinMaxScaler\n",
    "    imputer_strategy = \"mean\" if imputer_strategy > 0.5 else \"median\"\n",
    "    if knn_imputer > 0.5:\n",
    "        imputer = KNNImputer(n_neighbors=int(knn_imputer_k))\n",
    "    else:\n",
    "        imputer = SimpleImputer(strategy=imputer_strategy)\n",
    "    \n",
    "    numeric_transformer = Pipeline(\n",
    "        steps=[(\"imputer\", imputer), \n",
    "               (\"scaler\", scaler_cls()),\n",
    "               (\"LDA_feature\",LDATransformer()) \n",
    "              ]\n",
    "    )\n",
    "    \n",
    "    categorical_transformer = OneHotEncoder(handle_unknown=\"ignore\")\n",
    "    preprocessor = ColumnTransformer(\n",
    "        transformers=[\n",
    "            (\"num\", numeric_transformer, var_numericas),\n",
    "            (\"cat\", categorical_transformer, var_categoricas),\n",
    "        ]\n",
    "    )\n",
    "    \n",
    "    data_pipeline = Pipeline(steps=[\n",
    "        (\"data_processor\", preprocessor),\n",
    "    ])\n",
    "           \n",
    "    #Model SVM\n",
    "    model = SVC(C=SVC_C, gamma=SVC_gamma, kernel=kernel_SVC, probability=True)\n",
    "    pipeline = add_model(data_pipeline, model)\n",
    "    show_live_plot=True\n",
    "\n",
    "    ## Training protocol\n",
    "    \n",
    "    kf = KFold(n_splits=3, random_state=963, shuffle=True)\n",
    "    \n",
    "    train_fold_metrics = [] \n",
    "    val_fold_metrics = []\n",
    "\n",
    "    # K-Fold cross val\n",
    "    for i, (train_index, test_index) in enumerate(kf.split(X_train)):\n",
    "        #print(f\"Fold number: {i+1}\")\n",
    "        kX_train, kX_val = X_train.iloc[train_index], X_train.iloc[test_index]\n",
    "        ky_train, ky_val = y_train.iloc[train_index], y_train.iloc[test_index]\n",
    "        #print(f\"Training with {kX_train.shape}\")\n",
    "        #print(f\"Validating with {kX_val.shape}\")\n",
    "        pipeline.fit(kX_train, ky_train)\n",
    "        \n",
    "        val_preds = pipeline.predict_proba(kX_val)[:, 1]\n",
    "               \n",
    "        train_preds = pipeline.predict_proba(kX_train)[:, 1]\n",
    "        \n",
    "        ths = np.linspace(0, 1, 1000)\n",
    "        best_th = ths[np.argmax([f1_score(ky_val, val_preds>th) for th in ths])]\n",
    "        best_th\n",
    "        \n",
    "        val_f1 = f1_score(ky_val, val_preds>best_th)\n",
    "        train_f1 = f1_score(ky_train, train_preds>best_th)\n",
    "        \n",
    "        train_fold_metrics.append(train_f1)\n",
    "        val_fold_metrics.append(val_f1)            \n",
    "       \n",
    "    f1_train = np.array(train_fold_metrics)\n",
    "    f1_val = np.array(val_fold_metrics)\n",
    "    \n",
    "    adj_val_f1 = ( f1_val.mean() -  f1_val.std())\n",
    "    adj_train_f1 = ( f1_train.mean() -  f1_train.std())\n",
    "    objective = adj_val_f1 - abs(adj_val_f1 - adj_train_f1)\n",
    "    \n",
    "    print(f\"Validation F1 adjusted score: {adj_val_f1}\")\n",
    "    print(f\"Train F1 adjusted score: {adj_train_f1}\")\n",
    "    print()\n",
    "    \n",
    "    if show_live_plot:\n",
    "        data['train_f1'].append(adj_train_f1)\n",
    "        data['val_f1'].append(adj_val_f1)\n",
    "        data[\"objective\"].append(objective)\n",
    "        live_plot(data)\n",
    "    \n",
    "    return pipeline, objective\n",
    "\n",
    "def target_func(**kwargs):\n",
    "    model, result = train_and_evaluate(**kwargs)\n",
    "    return result\n"
   ]
  },
  {
   "cell_type": "code",
   "execution_count": 26,
   "id": "b4c52404",
   "metadata": {
    "execution": {
     "iopub.execute_input": "2024-03-18T22:40:52.633822Z",
     "iopub.status.busy": "2024-03-18T22:40:52.633418Z",
     "iopub.status.idle": "2024-03-18T22:40:52.640742Z",
     "shell.execute_reply": "2024-03-18T22:40:52.63956Z",
     "shell.execute_reply.started": "2024-03-18T22:40:52.633794Z"
    },
    "papermill": {
     "duration": 0.037521,
     "end_time": "2023-09-06T22:31:34.555564",
     "exception": false,
     "start_time": "2023-09-06T22:31:34.518043",
     "status": "completed"
    },
    "tags": []
   },
   "outputs": [],
   "source": [
    "pbounds = dict(\n",
    "    # Data\n",
    "    scaler_choice=(0, 1),\n",
    "    imputer_strategy=(0, 1),\n",
    "    knn_imputer=(0,1),\n",
    "    knn_imputer_k=(3, 10),\n",
    "    SVC_C=(0.001, 10),\n",
    "    SVC_gamma=(0,5),\n",
    "   \n",
    ")\n",
    "\n",
    "optimizer = BayesianOptimization(\n",
    "    f=target_func,\n",
    "    pbounds=pbounds,\n",
    "    random_state=963,\n",
    "    verbose=2,\n",
    ")\n"
   ]
  },
  {
   "cell_type": "code",
   "execution_count": 27,
   "id": "9f1d7253",
   "metadata": {
    "execution": {
     "iopub.execute_input": "2024-03-18T22:40:52.976791Z",
     "iopub.status.busy": "2024-03-18T22:40:52.976384Z",
     "iopub.status.idle": "2024-03-18T22:50:55.302764Z",
     "shell.execute_reply": "2024-03-18T22:50:55.301667Z",
     "shell.execute_reply.started": "2024-03-18T22:40:52.976761Z"
    },
    "papermill": {
     "duration": 163.984147,
     "end_time": "2023-09-06T22:34:18.551062",
     "exception": true,
     "start_time": "2023-09-06T22:31:34.566915",
     "status": "failed"
    },
    "tags": []
   },
   "outputs": [
    {
     "data": {
      "image/png": "[encoded data removed]",
      "text/plain": [
       "<Figure size 700x500 with 1 Axes>"
      ]
     },
     "metadata": {},
     "output_type": "display_data"
    }
   ],
   "source": [
    "logger = JSONLogger(path=\"./logs.json\")\n",
    "optimizer.subscribe(Events.OPTIMIZATION_STEP, logger)\n",
    "\n",
    "optimizer.maximize(\n",
    "    n_iter=20,\n",
    ")"
   ]
  },
  {
   "cell_type": "code",
   "execution_count": 28,
   "id": "9c1b24e1",
   "metadata": {
    "execution": {
     "iopub.execute_input": "2024-03-18T22:50:55.305063Z",
     "iopub.status.busy": "2024-03-18T22:50:55.304766Z",
     "iopub.status.idle": "2024-03-18T22:50:55.311941Z",
     "shell.execute_reply": "2024-03-18T22:50:55.310921Z",
     "shell.execute_reply.started": "2024-03-18T22:50:55.305038Z"
    },
    "papermill": {
     "duration": null,
     "end_time": null,
     "exception": null,
     "start_time": null,
     "status": "pending"
    },
    "tags": []
   },
   "outputs": [
    {
     "data": {
      "text/plain": [
       "{'SVC_C': 8.420183964104496,\n",
       " 'SVC_gamma': 0.6483001959471806,\n",
       " 'imputer_strategy': 0.43192982498708193,\n",
       " 'knn_imputer': 0.36238852034982694,\n",
       " 'knn_imputer_k': 8.174278596906545,\n",
       " 'scaler_choice': 1.0}"
      ]
     },
     "execution_count": 28,
     "metadata": {},
     "output_type": "execute_result"
    }
   ],
   "source": [
    "optimizer.max[\"params\"]"
   ]
  },
  {
   "cell_type": "code",
   "execution_count": 30,
   "id": "2e6df334",
   "metadata": {
    "execution": {
     "iopub.execute_input": "2024-03-18T22:53:21.532123Z",
     "iopub.status.busy": "2024-03-18T22:53:21.531705Z",
     "iopub.status.idle": "2024-03-18T22:53:52.324445Z",
     "shell.execute_reply": "2024-03-18T22:53:52.32342Z",
     "shell.execute_reply.started": "2024-03-18T22:53:21.532094Z"
    },
    "papermill": {
     "duration": null,
     "end_time": null,
     "exception": null,
     "start_time": null,
     "status": "pending"
    },
    "tags": []
   },
   "outputs": [
    {
     "data": {
      "image/png": "[encoded data removed]",
      "text/plain": [
       "<Figure size 700x500 with 1 Axes>"
      ]
     },
     "metadata": {},
     "output_type": "display_data"
    }
   ],
   "source": [
    "best_model, best_result = train_and_evaluate(**optimizer.max[\"params\"])"
   ]
  },
  {
   "cell_type": "code",
   "execution_count": 31,
   "id": "7b829104",
   "metadata": {
    "execution": {
     "iopub.execute_input": "2024-03-18T22:54:43.861245Z",
     "iopub.status.busy": "2024-03-18T22:54:43.860844Z",
     "iopub.status.idle": "2024-03-18T22:54:43.909746Z",
     "shell.execute_reply": "2024-03-18T22:54:43.908526Z",
     "shell.execute_reply.started": "2024-03-18T22:54:43.861208Z"
    },
    "papermill": {
     "duration": null,
     "end_time": null,
     "exception": null,
     "start_time": null,
     "status": "pending"
    },
    "tags": []
   },
   "outputs": [
    {
     "data": {
      "text/plain": [
       "0.818743096660908"
      ]
     },
     "execution_count": 31,
     "metadata": {},
     "output_type": "execute_result"
    }
   ],
   "source": [
    "test_preds = best_model.predict_proba(X_test)[:, 1]\n",
    "roc_auc_score(y_test, test_preds)"
   ]
  },
  {
   "cell_type": "code",
   "execution_count": 32,
   "id": "f27b8682",
   "metadata": {
    "execution": {
     "iopub.execute_input": "2024-03-18T22:54:48.877642Z",
     "iopub.status.busy": "2024-03-18T22:54:48.876949Z",
     "iopub.status.idle": "2024-03-18T22:55:09.931085Z",
     "shell.execute_reply": "2024-03-18T22:55:09.929982Z",
     "shell.execute_reply.started": "2024-03-18T22:54:48.87761Z"
    },
    "papermill": {
     "duration": null,
     "end_time": null,
     "exception": null,
     "start_time": null,
     "status": "pending"
    },
    "tags": []
   },
   "outputs": [
    {
     "data": {
      "text/html": [
       "<style>#sk-container-id-3 {color: black;background-color: white;}#sk-container-id-3 pre{padding: 0;}#sk-container-id-3 div.sk-toggleable {background-color: white;}#sk-container-id-3 label.sk-toggleable__label {cursor: pointer;display: block;width: 100%;margin-bottom: 0;padding: 0.3em;box-sizing: border-box;text-align: center;}#sk-container-id-3 label.sk-toggleable__label-arrow:before {content: \"▸\";float: left;margin-right: 0.25em;color: #696969;}#sk-container-id-3 label.sk-toggleable__label-arrow:hover:before {color: black;}#sk-container-id-3 div.sk-estimator:hover label.sk-toggleable__label-arrow:before {color: black;}#sk-container-id-3 div.sk-toggleable__content {max-height: 0;max-width: 0;overflow: hidden;text-align: left;background-color: #f0f8ff;}#sk-container-id-3 div.sk-toggleable__content pre {margin: 0.2em;color: black;border-radius: 0.25em;background-color: #f0f8ff;}#sk-container-id-3 input.sk-toggleable__control:checked~div.sk-toggleable__content {max-height: 200px;max-width: 100%;overflow: auto;}#sk-container-id-3 input.sk-toggleable__control:checked~label.sk-toggleable__label-arrow:before {content: \"▾\";}#sk-container-id-3 div.sk-estimator input.sk-toggleable__control:checked~label.sk-toggleable__label {background-color: #d4ebff;}#sk-container-id-3 div.sk-label input.sk-toggleable__control:checked~label.sk-toggleable__label {background-color: #d4ebff;}#sk-container-id-3 input.sk-hidden--visually {border: 0;clip: rect(1px 1px 1px 1px);clip: rect(1px, 1px, 1px, 1px);height: 1px;margin: -1px;overflow: hidden;padding: 0;position: absolute;width: 1px;}#sk-container-id-3 div.sk-estimator {font-family: monospace;background-color: #f0f8ff;border: 1px dotted black;border-radius: 0.25em;box-sizing: border-box;margin-bottom: 0.5em;}#sk-container-id-3 div.sk-estimator:hover {background-color: #d4ebff;}#sk-container-id-3 div.sk-parallel-item::after {content: \"\";width: 100%;border-bottom: 1px solid gray;flex-grow: 1;}#sk-container-id-3 div.sk-label:hover label.sk-toggleable__label {background-color: #d4ebff;}#sk-container-id-3 div.sk-serial::before {content: \"\";position: absolute;border-left: 1px solid gray;box-sizing: border-box;top: 0;bottom: 0;left: 50%;z-index: 0;}#sk-container-id-3 div.sk-serial {display: flex;flex-direction: column;align-items: center;background-color: white;padding-right: 0.2em;padding-left: 0.2em;position: relative;}#sk-container-id-3 div.sk-item {position: relative;z-index: 1;}#sk-container-id-3 div.sk-parallel {display: flex;align-items: stretch;justify-content: center;background-color: white;position: relative;}#sk-container-id-3 div.sk-item::before, #sk-container-id-3 div.sk-parallel-item::before {content: \"\";position: absolute;border-left: 1px solid gray;box-sizing: border-box;top: 0;bottom: 0;left: 50%;z-index: -1;}#sk-container-id-3 div.sk-parallel-item {display: flex;flex-direction: column;z-index: 1;position: relative;background-color: white;}#sk-container-id-3 div.sk-parallel-item:first-child::after {align-self: flex-end;width: 50%;}#sk-container-id-3 div.sk-parallel-item:last-child::after {align-self: flex-start;width: 50%;}#sk-container-id-3 div.sk-parallel-item:only-child::after {width: 0;}#sk-container-id-3 div.sk-dashed-wrapped {border: 1px dashed gray;margin: 0 0.4em 0.5em 0.4em;box-sizing: border-box;padding-bottom: 0.4em;background-color: white;}#sk-container-id-3 div.sk-label label {font-family: monospace;font-weight: bold;display: inline-block;line-height: 1.2em;}#sk-container-id-3 div.sk-label-container {text-align: center;}#sk-container-id-3 div.sk-container {/* jupyter's `normalize.less` sets `[hidden] { display: none; }` but bootstrap.min.css set `[hidden] { display: none !important; }` so we also need the `!important` here to be able to override the default hidden behavior on the sphinx rendered scikit-learn.org. See: https://github.com/scikit-learn/scikit-learn/issues/21755 */display: inline-block !important;position: relative;}#sk-container-id-3 div.sk-text-repr-fallback {display: none;}</style><div id=\"sk-container-id-3\" class=\"sk-top-container\"><div class=\"sk-text-repr-fallback\"><pre>Pipeline(steps=[(&#x27;data_pipeline&#x27;,\n",
       "                 Pipeline(steps=[(&#x27;data_processor&#x27;,\n",
       "                                  ColumnTransformer(transformers=[(&#x27;num&#x27;,\n",
       "                                                                   Pipeline(steps=[(&#x27;imputer&#x27;,\n",
       "                                                                                    SimpleImputer(strategy=&#x27;median&#x27;)),\n",
       "                                                                                   (&#x27;scaler&#x27;,\n",
       "                                                                                    StandardScaler()),\n",
       "                                                                                   (&#x27;LDA_feature&#x27;,\n",
       "                                                                                    LDATransformer())]),\n",
       "                                                                   Index([&#x27;RIESGOS&#x27;, &#x27;PESO&#x27;, &#x27;TALLA&#x27;, &#x27;TSISTOLICA&#x27;, &#x27;TDIASTOLICA&#x27;, &#x27;mes_6&#x27;,\n",
       "       &#x27;mes_5&#x27;, &#x27;mes_4&#x27;, &#x27;mes_3&#x27;, &#x27;mes_2&#x27;, &#x27;mes_1&#x27;, &#x27;valor_servic...\n",
       "       &#x27;Citas_oncologicas_cancer&#x27;, &#x27;psiquiatria_cancer&#x27;, &#x27;psicologia_cancer&#x27;,\n",
       "       &#x27;nutricion_cancer&#x27;],\n",
       "      dtype=&#x27;object&#x27;)),\n",
       "                                                                  (&#x27;cat&#x27;,\n",
       "                                                                   OneHotEncoder(handle_unknown=&#x27;ignore&#x27;),\n",
       "                                                                   [&#x27;GENERO&#x27;,\n",
       "                                                                    &#x27;ESTADO_CIVIL&#x27;,\n",
       "                                                                    &#x27;CESION&#x27;,\n",
       "                                                                    &#x27;CANCER_MAMA_FAMILIAR&#x27;,\n",
       "                                                                    &#x27;CANCER_OTRO_SITIO&#x27;,\n",
       "                                                                    &#x27;CANCER_OTRO_SITIO_FAMILIAR&#x27;,\n",
       "                                                                    &#x27;CEREBRAL_FAMILIAR&#x27;,\n",
       "                                                                    &#x27;atencion_nutricion&#x27;])]))])),\n",
       "                (&#x27;model&#x27;,\n",
       "                 SVC(C=8.420183964104496, gamma=0.6483001959471806,\n",
       "                     kernel=&#x27;linear&#x27;, probability=True))])</pre><b>In a Jupyter environment, please rerun this cell to show the HTML representation or trust the notebook. <br />On GitHub, the HTML representation is unable to render, please try loading this page with nbviewer.org.</b></div><div class=\"sk-container\" hidden><div class=\"sk-item sk-dashed-wrapped\"><div class=\"sk-label-container\"><div class=\"sk-label sk-toggleable\"><input class=\"sk-toggleable__control sk-hidden--visually\" id=\"sk-estimator-id-9\" type=\"checkbox\" ><label for=\"sk-estimator-id-9\" class=\"sk-toggleable__label sk-toggleable__label-arrow\">Pipeline</label><div class=\"sk-toggleable__content\"><pre>Pipeline(steps=[(&#x27;data_pipeline&#x27;,\n",
       "                 Pipeline(steps=[(&#x27;data_processor&#x27;,\n",
       "                                  ColumnTransformer(transformers=[(&#x27;num&#x27;,\n",
       "                                                                   Pipeline(steps=[(&#x27;imputer&#x27;,\n",
       "                                                                                    SimpleImputer(strategy=&#x27;median&#x27;)),\n",
       "                                                                                   (&#x27;scaler&#x27;,\n",
       "                                                                                    StandardScaler()),\n",
       "                                                                                   (&#x27;LDA_feature&#x27;,\n",
       "                                                                                    LDATransformer())]),\n",
       "                                                                   Index([&#x27;RIESGOS&#x27;, &#x27;PESO&#x27;, &#x27;TALLA&#x27;, &#x27;TSISTOLICA&#x27;, &#x27;TDIASTOLICA&#x27;, &#x27;mes_6&#x27;,\n",
       "       &#x27;mes_5&#x27;, &#x27;mes_4&#x27;, &#x27;mes_3&#x27;, &#x27;mes_2&#x27;, &#x27;mes_1&#x27;, &#x27;valor_servic...\n",
       "       &#x27;Citas_oncologicas_cancer&#x27;, &#x27;psiquiatria_cancer&#x27;, &#x27;psicologia_cancer&#x27;,\n",
       "       &#x27;nutricion_cancer&#x27;],\n",
       "      dtype=&#x27;object&#x27;)),\n",
       "                                                                  (&#x27;cat&#x27;,\n",
       "                                                                   OneHotEncoder(handle_unknown=&#x27;ignore&#x27;),\n",
       "                                                                   [&#x27;GENERO&#x27;,\n",
       "                                                                    &#x27;ESTADO_CIVIL&#x27;,\n",
       "                                                                    &#x27;CESION&#x27;,\n",
       "                                                                    &#x27;CANCER_MAMA_FAMILIAR&#x27;,\n",
       "                                                                    &#x27;CANCER_OTRO_SITIO&#x27;,\n",
       "                                                                    &#x27;CANCER_OTRO_SITIO_FAMILIAR&#x27;,\n",
       "                                                                    &#x27;CEREBRAL_FAMILIAR&#x27;,\n",
       "                                                                    &#x27;atencion_nutricion&#x27;])]))])),\n",
       "                (&#x27;model&#x27;,\n",
       "                 SVC(C=8.420183964104496, gamma=0.6483001959471806,\n",
       "                     kernel=&#x27;linear&#x27;, probability=True))])</pre></div></div></div><div class=\"sk-serial\"><div class=\"sk-item\"><div class=\"sk-label-container\"><div class=\"sk-label sk-toggleable\"><input class=\"sk-toggleable__control sk-hidden--visually\" id=\"sk-estimator-id-10\" type=\"checkbox\" ><label for=\"sk-estimator-id-10\" class=\"sk-toggleable__label sk-toggleable__label-arrow\">data_pipeline: Pipeline</label><div class=\"sk-toggleable__content\"><pre>Pipeline(steps=[(&#x27;data_processor&#x27;,\n",
       "                 ColumnTransformer(transformers=[(&#x27;num&#x27;,\n",
       "                                                  Pipeline(steps=[(&#x27;imputer&#x27;,\n",
       "                                                                   SimpleImputer(strategy=&#x27;median&#x27;)),\n",
       "                                                                  (&#x27;scaler&#x27;,\n",
       "                                                                   StandardScaler()),\n",
       "                                                                  (&#x27;LDA_feature&#x27;,\n",
       "                                                                   LDATransformer())]),\n",
       "                                                  Index([&#x27;RIESGOS&#x27;, &#x27;PESO&#x27;, &#x27;TALLA&#x27;, &#x27;TSISTOLICA&#x27;, &#x27;TDIASTOLICA&#x27;, &#x27;mes_6&#x27;,\n",
       "       &#x27;mes_5&#x27;, &#x27;mes_4&#x27;, &#x27;mes_3&#x27;, &#x27;mes_2&#x27;, &#x27;mes_1&#x27;, &#x27;valor_servicio&#x27;,\n",
       "       &#x27;IV_NIVEL&#x27;, &#x27;HOSPI_NO_QUIRURGI...\n",
       "       &#x27;cuidado_palitiavo__cancer&#x27;, &#x27;inmunoterapias_cancer&#x27;,\n",
       "       &#x27;Citas_oncologicas_cancer&#x27;, &#x27;psiquiatria_cancer&#x27;, &#x27;psicologia_cancer&#x27;,\n",
       "       &#x27;nutricion_cancer&#x27;],\n",
       "      dtype=&#x27;object&#x27;)),\n",
       "                                                 (&#x27;cat&#x27;,\n",
       "                                                  OneHotEncoder(handle_unknown=&#x27;ignore&#x27;),\n",
       "                                                  [&#x27;GENERO&#x27;, &#x27;ESTADO_CIVIL&#x27;,\n",
       "                                                   &#x27;CESION&#x27;,\n",
       "                                                   &#x27;CANCER_MAMA_FAMILIAR&#x27;,\n",
       "                                                   &#x27;CANCER_OTRO_SITIO&#x27;,\n",
       "                                                   &#x27;CANCER_OTRO_SITIO_FAMILIAR&#x27;,\n",
       "                                                   &#x27;CEREBRAL_FAMILIAR&#x27;,\n",
       "                                                   &#x27;atencion_nutricion&#x27;])]))])</pre></div></div></div><div class=\"sk-serial\"><div class=\"sk-item sk-dashed-wrapped\"><div class=\"sk-label-container\"><div class=\"sk-label sk-toggleable\"><input class=\"sk-toggleable__control sk-hidden--visually\" id=\"sk-estimator-id-11\" type=\"checkbox\" ><label for=\"sk-estimator-id-11\" class=\"sk-toggleable__label sk-toggleable__label-arrow\">data_processor: ColumnTransformer</label><div class=\"sk-toggleable__content\"><pre>ColumnTransformer(transformers=[(&#x27;num&#x27;,\n",
       "                                 Pipeline(steps=[(&#x27;imputer&#x27;,\n",
       "                                                  SimpleImputer(strategy=&#x27;median&#x27;)),\n",
       "                                                 (&#x27;scaler&#x27;, StandardScaler()),\n",
       "                                                 (&#x27;LDA_feature&#x27;,\n",
       "                                                  LDATransformer())]),\n",
       "                                 Index([&#x27;RIESGOS&#x27;, &#x27;PESO&#x27;, &#x27;TALLA&#x27;, &#x27;TSISTOLICA&#x27;, &#x27;TDIASTOLICA&#x27;, &#x27;mes_6&#x27;,\n",
       "       &#x27;mes_5&#x27;, &#x27;mes_4&#x27;, &#x27;mes_3&#x27;, &#x27;mes_2&#x27;, &#x27;mes_1&#x27;, &#x27;valor_servicio&#x27;,\n",
       "       &#x27;IV_NIVEL&#x27;, &#x27;HOSPI_NO_QUIRURGICA&#x27;, &#x27;URGENCIAS&#x27;, &#x27;HOSPITALIZACION&#x27;,...\n",
       "       &#x27;cuidado_palitiavo__cancer&#x27;, &#x27;inmunoterapias_cancer&#x27;,\n",
       "       &#x27;Citas_oncologicas_cancer&#x27;, &#x27;psiquiatria_cancer&#x27;, &#x27;psicologia_cancer&#x27;,\n",
       "       &#x27;nutricion_cancer&#x27;],\n",
       "      dtype=&#x27;object&#x27;)),\n",
       "                                (&#x27;cat&#x27;, OneHotEncoder(handle_unknown=&#x27;ignore&#x27;),\n",
       "                                 [&#x27;GENERO&#x27;, &#x27;ESTADO_CIVIL&#x27;, &#x27;CESION&#x27;,\n",
       "                                  &#x27;CANCER_MAMA_FAMILIAR&#x27;, &#x27;CANCER_OTRO_SITIO&#x27;,\n",
       "                                  &#x27;CANCER_OTRO_SITIO_FAMILIAR&#x27;,\n",
       "                                  &#x27;CEREBRAL_FAMILIAR&#x27;, &#x27;atencion_nutricion&#x27;])])</pre></div></div></div><div class=\"sk-parallel\"><div class=\"sk-parallel-item\"><div class=\"sk-item\"><div class=\"sk-label-container\"><div class=\"sk-label sk-toggleable\"><input class=\"sk-toggleable__control sk-hidden--visually\" id=\"sk-estimator-id-12\" type=\"checkbox\" ><label for=\"sk-estimator-id-12\" class=\"sk-toggleable__label sk-toggleable__label-arrow\">num</label><div class=\"sk-toggleable__content\"><pre>Index([&#x27;RIESGOS&#x27;, &#x27;PESO&#x27;, &#x27;TALLA&#x27;, &#x27;TSISTOLICA&#x27;, &#x27;TDIASTOLICA&#x27;, &#x27;mes_6&#x27;,\n",
       "       &#x27;mes_5&#x27;, &#x27;mes_4&#x27;, &#x27;mes_3&#x27;, &#x27;mes_2&#x27;, &#x27;mes_1&#x27;, &#x27;valor_servicio&#x27;,\n",
       "       &#x27;IV_NIVEL&#x27;, &#x27;HOSPI_NO_QUIRURGICA&#x27;, &#x27;URGENCIAS&#x27;, &#x27;HOSPITALIZACION&#x27;,\n",
       "       &#x27;CITA_ONCOLOGICA&#x27;, &#x27;Biopsias_cancer&#x27;, &#x27;radioterapias_cancer&#x27;,\n",
       "       &#x27;quimioterapias__cancer&#x27;, &#x27;hormonoterapias__cancer&#x27;,\n",
       "       &#x27;cuidado_palitiavo__cancer&#x27;, &#x27;inmunoterapias_cancer&#x27;,\n",
       "       &#x27;Citas_oncologicas_cancer&#x27;, &#x27;psiquiatria_cancer&#x27;, &#x27;psicologia_cancer&#x27;,\n",
       "       &#x27;nutricion_cancer&#x27;],\n",
       "      dtype=&#x27;object&#x27;)</pre></div></div></div><div class=\"sk-serial\"><div class=\"sk-item\"><div class=\"sk-serial\"><div class=\"sk-item\"><div class=\"sk-estimator sk-toggleable\"><input class=\"sk-toggleable__control sk-hidden--visually\" id=\"sk-estimator-id-13\" type=\"checkbox\" ><label for=\"sk-estimator-id-13\" class=\"sk-toggleable__label sk-toggleable__label-arrow\">SimpleImputer</label><div class=\"sk-toggleable__content\"><pre>SimpleImputer(strategy=&#x27;median&#x27;)</pre></div></div></div><div class=\"sk-item\"><div class=\"sk-estimator sk-toggleable\"><input class=\"sk-toggleable__control sk-hidden--visually\" id=\"sk-estimator-id-14\" type=\"checkbox\" ><label for=\"sk-estimator-id-14\" class=\"sk-toggleable__label sk-toggleable__label-arrow\">StandardScaler</label><div class=\"sk-toggleable__content\"><pre>StandardScaler()</pre></div></div></div><div class=\"sk-item\"><div class=\"sk-estimator sk-toggleable\"><input class=\"sk-toggleable__control sk-hidden--visually\" id=\"sk-estimator-id-15\" type=\"checkbox\" ><label for=\"sk-estimator-id-15\" class=\"sk-toggleable__label sk-toggleable__label-arrow\">LDATransformer</label><div class=\"sk-toggleable__content\"><pre>LDATransformer()</pre></div></div></div></div></div></div></div></div><div class=\"sk-parallel-item\"><div class=\"sk-item\"><div class=\"sk-label-container\"><div class=\"sk-label sk-toggleable\"><input class=\"sk-toggleable__control sk-hidden--visually\" id=\"sk-estimator-id-16\" type=\"checkbox\" ><label for=\"sk-estimator-id-16\" class=\"sk-toggleable__label sk-toggleable__label-arrow\">cat</label><div class=\"sk-toggleable__content\"><pre>[&#x27;GENERO&#x27;, &#x27;ESTADO_CIVIL&#x27;, &#x27;CESION&#x27;, &#x27;CANCER_MAMA_FAMILIAR&#x27;, &#x27;CANCER_OTRO_SITIO&#x27;, &#x27;CANCER_OTRO_SITIO_FAMILIAR&#x27;, &#x27;CEREBRAL_FAMILIAR&#x27;, &#x27;atencion_nutricion&#x27;]</pre></div></div></div><div class=\"sk-serial\"><div class=\"sk-item\"><div class=\"sk-estimator sk-toggleable\"><input class=\"sk-toggleable__control sk-hidden--visually\" id=\"sk-estimator-id-17\" type=\"checkbox\" ><label for=\"sk-estimator-id-17\" class=\"sk-toggleable__label sk-toggleable__label-arrow\">OneHotEncoder</label><div class=\"sk-toggleable__content\"><pre>OneHotEncoder(handle_unknown=&#x27;ignore&#x27;)</pre></div></div></div></div></div></div></div></div></div></div><div class=\"sk-item\"><div class=\"sk-estimator sk-toggleable\"><input class=\"sk-toggleable__control sk-hidden--visually\" id=\"sk-estimator-id-18\" type=\"checkbox\" ><label for=\"sk-estimator-id-18\" class=\"sk-toggleable__label sk-toggleable__label-arrow\">SVC</label><div class=\"sk-toggleable__content\"><pre>SVC(C=8.420183964104496, gamma=0.6483001959471806, kernel=&#x27;linear&#x27;,\n",
       "    probability=True)</pre></div></div></div></div></div></div></div>"
      ],
      "text/plain": [
       "Pipeline(steps=[('data_pipeline',\n",
       "                 Pipeline(steps=[('data_processor',\n",
       "                                  ColumnTransformer(transformers=[('num',\n",
       "                                                                   Pipeline(steps=[('imputer',\n",
       "                                                                                    SimpleImputer(strategy='median')),\n",
       "                                                                                   ('scaler',\n",
       "                                                                                    StandardScaler()),\n",
       "                                                                                   ('LDA_feature',\n",
       "                                                                                    LDATransformer())]),\n",
       "                                                                   Index(['RIESGOS', 'PESO', 'TALLA', 'TSISTOLICA', 'TDIASTOLICA', 'mes_6',\n",
       "       'mes_5', 'mes_4', 'mes_3', 'mes_2', 'mes_1', 'valor_servic...\n",
       "       'Citas_oncologicas_cancer', 'psiquiatria_cancer', 'psicologia_cancer',\n",
       "       'nutricion_cancer'],\n",
       "      dtype='object')),\n",
       "                                                                  ('cat',\n",
       "                                                                   OneHotEncoder(handle_unknown='ignore'),\n",
       "                                                                   ['GENERO',\n",
       "                                                                    'ESTADO_CIVIL',\n",
       "                                                                    'CESION',\n",
       "                                                                    'CANCER_MAMA_FAMILIAR',\n",
       "                                                                    'CANCER_OTRO_SITIO',\n",
       "                                                                    'CANCER_OTRO_SITIO_FAMILIAR',\n",
       "                                                                    'CEREBRAL_FAMILIAR',\n",
       "                                                                    'atencion_nutricion'])]))])),\n",
       "                ('model',\n",
       "                 SVC(C=8.420183964104496, gamma=0.6483001959471806,\n",
       "                     kernel='linear', probability=True))])"
      ]
     },
     "execution_count": 32,
     "metadata": {},
     "output_type": "execute_result"
    }
   ],
   "source": [
    "best_model.fit(X, y)"
   ]
  },
  {
   "cell_type": "code",
   "execution_count": 34,
   "id": "246e919b",
   "metadata": {
    "execution": {
     "iopub.execute_input": "2024-03-18T22:55:20.967074Z",
     "iopub.status.busy": "2024-03-18T22:55:20.966498Z",
     "iopub.status.idle": "2024-03-18T22:55:20.972811Z",
     "shell.execute_reply": "2024-03-18T22:55:20.972007Z",
     "shell.execute_reply.started": "2024-03-18T22:55:20.967042Z"
    },
    "papermill": {
     "duration": null,
     "end_time": null,
     "exception": null,
     "start_time": null,
     "status": "pending"
    },
    "tags": []
   },
   "outputs": [],
   "source": [
    "with open(\"best_model.pkl\", \"wb\") as f:\n",
    "    pickle.dump(best_model, f)"
   ]
  },
  {
   "cell_type": "code",
   "execution_count": 35,
   "id": "b341e387",
   "metadata": {
    "execution": {
     "iopub.execute_input": "2024-03-18T22:55:28.161792Z",
     "iopub.status.busy": "2024-03-18T22:55:28.161404Z",
     "iopub.status.idle": "2024-03-18T22:55:30.431434Z",
     "shell.execute_reply": "2024-03-18T22:55:30.430138Z",
     "shell.execute_reply.started": "2024-03-18T22:55:28.161763Z"
    },
    "papermill": {
     "duration": null,
     "end_time": null,
     "exception": null,
     "start_time": null,
     "status": "pending"
    },
    "tags": []
   },
   "outputs": [
    {
     "data": {
      "text/plain": [
       "0.1021021021021021"
      ]
     },
     "execution_count": 35,
     "metadata": {},
     "output_type": "execute_result"
    }
   ],
   "source": [
    "test_preds = best_model.predict_proba(X_test)[:, 1]\n",
    "train_preds = best_model.predict_proba(X_train)[:, 1]\n",
    "ths = np.linspace(0, 1, 1000)\n",
    "best_th = ths[np.argmax([f1_score(y_test, test_preds>th) for th in ths])]\n",
    "best_th"
   ]
  },
  {
   "cell_type": "code",
   "execution_count": 36,
   "id": "93e40e78",
   "metadata": {
    "execution": {
     "iopub.execute_input": "2024-03-18T22:55:33.035993Z",
     "iopub.status.busy": "2024-03-18T22:55:33.03538Z",
     "iopub.status.idle": "2024-03-18T22:55:33.051412Z",
     "shell.execute_reply": "2024-03-18T22:55:33.049877Z",
     "shell.execute_reply.started": "2024-03-18T22:55:33.035961Z"
    },
    "papermill": {
     "duration": null,
     "end_time": null,
     "exception": null,
     "start_time": null,
     "status": "pending"
    },
    "tags": []
   },
   "outputs": [
    {
     "name": "stdout",
     "output_type": "stream",
     "text": [
      "Train f1: 0.5065963060686016\n",
      "Test f1: 0.5538461538461538\n"
     ]
    }
   ],
   "source": [
    "test_f1 = f1_score(y_test, test_preds>best_th)\n",
    "train_f1 = f1_score(y_train, train_preds>best_th)\n",
    "print(f\"Train f1: {train_f1}\")\n",
    "print(f\"Test f1: {test_f1}\")"
   ]
  },
  {
   "cell_type": "code",
   "execution_count": 37,
   "id": "cff2b21e",
   "metadata": {
    "execution": {
     "iopub.execute_input": "2024-03-18T22:55:37.438385Z",
     "iopub.status.busy": "2024-03-18T22:55:37.437944Z",
     "iopub.status.idle": "2024-03-18T22:55:37.806891Z",
     "shell.execute_reply": "2024-03-18T22:55:37.80563Z",
     "shell.execute_reply.started": "2024-03-18T22:55:37.438347Z"
    },
    "papermill": {
     "duration": null,
     "end_time": null,
     "exception": null,
     "start_time": null,
     "status": "pending"
    },
    "tags": []
   },
   "outputs": [
    {
     "data": {
      "image/png": "[encoded data removed]",
      "text/plain": [
       "<Figure size 640x480 with 1 Axes>"
      ]
     },
     "metadata": {},
     "output_type": "display_data"
    }
   ],
   "source": [
    "plt.hist(test_preds, bins=100)\n",
    "plt.show()"
   ]
  },
  {
   "cell_type": "markdown",
   "id": "203fd7d7",
   "metadata": {
    "papermill": {
     "duration": null,
     "end_time": null,
     "exception": null,
     "start_time": null,
     "status": "pending"
    },
    "tags": []
   },
   "source": [
    "# Submission"
   ]
  },
  {
   "cell_type": "code",
   "execution_count": 38,
   "id": "6727c85e",
   "metadata": {
    "execution": {
     "iopub.execute_input": "2024-03-18T22:55:43.150722Z",
     "iopub.status.busy": "2024-03-18T22:55:43.149361Z",
     "iopub.status.idle": "2024-03-18T22:55:43.355088Z",
     "shell.execute_reply": "2024-03-18T22:55:43.354079Z",
     "shell.execute_reply.started": "2024-03-18T22:55:43.150676Z"
    },
    "papermill": {
     "duration": null,
     "end_time": null,
     "exception": null,
     "start_time": null,
     "status": "pending"
    },
    "tags": []
   },
   "outputs": [],
   "source": [
    "test_df = pd.read_parquet(osp.join(DATA_DIR, \"df_test.parquet\"))\n",
    "submission_pred = best_model.predict_proba(test_df)[:, 1]\n",
    "submission_pred_bool = submission_pred>best_th\n",
    "submission_pred_int = [int(item) for item in submission_pred_bool]\n",
    "submission = pd.DataFrame(data=dict(ID=test_df.index, Target=submission_pred_int))\n",
    "submission.to_csv(\"submission_SVC.csv\", index=False)"
   ]
  },
  {
   "cell_type": "code",
   "execution_count": null,
   "id": "b6611e9b",
   "metadata": {
    "papermill": {
     "duration": null,
     "end_time": null,
     "exception": null,
     "start_time": null,
     "status": "pending"
    },
    "tags": []
   },
   "outputs": [],
   "source": []
  }
 ],
 "metadata": {
  "kaggle": {
   "accelerator": "none",
   "dataSources": [
    {
     "databundleVersionId": 7748115,
     "sourceId": 70907,
     "sourceType": "competition"
    }
   ],
   "dockerImageVersionId": 30664,
   "isGpuEnabled": false,
   "isInternetEnabled": true,
   "language": "python",
   "sourceType": "notebook"
  },
  "kernelspec": {
   "display_name": "Python 3 (ipykernel)",
   "language": "python",
   "name": "python3"
  },
  "language_info": {
   "codemirror_mode": {
    "name": "ipython",
    "version": 3
   },
   "file_extension": ".py",
   "mimetype": "text/x-python",
   "name": "python",
   "nbconvert_exporter": "python",
   "pygments_lexer": "ipython3",
   "version": "3.10.9"
  },
  "papermill": {
   "default_parameters": {},
   "duration": 178.940284,
   "end_time": "2023-09-06T22:34:19.583786",
   "environment_variables": {},
   "exception": true,
   "input_path": "__notebook__.ipynb",
   "output_path": "__notebook__.ipynb",
   "parameters": {},
   "start_time": "2023-09-06T22:31:20.643502",
   "version": "2.4.0"
  },
  "toc": {
   "base_numbering": 1,
   "nav_menu": {},
   "number_sections": true,
   "sideBar": true,
   "skip_h1_title": false,
   "title_cell": "Table of Contents",
   "title_sidebar": "Contents",
   "toc_cell": false,
   "toc_position": {},
   "toc_section_display": true,
   "toc_window_display": false
  },
  "varInspector": {
   "cols": {
    "lenName": 16,
    "lenType": 16,
    "lenVar": 40
   },
   "kernels_config": {
    "python": {
     "delete_cmd_postfix": "",
     "delete_cmd_prefix": "del ",
     "library": "var_list.py",
     "varRefreshCmd": "print(var_dic_list())"
    },
    "r": {
     "delete_cmd_postfix": ") ",
     "delete_cmd_prefix": "rm(",
     "library": "var_list.r",
     "varRefreshCmd": "cat(var_dic_list()) "
    }
   },
   "types_to_exclude": [
    "module",
    "function",
    "builtin_function_or_method",
    "instance",
    "_Feature"
   ],
   "window_display": false
  }
 },
 "nbformat": 4,
 "nbformat_minor": 5
}
