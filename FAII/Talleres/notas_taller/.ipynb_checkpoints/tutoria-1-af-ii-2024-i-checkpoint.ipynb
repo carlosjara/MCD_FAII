{
 "cells": [
  {
   "cell_type": "code",
   "execution_count": 1,
   "id": "406c08d6",
   "metadata": {
    "_cell_guid": "b1076dfc-b9ad-4769-8c92-a6c4dae69d19",
    "_uuid": "8f2839f25d086af736a60e9eeb907d3b93b6e0e5",
    "execution": {
     "iopub.execute_input": "2024-03-11T01:59:00.175500Z",
     "iopub.status.busy": "2024-03-11T01:59:00.175131Z",
     "iopub.status.idle": "2024-03-11T01:59:02.534859Z",
     "shell.execute_reply": "2024-03-11T01:59:02.533713Z"
    },
    "papermill": {
     "duration": 2.370856,
     "end_time": "2024-03-11T01:59:02.537601",
     "exception": false,
     "start_time": "2024-03-11T01:59:00.166745",
     "status": "completed"
    },
    "tags": []
   },
   "outputs": [
    {
     "name": "stdout",
     "output_type": "stream",
     "text": [
      "/kaggle/input/fa-ii-2024-i-flujos-de-modelos-tradicionales/sample_submission.csv\n",
      "/kaggle/input/fa-ii-2024-i-flujos-de-modelos-tradicionales/Diccionario.xlsx\n",
      "/kaggle/input/fa-ii-2024-i-flujos-de-modelos-tradicionales/df_test.parquet\n",
      "/kaggle/input/fa-ii-2024-i-flujos-de-modelos-tradicionales/df_train.parquet\n"
     ]
    }
   ],
   "source": [
    "# This Python 3 environment comes with many helpful analytics libraries installed\n",
    "# It is defined by the kaggle/python Docker image: https://github.com/kaggle/docker-python\n",
    "# For example, here's several helpful packages to load\n",
    "import pickle\n",
    "\n",
    "import numpy as np # linear algebra\n",
    "import pandas as pd # data processing, CSV file I/O (e.g. pd.read_csv)\n",
    "import pandas as pd\n",
    "import os.path as osp \n",
    "import os\n",
    "from sklearn.model_selection import train_test_split\n",
    "from sklearn.pipeline import Pipeline\n",
    "from sklearn.preprocessing import (\n",
    "    StandardScaler, MinMaxScaler, OneHotEncoder\n",
    ")\n",
    "from sklearn.impute import SimpleImputer\n",
    "from sklearn.compose import ColumnTransformer\n",
    "from sklearn.svm import SVC\n",
    "from sklearn.linear_model import LogisticRegression\n",
    "from sklearn.decomposition import PCA\n",
    "from sklearn.metrics import roc_auc_score, f1_score\n",
    "from sklearn import set_config\n",
    "set_config(display=\"diagram\")\n",
    "\n",
    "from bayes_opt import BayesianOptimization\n",
    "from bayes_opt.logger import JSONLogger\n",
    "from bayes_opt.event import Events\n",
    "\n",
    "import matplotlib.pyplot as plt\n",
    "# Input data files are available in the read-only \"../input/\" directory\n",
    "# For example, running this (by clicking run or pressing Shift+Enter) will list all files under the input directory\n",
    "\n",
    "for dirname, _, filenames in os.walk('/kaggle/input'):\n",
    "    for filename in filenames:\n",
    "        print(os.path.join(dirname, filename))\n",
    "\n",
    "# You can write up to 20GB to the current directory (/kaggle/working/) that gets preserved as output when you create a version using \"Save & Run All\" \n",
    "# You can also write temporary files to /kaggle/temp/, but they won't be saved outside of the current session"
   ]
  },
  {
   "cell_type": "code",
   "execution_count": 2,
   "id": "4692f219",
   "metadata": {
    "execution": {
     "iopub.execute_input": "2024-03-11T01:59:02.552775Z",
     "iopub.status.busy": "2024-03-11T01:59:02.552206Z",
     "iopub.status.idle": "2024-03-11T01:59:02.828359Z",
     "shell.execute_reply": "2024-03-11T01:59:02.827204Z"
    },
    "papermill": {
     "duration": 0.286562,
     "end_time": "2024-03-11T01:59:02.830830",
     "exception": false,
     "start_time": "2024-03-11T01:59:02.544268",
     "status": "completed"
    },
    "tags": []
   },
   "outputs": [
    {
     "data": {
      "text/html": [
       "<div>\n",
       "<style scoped>\n",
       "    .dataframe tbody tr th:only-of-type {\n",
       "        vertical-align: middle;\n",
       "    }\n",
       "\n",
       "    .dataframe tbody tr th {\n",
       "        vertical-align: top;\n",
       "    }\n",
       "\n",
       "    .dataframe thead th {\n",
       "        text-align: right;\n",
       "    }\n",
       "</style>\n",
       "<table border=\"1\" class=\"dataframe\">\n",
       "  <thead>\n",
       "    <tr style=\"text-align: right;\">\n",
       "      <th></th>\n",
       "      <th>GENERO</th>\n",
       "      <th>ESTADO_CIVIL</th>\n",
       "      <th>FECHA_NACIMIENTO</th>\n",
       "      <th>CODIGO_SEDE</th>\n",
       "      <th>MULTI_CANCER</th>\n",
       "      <th>CESION</th>\n",
       "      <th>RIESGOS</th>\n",
       "      <th>CANCER_MAMA_FAMILIAR</th>\n",
       "      <th>CANCER_OTRO_SITIO</th>\n",
       "      <th>CANCER_OTRO_SITIO_FAMILIAR</th>\n",
       "      <th>...</th>\n",
       "      <th>radioterapias_cancer</th>\n",
       "      <th>quimioterapias__cancer</th>\n",
       "      <th>hormonoterapias__cancer</th>\n",
       "      <th>cuidado_palitiavo__cancer</th>\n",
       "      <th>inmunoterapias_cancer</th>\n",
       "      <th>Citas_oncologicas_cancer</th>\n",
       "      <th>psiquiatria_cancer</th>\n",
       "      <th>psicologia_cancer</th>\n",
       "      <th>nutricion_cancer</th>\n",
       "      <th>atencion_nutricion</th>\n",
       "    </tr>\n",
       "    <tr>\n",
       "      <th>ID</th>\n",
       "      <th></th>\n",
       "      <th></th>\n",
       "      <th></th>\n",
       "      <th></th>\n",
       "      <th></th>\n",
       "      <th></th>\n",
       "      <th></th>\n",
       "      <th></th>\n",
       "      <th></th>\n",
       "      <th></th>\n",
       "      <th></th>\n",
       "      <th></th>\n",
       "      <th></th>\n",
       "      <th></th>\n",
       "      <th></th>\n",
       "      <th></th>\n",
       "      <th></th>\n",
       "      <th></th>\n",
       "      <th></th>\n",
       "      <th></th>\n",
       "      <th></th>\n",
       "    </tr>\n",
       "  </thead>\n",
       "  <tbody>\n",
       "    <tr>\n",
       "      <th>2987</th>\n",
       "      <td>F</td>\n",
       "      <td>SO</td>\n",
       "      <td>1977-01-17</td>\n",
       "      <td>1051</td>\n",
       "      <td>None</td>\n",
       "      <td>0</td>\n",
       "      <td>2.0</td>\n",
       "      <td>0</td>\n",
       "      <td>0</td>\n",
       "      <td>1</td>\n",
       "      <td>...</td>\n",
       "      <td>0.0</td>\n",
       "      <td>0.0</td>\n",
       "      <td>0.0</td>\n",
       "      <td>0.0</td>\n",
       "      <td>0.0</td>\n",
       "      <td>2.0</td>\n",
       "      <td>0.0</td>\n",
       "      <td>0.0</td>\n",
       "      <td>0.0</td>\n",
       "      <td>Sin servicios nutricion</td>\n",
       "    </tr>\n",
       "    <tr>\n",
       "      <th>3423</th>\n",
       "      <td>F</td>\n",
       "      <td>CA</td>\n",
       "      <td>1980-10-13</td>\n",
       "      <td>1028</td>\n",
       "      <td>None</td>\n",
       "      <td>0</td>\n",
       "      <td>1.0</td>\n",
       "      <td>0</td>\n",
       "      <td>0</td>\n",
       "      <td>0</td>\n",
       "      <td>...</td>\n",
       "      <td>0.0</td>\n",
       "      <td>0.0</td>\n",
       "      <td>0.0</td>\n",
       "      <td>0.0</td>\n",
       "      <td>0.0</td>\n",
       "      <td>5.0</td>\n",
       "      <td>1.0</td>\n",
       "      <td>1.0</td>\n",
       "      <td>0.0</td>\n",
       "      <td>Sin servicios nutricion</td>\n",
       "    </tr>\n",
       "    <tr>\n",
       "      <th>6981</th>\n",
       "      <td>F</td>\n",
       "      <td>SO</td>\n",
       "      <td>1951-10-28</td>\n",
       "      <td>1022</td>\n",
       "      <td>None</td>\n",
       "      <td>0</td>\n",
       "      <td>3.0</td>\n",
       "      <td>0</td>\n",
       "      <td>0</td>\n",
       "      <td>0</td>\n",
       "      <td>...</td>\n",
       "      <td>0.0</td>\n",
       "      <td>0.0</td>\n",
       "      <td>0.0</td>\n",
       "      <td>0.0</td>\n",
       "      <td>0.0</td>\n",
       "      <td>0.0</td>\n",
       "      <td>0.0</td>\n",
       "      <td>0.0</td>\n",
       "      <td>1.0</td>\n",
       "      <td>Una servicio nutricion</td>\n",
       "    </tr>\n",
       "    <tr>\n",
       "      <th>6701</th>\n",
       "      <td>F</td>\n",
       "      <td>SO</td>\n",
       "      <td>1984-03-31</td>\n",
       "      <td>1026</td>\n",
       "      <td>None</td>\n",
       "      <td>0</td>\n",
       "      <td>1.0</td>\n",
       "      <td>0</td>\n",
       "      <td>0</td>\n",
       "      <td>0</td>\n",
       "      <td>...</td>\n",
       "      <td>0.0</td>\n",
       "      <td>0.0</td>\n",
       "      <td>0.0</td>\n",
       "      <td>0.0</td>\n",
       "      <td>0.0</td>\n",
       "      <td>4.0</td>\n",
       "      <td>0.0</td>\n",
       "      <td>0.0</td>\n",
       "      <td>0.0</td>\n",
       "      <td>Sin servicios nutricion</td>\n",
       "    </tr>\n",
       "    <tr>\n",
       "      <th>7361</th>\n",
       "      <td>F</td>\n",
       "      <td>UL</td>\n",
       "      <td>1974-03-28</td>\n",
       "      <td>1007</td>\n",
       "      <td>None</td>\n",
       "      <td>0</td>\n",
       "      <td>1.0</td>\n",
       "      <td>0</td>\n",
       "      <td>0</td>\n",
       "      <td>0</td>\n",
       "      <td>...</td>\n",
       "      <td>0.0</td>\n",
       "      <td>1.0</td>\n",
       "      <td>0.0</td>\n",
       "      <td>0.0</td>\n",
       "      <td>0.0</td>\n",
       "      <td>7.0</td>\n",
       "      <td>0.0</td>\n",
       "      <td>0.0</td>\n",
       "      <td>0.0</td>\n",
       "      <td>Sin servicios nutricion</td>\n",
       "    </tr>\n",
       "    <tr>\n",
       "      <th>...</th>\n",
       "      <td>...</td>\n",
       "      <td>...</td>\n",
       "      <td>...</td>\n",
       "      <td>...</td>\n",
       "      <td>...</td>\n",
       "      <td>...</td>\n",
       "      <td>...</td>\n",
       "      <td>...</td>\n",
       "      <td>...</td>\n",
       "      <td>...</td>\n",
       "      <td>...</td>\n",
       "      <td>...</td>\n",
       "      <td>...</td>\n",
       "      <td>...</td>\n",
       "      <td>...</td>\n",
       "      <td>...</td>\n",
       "      <td>...</td>\n",
       "      <td>...</td>\n",
       "      <td>...</td>\n",
       "      <td>...</td>\n",
       "      <td>...</td>\n",
       "    </tr>\n",
       "    <tr>\n",
       "      <th>6344</th>\n",
       "      <td>F</td>\n",
       "      <td>UL</td>\n",
       "      <td>1979-08-20</td>\n",
       "      <td>1223</td>\n",
       "      <td>None</td>\n",
       "      <td>0</td>\n",
       "      <td>1.0</td>\n",
       "      <td>0</td>\n",
       "      <td>0</td>\n",
       "      <td>0</td>\n",
       "      <td>...</td>\n",
       "      <td>0.0</td>\n",
       "      <td>0.0</td>\n",
       "      <td>0.0</td>\n",
       "      <td>0.0</td>\n",
       "      <td>0.0</td>\n",
       "      <td>3.0</td>\n",
       "      <td>0.0</td>\n",
       "      <td>0.0</td>\n",
       "      <td>0.0</td>\n",
       "      <td>Sin servicios nutricion</td>\n",
       "    </tr>\n",
       "    <tr>\n",
       "      <th>4050</th>\n",
       "      <td>F</td>\n",
       "      <td>SO</td>\n",
       "      <td>1973-07-19</td>\n",
       "      <td>1007</td>\n",
       "      <td>None</td>\n",
       "      <td>0</td>\n",
       "      <td>2.0</td>\n",
       "      <td>1</td>\n",
       "      <td>0</td>\n",
       "      <td>0</td>\n",
       "      <td>...</td>\n",
       "      <td>0.0</td>\n",
       "      <td>0.0</td>\n",
       "      <td>0.0</td>\n",
       "      <td>0.0</td>\n",
       "      <td>0.0</td>\n",
       "      <td>0.0</td>\n",
       "      <td>0.0</td>\n",
       "      <td>0.0</td>\n",
       "      <td>0.0</td>\n",
       "      <td>Sin servicios nutricion</td>\n",
       "    </tr>\n",
       "    <tr>\n",
       "      <th>1040</th>\n",
       "      <td>F</td>\n",
       "      <td>CA</td>\n",
       "      <td>1971-05-12</td>\n",
       "      <td>1008</td>\n",
       "      <td>None</td>\n",
       "      <td>0</td>\n",
       "      <td>1.0</td>\n",
       "      <td>0</td>\n",
       "      <td>0</td>\n",
       "      <td>0</td>\n",
       "      <td>...</td>\n",
       "      <td>0.0</td>\n",
       "      <td>0.0</td>\n",
       "      <td>0.0</td>\n",
       "      <td>0.0</td>\n",
       "      <td>0.0</td>\n",
       "      <td>6.0</td>\n",
       "      <td>0.0</td>\n",
       "      <td>0.0</td>\n",
       "      <td>3.0</td>\n",
       "      <td>Multiple servicio nutricion</td>\n",
       "    </tr>\n",
       "    <tr>\n",
       "      <th>1472</th>\n",
       "      <td>F</td>\n",
       "      <td>UL</td>\n",
       "      <td>1969-09-03</td>\n",
       "      <td>1008</td>\n",
       "      <td>None</td>\n",
       "      <td>0</td>\n",
       "      <td>0.0</td>\n",
       "      <td>1</td>\n",
       "      <td>0</td>\n",
       "      <td>0</td>\n",
       "      <td>...</td>\n",
       "      <td>0.0</td>\n",
       "      <td>0.0</td>\n",
       "      <td>1.0</td>\n",
       "      <td>0.0</td>\n",
       "      <td>0.0</td>\n",
       "      <td>0.0</td>\n",
       "      <td>0.0</td>\n",
       "      <td>0.0</td>\n",
       "      <td>0.0</td>\n",
       "      <td>Sin servicios nutricion</td>\n",
       "    </tr>\n",
       "    <tr>\n",
       "      <th>898</th>\n",
       "      <td>F</td>\n",
       "      <td>VI</td>\n",
       "      <td>1955-06-25</td>\n",
       "      <td>3109</td>\n",
       "      <td>1</td>\n",
       "      <td>0</td>\n",
       "      <td>4.0</td>\n",
       "      <td>0</td>\n",
       "      <td>0</td>\n",
       "      <td>0</td>\n",
       "      <td>...</td>\n",
       "      <td>0.0</td>\n",
       "      <td>0.0</td>\n",
       "      <td>0.0</td>\n",
       "      <td>0.0</td>\n",
       "      <td>0.0</td>\n",
       "      <td>5.0</td>\n",
       "      <td>0.0</td>\n",
       "      <td>0.0</td>\n",
       "      <td>0.0</td>\n",
       "      <td>Sin servicios nutricion</td>\n",
       "    </tr>\n",
       "  </tbody>\n",
       "</table>\n",
       "<p>3955 rows × 42 columns</p>\n",
       "</div>"
      ],
      "text/plain": [
       "     GENERO ESTADO_CIVIL FECHA_NACIMIENTO CODIGO_SEDE MULTI_CANCER CESION  \\\n",
       "ID                                                                          \n",
       "2987      F           SO       1977-01-17        1051         None      0   \n",
       "3423      F           CA       1980-10-13        1028         None      0   \n",
       "6981      F           SO       1951-10-28        1022         None      0   \n",
       "6701      F           SO       1984-03-31        1026         None      0   \n",
       "7361      F           UL       1974-03-28        1007         None      0   \n",
       "...     ...          ...              ...         ...          ...    ...   \n",
       "6344      F           UL       1979-08-20        1223         None      0   \n",
       "4050      F           SO       1973-07-19        1007         None      0   \n",
       "1040      F           CA       1971-05-12        1008         None      0   \n",
       "1472      F           UL       1969-09-03        1008         None      0   \n",
       "898       F           VI       1955-06-25        3109            1      0   \n",
       "\n",
       "      RIESGOS CANCER_MAMA_FAMILIAR CANCER_OTRO_SITIO  \\\n",
       "ID                                                     \n",
       "2987      2.0                    0                 0   \n",
       "3423      1.0                    0                 0   \n",
       "6981      3.0                    0                 0   \n",
       "6701      1.0                    0                 0   \n",
       "7361      1.0                    0                 0   \n",
       "...       ...                  ...               ...   \n",
       "6344      1.0                    0                 0   \n",
       "4050      2.0                    1                 0   \n",
       "1040      1.0                    0                 0   \n",
       "1472      0.0                    1                 0   \n",
       "898       4.0                    0                 0   \n",
       "\n",
       "     CANCER_OTRO_SITIO_FAMILIAR  ... radioterapias_cancer  \\\n",
       "ID                               ...                        \n",
       "2987                          1  ...                  0.0   \n",
       "3423                          0  ...                  0.0   \n",
       "6981                          0  ...                  0.0   \n",
       "6701                          0  ...                  0.0   \n",
       "7361                          0  ...                  0.0   \n",
       "...                         ...  ...                  ...   \n",
       "6344                          0  ...                  0.0   \n",
       "4050                          0  ...                  0.0   \n",
       "1040                          0  ...                  0.0   \n",
       "1472                          0  ...                  0.0   \n",
       "898                           0  ...                  0.0   \n",
       "\n",
       "     quimioterapias__cancer  hormonoterapias__cancer  \\\n",
       "ID                                                     \n",
       "2987                    0.0                      0.0   \n",
       "3423                    0.0                      0.0   \n",
       "6981                    0.0                      0.0   \n",
       "6701                    0.0                      0.0   \n",
       "7361                    1.0                      0.0   \n",
       "...                     ...                      ...   \n",
       "6344                    0.0                      0.0   \n",
       "4050                    0.0                      0.0   \n",
       "1040                    0.0                      0.0   \n",
       "1472                    0.0                      1.0   \n",
       "898                     0.0                      0.0   \n",
       "\n",
       "      cuidado_palitiavo__cancer inmunoterapias_cancer  \\\n",
       "ID                                                      \n",
       "2987                        0.0                   0.0   \n",
       "3423                        0.0                   0.0   \n",
       "6981                        0.0                   0.0   \n",
       "6701                        0.0                   0.0   \n",
       "7361                        0.0                   0.0   \n",
       "...                         ...                   ...   \n",
       "6344                        0.0                   0.0   \n",
       "4050                        0.0                   0.0   \n",
       "1040                        0.0                   0.0   \n",
       "1472                        0.0                   0.0   \n",
       "898                         0.0                   0.0   \n",
       "\n",
       "      Citas_oncologicas_cancer  psiquiatria_cancer psicologia_cancer  \\\n",
       "ID                                                                     \n",
       "2987                       2.0                 0.0               0.0   \n",
       "3423                       5.0                 1.0               1.0   \n",
       "6981                       0.0                 0.0               0.0   \n",
       "6701                       4.0                 0.0               0.0   \n",
       "7361                       7.0                 0.0               0.0   \n",
       "...                        ...                 ...               ...   \n",
       "6344                       3.0                 0.0               0.0   \n",
       "4050                       0.0                 0.0               0.0   \n",
       "1040                       6.0                 0.0               0.0   \n",
       "1472                       0.0                 0.0               0.0   \n",
       "898                        5.0                 0.0               0.0   \n",
       "\n",
       "      nutricion_cancer           atencion_nutricion  \n",
       "ID                                                   \n",
       "2987               0.0      Sin servicios nutricion  \n",
       "3423               0.0      Sin servicios nutricion  \n",
       "6981               1.0       Una servicio nutricion  \n",
       "6701               0.0      Sin servicios nutricion  \n",
       "7361               0.0      Sin servicios nutricion  \n",
       "...                ...                          ...  \n",
       "6344               0.0      Sin servicios nutricion  \n",
       "4050               0.0      Sin servicios nutricion  \n",
       "1040               3.0  Multiple servicio nutricion  \n",
       "1472               0.0      Sin servicios nutricion  \n",
       "898                0.0      Sin servicios nutricion  \n",
       "\n",
       "[3955 rows x 42 columns]"
      ]
     },
     "execution_count": 2,
     "metadata": {},
     "output_type": "execute_result"
    }
   ],
   "source": [
    "DATA_DIR = \"/kaggle/input/fa-ii-2024-i-flujos-de-modelos-tradicionales/\"\n",
    "df = pd.read_parquet(osp.join(DATA_DIR, \"df_train.parquet\"))\n",
    "df"
   ]
  },
  {
   "cell_type": "code",
   "execution_count": 3,
   "id": "a1488f85",
   "metadata": {
    "execution": {
     "iopub.execute_input": "2024-03-11T01:59:02.846606Z",
     "iopub.status.busy": "2024-03-11T01:59:02.846235Z",
     "iopub.status.idle": "2024-03-11T01:59:02.857846Z",
     "shell.execute_reply": "2024-03-11T01:59:02.856703Z"
    },
    "papermill": {
     "duration": 0.022091,
     "end_time": "2024-03-11T01:59:02.860059",
     "exception": false,
     "start_time": "2024-03-11T01:59:02.837968",
     "status": "completed"
    },
    "tags": []
   },
   "outputs": [
    {
     "data": {
      "text/plain": [
       "GENERO                           0\n",
       "ESTADO_CIVIL                     0\n",
       "FECHA_NACIMIENTO                 0\n",
       "CODIGO_SEDE                      0\n",
       "MULTI_CANCER                  3618\n",
       "CESION                           0\n",
       "RIESGOS                          0\n",
       "CANCER_MAMA_FAMILIAR             0\n",
       "CANCER_OTRO_SITIO                0\n",
       "CANCER_OTRO_SITIO_FAMILIAR       0\n",
       "CEREBRAL_FAMILIAR                0\n",
       "FECHA_DATOS_PESO_TALLA           0\n",
       "PESO                           133\n",
       "TALLA                          133\n",
       "FECHA_CONSULTA_TENSION           0\n",
       "TSISTOLICA                     140\n",
       "TDIASTOLICA                    140\n",
       "Fecha_cero                       0\n",
       "Target                           0\n",
       "mes_6                            0\n",
       "mes_5                            0\n",
       "mes_4                            0\n",
       "mes_3                            0\n",
       "mes_2                            0\n",
       "mes_1                            0\n",
       "valor_servicio                   0\n",
       "IV_NIVEL                         0\n",
       "HOSPI_NO_QUIRURGICA              0\n",
       "URGENCIAS                        0\n",
       "HOSPITALIZACION                  0\n",
       "CITA_ONCOLOGICA                  0\n",
       "Biopsias_cancer                  0\n",
       "radioterapias_cancer             0\n",
       "quimioterapias__cancer           0\n",
       "hormonoterapias__cancer          0\n",
       "cuidado_palitiavo__cancer        0\n",
       "inmunoterapias_cancer            0\n",
       "Citas_oncologicas_cancer         0\n",
       "psiquiatria_cancer               0\n",
       "psicologia_cancer                0\n",
       "nutricion_cancer                 0\n",
       "atencion_nutricion               0\n",
       "dtype: int64"
      ]
     },
     "execution_count": 3,
     "metadata": {},
     "output_type": "execute_result"
    }
   ],
   "source": [
    "df.isna().sum(0)#.plot(kind=\"barh\")"
   ]
  },
  {
   "cell_type": "code",
   "execution_count": 4,
   "id": "faba3872",
   "metadata": {
    "execution": {
     "iopub.execute_input": "2024-03-11T01:59:02.876372Z",
     "iopub.status.busy": "2024-03-11T01:59:02.875590Z",
     "iopub.status.idle": "2024-03-11T01:59:02.892883Z",
     "shell.execute_reply": "2024-03-11T01:59:02.891715Z"
    },
    "papermill": {
     "duration": 0.027875,
     "end_time": "2024-03-11T01:59:02.895135",
     "exception": false,
     "start_time": "2024-03-11T01:59:02.867260",
     "status": "completed"
    },
    "tags": []
   },
   "outputs": [
    {
     "data": {
      "text/plain": [
       "Target\n",
       "0.0    0.886979\n",
       "1.0    0.113021\n",
       "Name: proportion, dtype: float64"
      ]
     },
     "execution_count": 4,
     "metadata": {},
     "output_type": "execute_result"
    }
   ],
   "source": [
    "df.Target.value_counts(True)"
   ]
  },
  {
   "cell_type": "code",
   "execution_count": 5,
   "id": "192bb89d",
   "metadata": {
    "execution": {
     "iopub.execute_input": "2024-03-11T01:59:02.911358Z",
     "iopub.status.busy": "2024-03-11T01:59:02.910832Z",
     "iopub.status.idle": "2024-03-11T01:59:02.919663Z",
     "shell.execute_reply": "2024-03-11T01:59:02.918564Z"
    },
    "papermill": {
     "duration": 0.019247,
     "end_time": "2024-03-11T01:59:02.921784",
     "exception": false,
     "start_time": "2024-03-11T01:59:02.902537",
     "status": "completed"
    },
    "tags": []
   },
   "outputs": [
    {
     "data": {
      "text/plain": [
       "RIESGOS\n",
       "1.0    1708\n",
       "2.0     801\n",
       "0.0     686\n",
       "3.0     453\n",
       "4.0     206\n",
       "5.0      75\n",
       "6.0      12\n",
       "7.0      12\n",
       "8.0       2\n",
       "Name: count, dtype: int64"
      ]
     },
     "execution_count": 5,
     "metadata": {},
     "output_type": "execute_result"
    }
   ],
   "source": [
    "df.RIESGOS.value_counts()"
   ]
  },
  {
   "cell_type": "code",
   "execution_count": 6,
   "id": "c9b1b366",
   "metadata": {
    "execution": {
     "iopub.execute_input": "2024-03-11T01:59:02.938502Z",
     "iopub.status.busy": "2024-03-11T01:59:02.937731Z",
     "iopub.status.idle": "2024-03-11T01:59:02.957654Z",
     "shell.execute_reply": "2024-03-11T01:59:02.956304Z"
    },
    "papermill": {
     "duration": 0.03041,
     "end_time": "2024-03-11T01:59:02.959660",
     "exception": false,
     "start_time": "2024-03-11T01:59:02.929250",
     "status": "completed"
    },
    "tags": []
   },
   "outputs": [
    {
     "name": "stdout",
     "output_type": "stream",
     "text": [
      "<class 'pandas.core.frame.DataFrame'>\n",
      "Index: 3955 entries, 2987 to 898\n",
      "Data columns (total 42 columns):\n",
      " #   Column                      Non-Null Count  Dtype         \n",
      "---  ------                      --------------  -----         \n",
      " 0   GENERO                      3955 non-null   object        \n",
      " 1   ESTADO_CIVIL                3955 non-null   object        \n",
      " 2   FECHA_NACIMIENTO            3955 non-null   datetime64[us]\n",
      " 3   CODIGO_SEDE                 3955 non-null   object        \n",
      " 4   MULTI_CANCER                337 non-null    object        \n",
      " 5   CESION                      3955 non-null   object        \n",
      " 6   RIESGOS                     3955 non-null   float64       \n",
      " 7   CANCER_MAMA_FAMILIAR        3955 non-null   object        \n",
      " 8   CANCER_OTRO_SITIO           3955 non-null   object        \n",
      " 9   CANCER_OTRO_SITIO_FAMILIAR  3955 non-null   object        \n",
      " 10  CEREBRAL_FAMILIAR           3955 non-null   object        \n",
      " 11  FECHA_DATOS_PESO_TALLA      3955 non-null   datetime64[us]\n",
      " 12  PESO                        3822 non-null   float64       \n",
      " 13  TALLA                       3822 non-null   float64       \n",
      " 14  FECHA_CONSULTA_TENSION      3955 non-null   datetime64[us]\n",
      " 15  TSISTOLICA                  3815 non-null   float64       \n",
      " 16  TDIASTOLICA                 3815 non-null   float64       \n",
      " 17  Fecha_cero                  3955 non-null   datetime64[us]\n",
      " 18  Target                      3955 non-null   float64       \n",
      " 19  mes_6                       3955 non-null   float64       \n",
      " 20  mes_5                       3955 non-null   float64       \n",
      " 21  mes_4                       3955 non-null   float64       \n",
      " 22  mes_3                       3955 non-null   float64       \n",
      " 23  mes_2                       3955 non-null   float64       \n",
      " 24  mes_1                       3955 non-null   float64       \n",
      " 25  valor_servicio              3955 non-null   float64       \n",
      " 26  IV_NIVEL                    3955 non-null   float64       \n",
      " 27  HOSPI_NO_QUIRURGICA         3955 non-null   float64       \n",
      " 28  URGENCIAS                   3955 non-null   float64       \n",
      " 29  HOSPITALIZACION             3955 non-null   float64       \n",
      " 30  CITA_ONCOLOGICA             3955 non-null   float64       \n",
      " 31  Biopsias_cancer             3955 non-null   float64       \n",
      " 32  radioterapias_cancer        3955 non-null   float64       \n",
      " 33  quimioterapias__cancer      3955 non-null   float64       \n",
      " 34  hormonoterapias__cancer     3955 non-null   float64       \n",
      " 35  cuidado_palitiavo__cancer   3955 non-null   float64       \n",
      " 36  inmunoterapias_cancer       3955 non-null   float64       \n",
      " 37  Citas_oncologicas_cancer    3955 non-null   float64       \n",
      " 38  psiquiatria_cancer          3955 non-null   float64       \n",
      " 39  psicologia_cancer           3955 non-null   float64       \n",
      " 40  nutricion_cancer            3955 non-null   float64       \n",
      " 41  atencion_nutricion          3955 non-null   object        \n",
      "dtypes: datetime64[us](4), float64(28), object(10)\n",
      "memory usage: 1.3+ MB\n"
     ]
    }
   ],
   "source": [
    "df.info()"
   ]
  },
  {
   "cell_type": "code",
   "execution_count": 7,
   "id": "5af6ccb1",
   "metadata": {
    "execution": {
     "iopub.execute_input": "2024-03-11T01:59:02.976246Z",
     "iopub.status.busy": "2024-03-11T01:59:02.975851Z",
     "iopub.status.idle": "2024-03-11T01:59:02.982305Z",
     "shell.execute_reply": "2024-03-11T01:59:02.980946Z"
    },
    "papermill": {
     "duration": 0.017295,
     "end_time": "2024-03-11T01:59:02.984464",
     "exception": false,
     "start_time": "2024-03-11T01:59:02.967169",
     "status": "completed"
    },
    "tags": []
   },
   "outputs": [],
   "source": [
    "df['TSISTOLICA'] = df['TSISTOLICA'].astype(float)\n",
    "df['TDIASTOLICA'] = df['TDIASTOLICA'].astype(float)"
   ]
  },
  {
   "cell_type": "code",
   "execution_count": 8,
   "id": "527cb54a",
   "metadata": {
    "execution": {
     "iopub.execute_input": "2024-03-11T01:59:03.001231Z",
     "iopub.status.busy": "2024-03-11T01:59:03.000805Z",
     "iopub.status.idle": "2024-03-11T01:59:03.010459Z",
     "shell.execute_reply": "2024-03-11T01:59:03.009500Z"
    },
    "papermill": {
     "duration": 0.020647,
     "end_time": "2024-03-11T01:59:03.012798",
     "exception": false,
     "start_time": "2024-03-11T01:59:02.992151",
     "status": "completed"
    },
    "tags": []
   },
   "outputs": [],
   "source": [
    "df = df.dropna(subset=[\"Target\"])"
   ]
  },
  {
   "cell_type": "code",
   "execution_count": 9,
   "id": "aeed5064",
   "metadata": {
    "execution": {
     "iopub.execute_input": "2024-03-11T01:59:03.030793Z",
     "iopub.status.busy": "2024-03-11T01:59:03.030407Z",
     "iopub.status.idle": "2024-03-11T01:59:03.040753Z",
     "shell.execute_reply": "2024-03-11T01:59:03.039701Z"
    },
    "papermill": {
     "duration": 0.021548,
     "end_time": "2024-03-11T01:59:03.043095",
     "exception": false,
     "start_time": "2024-03-11T01:59:03.021547",
     "status": "completed"
    },
    "tags": []
   },
   "outputs": [
    {
     "data": {
      "text/plain": [
       "Target\n",
       "0.0    88.697851\n",
       "1.0    11.302149\n",
       "Name: proportion, dtype: float64"
      ]
     },
     "execution_count": 9,
     "metadata": {},
     "output_type": "execute_result"
    }
   ],
   "source": [
    "X, y = df.drop(columns=\"Target\"), df[\"Target\"]\n",
    "y.value_counts(True) * 100"
   ]
  },
  {
   "cell_type": "code",
   "execution_count": 10,
   "id": "a3550e9e",
   "metadata": {
    "execution": {
     "iopub.execute_input": "2024-03-11T01:59:03.060307Z",
     "iopub.status.busy": "2024-03-11T01:59:03.059474Z",
     "iopub.status.idle": "2024-03-11T01:59:03.081614Z",
     "shell.execute_reply": "2024-03-11T01:59:03.080486Z"
    },
    "papermill": {
     "duration": 0.03359,
     "end_time": "2024-03-11T01:59:03.084177",
     "exception": false,
     "start_time": "2024-03-11T01:59:03.050587",
     "status": "completed"
    },
    "tags": []
   },
   "outputs": [],
   "source": [
    "columnas_numerico=['MULTI_CANCER','RIESGOS','CESION','CANCER_MAMA_FAMILIAR','CANCER_OTRO_SITIO','CANCER_OTRO_SITIO_FAMILIAR','CEREBRAL_FAMILIAR']\n",
    "X[columnas_numerico] = X[columnas_numerico].astype(float)\n",
    "\n",
    "columnas_categ= ['GENERO','ESTADO_CIVIL',#'CODIGO_SEDE',\n",
    "                 'CESION','CANCER_MAMA_FAMILIAR',\n",
    "                'CANCER_OTRO_SITIO','CANCER_OTRO_SITIO_FAMILIAR','CEREBRAL_FAMILIAR'\n",
    "                ,'atencion_nutricion'\n",
    "                ]\n",
    "X[columnas_categ] = X[columnas_categ].astype(str)"
   ]
  },
  {
   "cell_type": "code",
   "execution_count": 11,
   "id": "1e8fed70",
   "metadata": {
    "execution": {
     "iopub.execute_input": "2024-03-11T01:59:03.100973Z",
     "iopub.status.busy": "2024-03-11T01:59:03.100555Z",
     "iopub.status.idle": "2024-03-11T01:59:03.111648Z",
     "shell.execute_reply": "2024-03-11T01:59:03.110556Z"
    },
    "papermill": {
     "duration": 0.022482,
     "end_time": "2024-03-11T01:59:03.114291",
     "exception": false,
     "start_time": "2024-03-11T01:59:03.091809",
     "status": "completed"
    },
    "tags": []
   },
   "outputs": [],
   "source": [
    "X_train, X_test, y_train, y_test = train_test_split(X, y, test_size=0.15, random_state=42)"
   ]
  },
  {
   "cell_type": "code",
   "execution_count": 12,
   "id": "cc638810",
   "metadata": {
    "execution": {
     "iopub.execute_input": "2024-03-11T01:59:03.131931Z",
     "iopub.status.busy": "2024-03-11T01:59:03.130791Z",
     "iopub.status.idle": "2024-03-11T01:59:03.139280Z",
     "shell.execute_reply": "2024-03-11T01:59:03.138130Z"
    },
    "papermill": {
     "duration": 0.019906,
     "end_time": "2024-03-11T01:59:03.141748",
     "exception": false,
     "start_time": "2024-03-11T01:59:03.121842",
     "status": "completed"
    },
    "tags": []
   },
   "outputs": [],
   "source": [
    "var_categoricas = ['GENERO','ESTADO_CIVIL',#'CODIGO_SEDE',\n",
    "                 'CESION','CANCER_MAMA_FAMILIAR',\n",
    "                'CANCER_OTRO_SITIO','CANCER_OTRO_SITIO_FAMILIAR','CEREBRAL_FAMILIAR'\n",
    "                ,'atencion_nutricion'\n",
    "                ]\n",
    "var_numericas = X_train.select_dtypes('number').columns"
   ]
  },
  {
   "cell_type": "code",
   "execution_count": 13,
   "id": "f7979536",
   "metadata": {
    "execution": {
     "iopub.execute_input": "2024-03-11T01:59:03.159317Z",
     "iopub.status.busy": "2024-03-11T01:59:03.158887Z",
     "iopub.status.idle": "2024-03-11T01:59:03.167002Z",
     "shell.execute_reply": "2024-03-11T01:59:03.165827Z"
    },
    "papermill": {
     "duration": 0.020694,
     "end_time": "2024-03-11T01:59:03.170242",
     "exception": false,
     "start_time": "2024-03-11T01:59:03.149548",
     "status": "completed"
    },
    "tags": []
   },
   "outputs": [
    {
     "name": "stdout",
     "output_type": "stream",
     "text": [
      "Target\n",
      "0.0    88.693841\n",
      "1.0    11.306159\n",
      "Name: proportion, dtype: float64\n",
      "Target\n",
      "0.0    88.720539\n",
      "1.0    11.279461\n",
      "Name: proportion, dtype: float64\n"
     ]
    }
   ],
   "source": [
    "print(y_train.value_counts(True)*100)\n",
    "print(y_test.value_counts(True)*100)"
   ]
  },
  {
   "cell_type": "code",
   "execution_count": 14,
   "id": "d598866d",
   "metadata": {
    "execution": {
     "iopub.execute_input": "2024-03-11T01:59:03.188027Z",
     "iopub.status.busy": "2024-03-11T01:59:03.187634Z",
     "iopub.status.idle": "2024-03-11T01:59:03.193438Z",
     "shell.execute_reply": "2024-03-11T01:59:03.192234Z"
    },
    "papermill": {
     "duration": 0.017765,
     "end_time": "2024-03-11T01:59:03.196232",
     "exception": false,
     "start_time": "2024-03-11T01:59:03.178467",
     "status": "completed"
    },
    "tags": []
   },
   "outputs": [],
   "source": [
    "numeric_transformer = Pipeline(\n",
    "    steps=[(\"imputer\", SimpleImputer(strategy=\"median\")), (\"scaler\", StandardScaler())]\n",
    ")\n",
    "\n",
    "categorical_transformer = OneHotEncoder(handle_unknown=\"ignore\", drop=\"if_binary\")\n",
    "\n",
    "preprocessor = ColumnTransformer(\n",
    "    transformers=[\n",
    "        (\"num\", numeric_transformer, var_numericas),\n",
    "        (\"cat\", categorical_transformer, var_categoricas),\n",
    "    ]\n",
    ")"
   ]
  },
  {
   "cell_type": "code",
   "execution_count": 15,
   "id": "a81bcda0",
   "metadata": {
    "execution": {
     "iopub.execute_input": "2024-03-11T01:59:03.214437Z",
     "iopub.status.busy": "2024-03-11T01:59:03.213778Z",
     "iopub.status.idle": "2024-03-11T01:59:03.354191Z",
     "shell.execute_reply": "2024-03-11T01:59:03.353123Z"
    },
    "papermill": {
     "duration": 0.151761,
     "end_time": "2024-03-11T01:59:03.356589",
     "exception": false,
     "start_time": "2024-03-11T01:59:03.204828",
     "status": "completed"
    },
    "tags": []
   },
   "outputs": [
    {
     "data": {
      "text/html": [
       "<style>#sk-container-id-1 {color: black;background-color: white;}#sk-container-id-1 pre{padding: 0;}#sk-container-id-1 div.sk-toggleable {background-color: white;}#sk-container-id-1 label.sk-toggleable__label {cursor: pointer;display: block;width: 100%;margin-bottom: 0;padding: 0.3em;box-sizing: border-box;text-align: center;}#sk-container-id-1 label.sk-toggleable__label-arrow:before {content: \"▸\";float: left;margin-right: 0.25em;color: #696969;}#sk-container-id-1 label.sk-toggleable__label-arrow:hover:before {color: black;}#sk-container-id-1 div.sk-estimator:hover label.sk-toggleable__label-arrow:before {color: black;}#sk-container-id-1 div.sk-toggleable__content {max-height: 0;max-width: 0;overflow: hidden;text-align: left;background-color: #f0f8ff;}#sk-container-id-1 div.sk-toggleable__content pre {margin: 0.2em;color: black;border-radius: 0.25em;background-color: #f0f8ff;}#sk-container-id-1 input.sk-toggleable__control:checked~div.sk-toggleable__content {max-height: 200px;max-width: 100%;overflow: auto;}#sk-container-id-1 input.sk-toggleable__control:checked~label.sk-toggleable__label-arrow:before {content: \"▾\";}#sk-container-id-1 div.sk-estimator input.sk-toggleable__control:checked~label.sk-toggleable__label {background-color: #d4ebff;}#sk-container-id-1 div.sk-label input.sk-toggleable__control:checked~label.sk-toggleable__label {background-color: #d4ebff;}#sk-container-id-1 input.sk-hidden--visually {border: 0;clip: rect(1px 1px 1px 1px);clip: rect(1px, 1px, 1px, 1px);height: 1px;margin: -1px;overflow: hidden;padding: 0;position: absolute;width: 1px;}#sk-container-id-1 div.sk-estimator {font-family: monospace;background-color: #f0f8ff;border: 1px dotted black;border-radius: 0.25em;box-sizing: border-box;margin-bottom: 0.5em;}#sk-container-id-1 div.sk-estimator:hover {background-color: #d4ebff;}#sk-container-id-1 div.sk-parallel-item::after {content: \"\";width: 100%;border-bottom: 1px solid gray;flex-grow: 1;}#sk-container-id-1 div.sk-label:hover label.sk-toggleable__label {background-color: #d4ebff;}#sk-container-id-1 div.sk-serial::before {content: \"\";position: absolute;border-left: 1px solid gray;box-sizing: border-box;top: 0;bottom: 0;left: 50%;z-index: 0;}#sk-container-id-1 div.sk-serial {display: flex;flex-direction: column;align-items: center;background-color: white;padding-right: 0.2em;padding-left: 0.2em;position: relative;}#sk-container-id-1 div.sk-item {position: relative;z-index: 1;}#sk-container-id-1 div.sk-parallel {display: flex;align-items: stretch;justify-content: center;background-color: white;position: relative;}#sk-container-id-1 div.sk-item::before, #sk-container-id-1 div.sk-parallel-item::before {content: \"\";position: absolute;border-left: 1px solid gray;box-sizing: border-box;top: 0;bottom: 0;left: 50%;z-index: -1;}#sk-container-id-1 div.sk-parallel-item {display: flex;flex-direction: column;z-index: 1;position: relative;background-color: white;}#sk-container-id-1 div.sk-parallel-item:first-child::after {align-self: flex-end;width: 50%;}#sk-container-id-1 div.sk-parallel-item:last-child::after {align-self: flex-start;width: 50%;}#sk-container-id-1 div.sk-parallel-item:only-child::after {width: 0;}#sk-container-id-1 div.sk-dashed-wrapped {border: 1px dashed gray;margin: 0 0.4em 0.5em 0.4em;box-sizing: border-box;padding-bottom: 0.4em;background-color: white;}#sk-container-id-1 div.sk-label label {font-family: monospace;font-weight: bold;display: inline-block;line-height: 1.2em;}#sk-container-id-1 div.sk-label-container {text-align: center;}#sk-container-id-1 div.sk-container {/* jupyter's `normalize.less` sets `[hidden] { display: none; }` but bootstrap.min.css set `[hidden] { display: none !important; }` so we also need the `!important` here to be able to override the default hidden behavior on the sphinx rendered scikit-learn.org. See: https://github.com/scikit-learn/scikit-learn/issues/21755 */display: inline-block !important;position: relative;}#sk-container-id-1 div.sk-text-repr-fallback {display: none;}</style><div id=\"sk-container-id-1\" class=\"sk-top-container\"><div class=\"sk-text-repr-fallback\"><pre>Pipeline(steps=[(&#x27;data_pipeline&#x27;,\n",
       "                 Pipeline(steps=[(&#x27;data_processor&#x27;,\n",
       "                                  ColumnTransformer(transformers=[(&#x27;num&#x27;,\n",
       "                                                                   Pipeline(steps=[(&#x27;imputer&#x27;,\n",
       "                                                                                    SimpleImputer(strategy=&#x27;median&#x27;)),\n",
       "                                                                                   (&#x27;scaler&#x27;,\n",
       "                                                                                    StandardScaler())]),\n",
       "                                                                   Index([&#x27;MULTI_CANCER&#x27;, &#x27;RIESGOS&#x27;, &#x27;PESO&#x27;, &#x27;TALLA&#x27;, &#x27;TSISTOLICA&#x27;, &#x27;TDIASTOLICA&#x27;,\n",
       "       &#x27;mes_6&#x27;, &#x27;mes_5&#x27;, &#x27;mes_4&#x27;, &#x27;mes_3&#x27;, &#x27;mes_2&#x27;, &#x27;mes_1&#x27;, &#x27;valor_servicio&#x27;,\n",
       "       &#x27;IV_NIVEL&#x27;, &#x27;HO...\n",
       "       &#x27;Citas_oncologicas_cancer&#x27;, &#x27;psiquiatria_cancer&#x27;, &#x27;psicologia_cancer&#x27;,\n",
       "       &#x27;nutricion_cancer&#x27;],\n",
       "      dtype=&#x27;object&#x27;)),\n",
       "                                                                  (&#x27;cat&#x27;,\n",
       "                                                                   OneHotEncoder(drop=&#x27;if_binary&#x27;,\n",
       "                                                                                 handle_unknown=&#x27;ignore&#x27;),\n",
       "                                                                   [&#x27;GENERO&#x27;,\n",
       "                                                                    &#x27;ESTADO_CIVIL&#x27;,\n",
       "                                                                    &#x27;CESION&#x27;,\n",
       "                                                                    &#x27;CANCER_MAMA_FAMILIAR&#x27;,\n",
       "                                                                    &#x27;CANCER_OTRO_SITIO&#x27;,\n",
       "                                                                    &#x27;CANCER_OTRO_SITIO_FAMILIAR&#x27;,\n",
       "                                                                    &#x27;CEREBRAL_FAMILIAR&#x27;,\n",
       "                                                                    &#x27;atencion_nutricion&#x27;])]))])),\n",
       "                (&#x27;model&#x27;, LogisticRegression())])</pre><b>In a Jupyter environment, please rerun this cell to show the HTML representation or trust the notebook. <br />On GitHub, the HTML representation is unable to render, please try loading this page with nbviewer.org.</b></div><div class=\"sk-container\" hidden><div class=\"sk-item sk-dashed-wrapped\"><div class=\"sk-label-container\"><div class=\"sk-label sk-toggleable\"><input class=\"sk-toggleable__control sk-hidden--visually\" id=\"sk-estimator-id-1\" type=\"checkbox\" ><label for=\"sk-estimator-id-1\" class=\"sk-toggleable__label sk-toggleable__label-arrow\">Pipeline</label><div class=\"sk-toggleable__content\"><pre>Pipeline(steps=[(&#x27;data_pipeline&#x27;,\n",
       "                 Pipeline(steps=[(&#x27;data_processor&#x27;,\n",
       "                                  ColumnTransformer(transformers=[(&#x27;num&#x27;,\n",
       "                                                                   Pipeline(steps=[(&#x27;imputer&#x27;,\n",
       "                                                                                    SimpleImputer(strategy=&#x27;median&#x27;)),\n",
       "                                                                                   (&#x27;scaler&#x27;,\n",
       "                                                                                    StandardScaler())]),\n",
       "                                                                   Index([&#x27;MULTI_CANCER&#x27;, &#x27;RIESGOS&#x27;, &#x27;PESO&#x27;, &#x27;TALLA&#x27;, &#x27;TSISTOLICA&#x27;, &#x27;TDIASTOLICA&#x27;,\n",
       "       &#x27;mes_6&#x27;, &#x27;mes_5&#x27;, &#x27;mes_4&#x27;, &#x27;mes_3&#x27;, &#x27;mes_2&#x27;, &#x27;mes_1&#x27;, &#x27;valor_servicio&#x27;,\n",
       "       &#x27;IV_NIVEL&#x27;, &#x27;HO...\n",
       "       &#x27;Citas_oncologicas_cancer&#x27;, &#x27;psiquiatria_cancer&#x27;, &#x27;psicologia_cancer&#x27;,\n",
       "       &#x27;nutricion_cancer&#x27;],\n",
       "      dtype=&#x27;object&#x27;)),\n",
       "                                                                  (&#x27;cat&#x27;,\n",
       "                                                                   OneHotEncoder(drop=&#x27;if_binary&#x27;,\n",
       "                                                                                 handle_unknown=&#x27;ignore&#x27;),\n",
       "                                                                   [&#x27;GENERO&#x27;,\n",
       "                                                                    &#x27;ESTADO_CIVIL&#x27;,\n",
       "                                                                    &#x27;CESION&#x27;,\n",
       "                                                                    &#x27;CANCER_MAMA_FAMILIAR&#x27;,\n",
       "                                                                    &#x27;CANCER_OTRO_SITIO&#x27;,\n",
       "                                                                    &#x27;CANCER_OTRO_SITIO_FAMILIAR&#x27;,\n",
       "                                                                    &#x27;CEREBRAL_FAMILIAR&#x27;,\n",
       "                                                                    &#x27;atencion_nutricion&#x27;])]))])),\n",
       "                (&#x27;model&#x27;, LogisticRegression())])</pre></div></div></div><div class=\"sk-serial\"><div class=\"sk-item\"><div class=\"sk-label-container\"><div class=\"sk-label sk-toggleable\"><input class=\"sk-toggleable__control sk-hidden--visually\" id=\"sk-estimator-id-2\" type=\"checkbox\" ><label for=\"sk-estimator-id-2\" class=\"sk-toggleable__label sk-toggleable__label-arrow\">data_pipeline: Pipeline</label><div class=\"sk-toggleable__content\"><pre>Pipeline(steps=[(&#x27;data_processor&#x27;,\n",
       "                 ColumnTransformer(transformers=[(&#x27;num&#x27;,\n",
       "                                                  Pipeline(steps=[(&#x27;imputer&#x27;,\n",
       "                                                                   SimpleImputer(strategy=&#x27;median&#x27;)),\n",
       "                                                                  (&#x27;scaler&#x27;,\n",
       "                                                                   StandardScaler())]),\n",
       "                                                  Index([&#x27;MULTI_CANCER&#x27;, &#x27;RIESGOS&#x27;, &#x27;PESO&#x27;, &#x27;TALLA&#x27;, &#x27;TSISTOLICA&#x27;, &#x27;TDIASTOLICA&#x27;,\n",
       "       &#x27;mes_6&#x27;, &#x27;mes_5&#x27;, &#x27;mes_4&#x27;, &#x27;mes_3&#x27;, &#x27;mes_2&#x27;, &#x27;mes_1&#x27;, &#x27;valor_servicio&#x27;,\n",
       "       &#x27;IV_NIVEL&#x27;, &#x27;HOSPI_NO_QUIRURGICA&#x27;, &#x27;URGENCIAS&#x27;, &#x27;H...\n",
       "       &#x27;cuidado_palitiavo__cancer&#x27;, &#x27;inmunoterapias_cancer&#x27;,\n",
       "       &#x27;Citas_oncologicas_cancer&#x27;, &#x27;psiquiatria_cancer&#x27;, &#x27;psicologia_cancer&#x27;,\n",
       "       &#x27;nutricion_cancer&#x27;],\n",
       "      dtype=&#x27;object&#x27;)),\n",
       "                                                 (&#x27;cat&#x27;,\n",
       "                                                  OneHotEncoder(drop=&#x27;if_binary&#x27;,\n",
       "                                                                handle_unknown=&#x27;ignore&#x27;),\n",
       "                                                  [&#x27;GENERO&#x27;, &#x27;ESTADO_CIVIL&#x27;,\n",
       "                                                   &#x27;CESION&#x27;,\n",
       "                                                   &#x27;CANCER_MAMA_FAMILIAR&#x27;,\n",
       "                                                   &#x27;CANCER_OTRO_SITIO&#x27;,\n",
       "                                                   &#x27;CANCER_OTRO_SITIO_FAMILIAR&#x27;,\n",
       "                                                   &#x27;CEREBRAL_FAMILIAR&#x27;,\n",
       "                                                   &#x27;atencion_nutricion&#x27;])]))])</pre></div></div></div><div class=\"sk-serial\"><div class=\"sk-item sk-dashed-wrapped\"><div class=\"sk-label-container\"><div class=\"sk-label sk-toggleable\"><input class=\"sk-toggleable__control sk-hidden--visually\" id=\"sk-estimator-id-3\" type=\"checkbox\" ><label for=\"sk-estimator-id-3\" class=\"sk-toggleable__label sk-toggleable__label-arrow\">data_processor: ColumnTransformer</label><div class=\"sk-toggleable__content\"><pre>ColumnTransformer(transformers=[(&#x27;num&#x27;,\n",
       "                                 Pipeline(steps=[(&#x27;imputer&#x27;,\n",
       "                                                  SimpleImputer(strategy=&#x27;median&#x27;)),\n",
       "                                                 (&#x27;scaler&#x27;, StandardScaler())]),\n",
       "                                 Index([&#x27;MULTI_CANCER&#x27;, &#x27;RIESGOS&#x27;, &#x27;PESO&#x27;, &#x27;TALLA&#x27;, &#x27;TSISTOLICA&#x27;, &#x27;TDIASTOLICA&#x27;,\n",
       "       &#x27;mes_6&#x27;, &#x27;mes_5&#x27;, &#x27;mes_4&#x27;, &#x27;mes_3&#x27;, &#x27;mes_2&#x27;, &#x27;mes_1&#x27;, &#x27;valor_servicio&#x27;,\n",
       "       &#x27;IV_NIVEL&#x27;, &#x27;HOSPI_NO_QUIRURGICA&#x27;, &#x27;URGENCIAS&#x27;, &#x27;HOSPITALIZACION&#x27;,\n",
       "       &#x27;CITA_ONCOLOGICA&#x27;,...\n",
       "       &#x27;cuidado_palitiavo__cancer&#x27;, &#x27;inmunoterapias_cancer&#x27;,\n",
       "       &#x27;Citas_oncologicas_cancer&#x27;, &#x27;psiquiatria_cancer&#x27;, &#x27;psicologia_cancer&#x27;,\n",
       "       &#x27;nutricion_cancer&#x27;],\n",
       "      dtype=&#x27;object&#x27;)),\n",
       "                                (&#x27;cat&#x27;,\n",
       "                                 OneHotEncoder(drop=&#x27;if_binary&#x27;,\n",
       "                                               handle_unknown=&#x27;ignore&#x27;),\n",
       "                                 [&#x27;GENERO&#x27;, &#x27;ESTADO_CIVIL&#x27;, &#x27;CESION&#x27;,\n",
       "                                  &#x27;CANCER_MAMA_FAMILIAR&#x27;, &#x27;CANCER_OTRO_SITIO&#x27;,\n",
       "                                  &#x27;CANCER_OTRO_SITIO_FAMILIAR&#x27;,\n",
       "                                  &#x27;CEREBRAL_FAMILIAR&#x27;, &#x27;atencion_nutricion&#x27;])])</pre></div></div></div><div class=\"sk-parallel\"><div class=\"sk-parallel-item\"><div class=\"sk-item\"><div class=\"sk-label-container\"><div class=\"sk-label sk-toggleable\"><input class=\"sk-toggleable__control sk-hidden--visually\" id=\"sk-estimator-id-4\" type=\"checkbox\" ><label for=\"sk-estimator-id-4\" class=\"sk-toggleable__label sk-toggleable__label-arrow\">num</label><div class=\"sk-toggleable__content\"><pre>Index([&#x27;MULTI_CANCER&#x27;, &#x27;RIESGOS&#x27;, &#x27;PESO&#x27;, &#x27;TALLA&#x27;, &#x27;TSISTOLICA&#x27;, &#x27;TDIASTOLICA&#x27;,\n",
       "       &#x27;mes_6&#x27;, &#x27;mes_5&#x27;, &#x27;mes_4&#x27;, &#x27;mes_3&#x27;, &#x27;mes_2&#x27;, &#x27;mes_1&#x27;, &#x27;valor_servicio&#x27;,\n",
       "       &#x27;IV_NIVEL&#x27;, &#x27;HOSPI_NO_QUIRURGICA&#x27;, &#x27;URGENCIAS&#x27;, &#x27;HOSPITALIZACION&#x27;,\n",
       "       &#x27;CITA_ONCOLOGICA&#x27;, &#x27;Biopsias_cancer&#x27;, &#x27;radioterapias_cancer&#x27;,\n",
       "       &#x27;quimioterapias__cancer&#x27;, &#x27;hormonoterapias__cancer&#x27;,\n",
       "       &#x27;cuidado_palitiavo__cancer&#x27;, &#x27;inmunoterapias_cancer&#x27;,\n",
       "       &#x27;Citas_oncologicas_cancer&#x27;, &#x27;psiquiatria_cancer&#x27;, &#x27;psicologia_cancer&#x27;,\n",
       "       &#x27;nutricion_cancer&#x27;],\n",
       "      dtype=&#x27;object&#x27;)</pre></div></div></div><div class=\"sk-serial\"><div class=\"sk-item\"><div class=\"sk-serial\"><div class=\"sk-item\"><div class=\"sk-estimator sk-toggleable\"><input class=\"sk-toggleable__control sk-hidden--visually\" id=\"sk-estimator-id-5\" type=\"checkbox\" ><label for=\"sk-estimator-id-5\" class=\"sk-toggleable__label sk-toggleable__label-arrow\">SimpleImputer</label><div class=\"sk-toggleable__content\"><pre>SimpleImputer(strategy=&#x27;median&#x27;)</pre></div></div></div><div class=\"sk-item\"><div class=\"sk-estimator sk-toggleable\"><input class=\"sk-toggleable__control sk-hidden--visually\" id=\"sk-estimator-id-6\" type=\"checkbox\" ><label for=\"sk-estimator-id-6\" class=\"sk-toggleable__label sk-toggleable__label-arrow\">StandardScaler</label><div class=\"sk-toggleable__content\"><pre>StandardScaler()</pre></div></div></div></div></div></div></div></div><div class=\"sk-parallel-item\"><div class=\"sk-item\"><div class=\"sk-label-container\"><div class=\"sk-label sk-toggleable\"><input class=\"sk-toggleable__control sk-hidden--visually\" id=\"sk-estimator-id-7\" type=\"checkbox\" ><label for=\"sk-estimator-id-7\" class=\"sk-toggleable__label sk-toggleable__label-arrow\">cat</label><div class=\"sk-toggleable__content\"><pre>[&#x27;GENERO&#x27;, &#x27;ESTADO_CIVIL&#x27;, &#x27;CESION&#x27;, &#x27;CANCER_MAMA_FAMILIAR&#x27;, &#x27;CANCER_OTRO_SITIO&#x27;, &#x27;CANCER_OTRO_SITIO_FAMILIAR&#x27;, &#x27;CEREBRAL_FAMILIAR&#x27;, &#x27;atencion_nutricion&#x27;]</pre></div></div></div><div class=\"sk-serial\"><div class=\"sk-item\"><div class=\"sk-estimator sk-toggleable\"><input class=\"sk-toggleable__control sk-hidden--visually\" id=\"sk-estimator-id-8\" type=\"checkbox\" ><label for=\"sk-estimator-id-8\" class=\"sk-toggleable__label sk-toggleable__label-arrow\">OneHotEncoder</label><div class=\"sk-toggleable__content\"><pre>OneHotEncoder(drop=&#x27;if_binary&#x27;, handle_unknown=&#x27;ignore&#x27;)</pre></div></div></div></div></div></div></div></div></div></div><div class=\"sk-item\"><div class=\"sk-estimator sk-toggleable\"><input class=\"sk-toggleable__control sk-hidden--visually\" id=\"sk-estimator-id-9\" type=\"checkbox\" ><label for=\"sk-estimator-id-9\" class=\"sk-toggleable__label sk-toggleable__label-arrow\">LogisticRegression</label><div class=\"sk-toggleable__content\"><pre>LogisticRegression()</pre></div></div></div></div></div></div></div>"
      ],
      "text/plain": [
       "Pipeline(steps=[('data_pipeline',\n",
       "                 Pipeline(steps=[('data_processor',\n",
       "                                  ColumnTransformer(transformers=[('num',\n",
       "                                                                   Pipeline(steps=[('imputer',\n",
       "                                                                                    SimpleImputer(strategy='median')),\n",
       "                                                                                   ('scaler',\n",
       "                                                                                    StandardScaler())]),\n",
       "                                                                   Index(['MULTI_CANCER', 'RIESGOS', 'PESO', 'TALLA', 'TSISTOLICA', 'TDIASTOLICA',\n",
       "       'mes_6', 'mes_5', 'mes_4', 'mes_3', 'mes_2', 'mes_1', 'valor_servicio',\n",
       "       'IV_NIVEL', 'HO...\n",
       "       'Citas_oncologicas_cancer', 'psiquiatria_cancer', 'psicologia_cancer',\n",
       "       'nutricion_cancer'],\n",
       "      dtype='object')),\n",
       "                                                                  ('cat',\n",
       "                                                                   OneHotEncoder(drop='if_binary',\n",
       "                                                                                 handle_unknown='ignore'),\n",
       "                                                                   ['GENERO',\n",
       "                                                                    'ESTADO_CIVIL',\n",
       "                                                                    'CESION',\n",
       "                                                                    'CANCER_MAMA_FAMILIAR',\n",
       "                                                                    'CANCER_OTRO_SITIO',\n",
       "                                                                    'CANCER_OTRO_SITIO_FAMILIAR',\n",
       "                                                                    'CEREBRAL_FAMILIAR',\n",
       "                                                                    'atencion_nutricion'])]))])),\n",
       "                ('model', LogisticRegression())])"
      ]
     },
     "execution_count": 15,
     "metadata": {},
     "output_type": "execute_result"
    }
   ],
   "source": [
    "def add_model(data_pipeline, model) -> Pipeline:\n",
    "    whole_pipeline = Pipeline([\n",
    "        (\"data_pipeline\", data_pipeline),\n",
    "        (\"model\", model)\n",
    "    ])\n",
    "    return whole_pipeline\n",
    "\n",
    "data_pipeline = Pipeline(steps=[\n",
    "    (\"data_processor\", preprocessor),\n",
    "    #(\"pca\", PCA()),\n",
    "])\n",
    "\n",
    "model_kwargs = dict(\n",
    "        kernel = 'rbf',\n",
    "        C = 1.0,\n",
    "        #probability = True\n",
    "    )\n",
    "\n",
    "pipeline = add_model(data_pipeline, LogisticRegression()) ## SVC(**model_kwargs)\n",
    "pipeline "
   ]
  },
  {
   "cell_type": "code",
   "execution_count": 16,
   "id": "ff5a7240",
   "metadata": {
    "execution": {
     "iopub.execute_input": "2024-03-11T01:59:03.374719Z",
     "iopub.status.busy": "2024-03-11T01:59:03.374312Z",
     "iopub.status.idle": "2024-03-11T01:59:03.644494Z",
     "shell.execute_reply": "2024-03-11T01:59:03.643320Z"
    },
    "papermill": {
     "duration": 0.282488,
     "end_time": "2024-03-11T01:59:03.647338",
     "exception": false,
     "start_time": "2024-03-11T01:59:03.364850",
     "status": "completed"
    },
    "tags": []
   },
   "outputs": [
    {
     "data": {
      "text/html": [
       "<style>#sk-container-id-2 {color: black;background-color: white;}#sk-container-id-2 pre{padding: 0;}#sk-container-id-2 div.sk-toggleable {background-color: white;}#sk-container-id-2 label.sk-toggleable__label {cursor: pointer;display: block;width: 100%;margin-bottom: 0;padding: 0.3em;box-sizing: border-box;text-align: center;}#sk-container-id-2 label.sk-toggleable__label-arrow:before {content: \"▸\";float: left;margin-right: 0.25em;color: #696969;}#sk-container-id-2 label.sk-toggleable__label-arrow:hover:before {color: black;}#sk-container-id-2 div.sk-estimator:hover label.sk-toggleable__label-arrow:before {color: black;}#sk-container-id-2 div.sk-toggleable__content {max-height: 0;max-width: 0;overflow: hidden;text-align: left;background-color: #f0f8ff;}#sk-container-id-2 div.sk-toggleable__content pre {margin: 0.2em;color: black;border-radius: 0.25em;background-color: #f0f8ff;}#sk-container-id-2 input.sk-toggleable__control:checked~div.sk-toggleable__content {max-height: 200px;max-width: 100%;overflow: auto;}#sk-container-id-2 input.sk-toggleable__control:checked~label.sk-toggleable__label-arrow:before {content: \"▾\";}#sk-container-id-2 div.sk-estimator input.sk-toggleable__control:checked~label.sk-toggleable__label {background-color: #d4ebff;}#sk-container-id-2 div.sk-label input.sk-toggleable__control:checked~label.sk-toggleable__label {background-color: #d4ebff;}#sk-container-id-2 input.sk-hidden--visually {border: 0;clip: rect(1px 1px 1px 1px);clip: rect(1px, 1px, 1px, 1px);height: 1px;margin: -1px;overflow: hidden;padding: 0;position: absolute;width: 1px;}#sk-container-id-2 div.sk-estimator {font-family: monospace;background-color: #f0f8ff;border: 1px dotted black;border-radius: 0.25em;box-sizing: border-box;margin-bottom: 0.5em;}#sk-container-id-2 div.sk-estimator:hover {background-color: #d4ebff;}#sk-container-id-2 div.sk-parallel-item::after {content: \"\";width: 100%;border-bottom: 1px solid gray;flex-grow: 1;}#sk-container-id-2 div.sk-label:hover label.sk-toggleable__label {background-color: #d4ebff;}#sk-container-id-2 div.sk-serial::before {content: \"\";position: absolute;border-left: 1px solid gray;box-sizing: border-box;top: 0;bottom: 0;left: 50%;z-index: 0;}#sk-container-id-2 div.sk-serial {display: flex;flex-direction: column;align-items: center;background-color: white;padding-right: 0.2em;padding-left: 0.2em;position: relative;}#sk-container-id-2 div.sk-item {position: relative;z-index: 1;}#sk-container-id-2 div.sk-parallel {display: flex;align-items: stretch;justify-content: center;background-color: white;position: relative;}#sk-container-id-2 div.sk-item::before, #sk-container-id-2 div.sk-parallel-item::before {content: \"\";position: absolute;border-left: 1px solid gray;box-sizing: border-box;top: 0;bottom: 0;left: 50%;z-index: -1;}#sk-container-id-2 div.sk-parallel-item {display: flex;flex-direction: column;z-index: 1;position: relative;background-color: white;}#sk-container-id-2 div.sk-parallel-item:first-child::after {align-self: flex-end;width: 50%;}#sk-container-id-2 div.sk-parallel-item:last-child::after {align-self: flex-start;width: 50%;}#sk-container-id-2 div.sk-parallel-item:only-child::after {width: 0;}#sk-container-id-2 div.sk-dashed-wrapped {border: 1px dashed gray;margin: 0 0.4em 0.5em 0.4em;box-sizing: border-box;padding-bottom: 0.4em;background-color: white;}#sk-container-id-2 div.sk-label label {font-family: monospace;font-weight: bold;display: inline-block;line-height: 1.2em;}#sk-container-id-2 div.sk-label-container {text-align: center;}#sk-container-id-2 div.sk-container {/* jupyter's `normalize.less` sets `[hidden] { display: none; }` but bootstrap.min.css set `[hidden] { display: none !important; }` so we also need the `!important` here to be able to override the default hidden behavior on the sphinx rendered scikit-learn.org. See: https://github.com/scikit-learn/scikit-learn/issues/21755 */display: inline-block !important;position: relative;}#sk-container-id-2 div.sk-text-repr-fallback {display: none;}</style><div id=\"sk-container-id-2\" class=\"sk-top-container\"><div class=\"sk-text-repr-fallback\"><pre>Pipeline(steps=[(&#x27;data_pipeline&#x27;,\n",
       "                 Pipeline(steps=[(&#x27;data_processor&#x27;,\n",
       "                                  ColumnTransformer(transformers=[(&#x27;num&#x27;,\n",
       "                                                                   Pipeline(steps=[(&#x27;imputer&#x27;,\n",
       "                                                                                    SimpleImputer(strategy=&#x27;median&#x27;)),\n",
       "                                                                                   (&#x27;scaler&#x27;,\n",
       "                                                                                    StandardScaler())]),\n",
       "                                                                   Index([&#x27;MULTI_CANCER&#x27;, &#x27;RIESGOS&#x27;, &#x27;PESO&#x27;, &#x27;TALLA&#x27;, &#x27;TSISTOLICA&#x27;, &#x27;TDIASTOLICA&#x27;,\n",
       "       &#x27;mes_6&#x27;, &#x27;mes_5&#x27;, &#x27;mes_4&#x27;, &#x27;mes_3&#x27;, &#x27;mes_2&#x27;, &#x27;mes_1&#x27;, &#x27;valor_servicio&#x27;,\n",
       "       &#x27;IV_NIVEL&#x27;, &#x27;HO...\n",
       "       &#x27;Citas_oncologicas_cancer&#x27;, &#x27;psiquiatria_cancer&#x27;, &#x27;psicologia_cancer&#x27;,\n",
       "       &#x27;nutricion_cancer&#x27;],\n",
       "      dtype=&#x27;object&#x27;)),\n",
       "                                                                  (&#x27;cat&#x27;,\n",
       "                                                                   OneHotEncoder(drop=&#x27;if_binary&#x27;,\n",
       "                                                                                 handle_unknown=&#x27;ignore&#x27;),\n",
       "                                                                   [&#x27;GENERO&#x27;,\n",
       "                                                                    &#x27;ESTADO_CIVIL&#x27;,\n",
       "                                                                    &#x27;CESION&#x27;,\n",
       "                                                                    &#x27;CANCER_MAMA_FAMILIAR&#x27;,\n",
       "                                                                    &#x27;CANCER_OTRO_SITIO&#x27;,\n",
       "                                                                    &#x27;CANCER_OTRO_SITIO_FAMILIAR&#x27;,\n",
       "                                                                    &#x27;CEREBRAL_FAMILIAR&#x27;,\n",
       "                                                                    &#x27;atencion_nutricion&#x27;])]))])),\n",
       "                (&#x27;model&#x27;, LogisticRegression())])</pre><b>In a Jupyter environment, please rerun this cell to show the HTML representation or trust the notebook. <br />On GitHub, the HTML representation is unable to render, please try loading this page with nbviewer.org.</b></div><div class=\"sk-container\" hidden><div class=\"sk-item sk-dashed-wrapped\"><div class=\"sk-label-container\"><div class=\"sk-label sk-toggleable\"><input class=\"sk-toggleable__control sk-hidden--visually\" id=\"sk-estimator-id-10\" type=\"checkbox\" ><label for=\"sk-estimator-id-10\" class=\"sk-toggleable__label sk-toggleable__label-arrow\">Pipeline</label><div class=\"sk-toggleable__content\"><pre>Pipeline(steps=[(&#x27;data_pipeline&#x27;,\n",
       "                 Pipeline(steps=[(&#x27;data_processor&#x27;,\n",
       "                                  ColumnTransformer(transformers=[(&#x27;num&#x27;,\n",
       "                                                                   Pipeline(steps=[(&#x27;imputer&#x27;,\n",
       "                                                                                    SimpleImputer(strategy=&#x27;median&#x27;)),\n",
       "                                                                                   (&#x27;scaler&#x27;,\n",
       "                                                                                    StandardScaler())]),\n",
       "                                                                   Index([&#x27;MULTI_CANCER&#x27;, &#x27;RIESGOS&#x27;, &#x27;PESO&#x27;, &#x27;TALLA&#x27;, &#x27;TSISTOLICA&#x27;, &#x27;TDIASTOLICA&#x27;,\n",
       "       &#x27;mes_6&#x27;, &#x27;mes_5&#x27;, &#x27;mes_4&#x27;, &#x27;mes_3&#x27;, &#x27;mes_2&#x27;, &#x27;mes_1&#x27;, &#x27;valor_servicio&#x27;,\n",
       "       &#x27;IV_NIVEL&#x27;, &#x27;HO...\n",
       "       &#x27;Citas_oncologicas_cancer&#x27;, &#x27;psiquiatria_cancer&#x27;, &#x27;psicologia_cancer&#x27;,\n",
       "       &#x27;nutricion_cancer&#x27;],\n",
       "      dtype=&#x27;object&#x27;)),\n",
       "                                                                  (&#x27;cat&#x27;,\n",
       "                                                                   OneHotEncoder(drop=&#x27;if_binary&#x27;,\n",
       "                                                                                 handle_unknown=&#x27;ignore&#x27;),\n",
       "                                                                   [&#x27;GENERO&#x27;,\n",
       "                                                                    &#x27;ESTADO_CIVIL&#x27;,\n",
       "                                                                    &#x27;CESION&#x27;,\n",
       "                                                                    &#x27;CANCER_MAMA_FAMILIAR&#x27;,\n",
       "                                                                    &#x27;CANCER_OTRO_SITIO&#x27;,\n",
       "                                                                    &#x27;CANCER_OTRO_SITIO_FAMILIAR&#x27;,\n",
       "                                                                    &#x27;CEREBRAL_FAMILIAR&#x27;,\n",
       "                                                                    &#x27;atencion_nutricion&#x27;])]))])),\n",
       "                (&#x27;model&#x27;, LogisticRegression())])</pre></div></div></div><div class=\"sk-serial\"><div class=\"sk-item\"><div class=\"sk-label-container\"><div class=\"sk-label sk-toggleable\"><input class=\"sk-toggleable__control sk-hidden--visually\" id=\"sk-estimator-id-11\" type=\"checkbox\" ><label for=\"sk-estimator-id-11\" class=\"sk-toggleable__label sk-toggleable__label-arrow\">data_pipeline: Pipeline</label><div class=\"sk-toggleable__content\"><pre>Pipeline(steps=[(&#x27;data_processor&#x27;,\n",
       "                 ColumnTransformer(transformers=[(&#x27;num&#x27;,\n",
       "                                                  Pipeline(steps=[(&#x27;imputer&#x27;,\n",
       "                                                                   SimpleImputer(strategy=&#x27;median&#x27;)),\n",
       "                                                                  (&#x27;scaler&#x27;,\n",
       "                                                                   StandardScaler())]),\n",
       "                                                  Index([&#x27;MULTI_CANCER&#x27;, &#x27;RIESGOS&#x27;, &#x27;PESO&#x27;, &#x27;TALLA&#x27;, &#x27;TSISTOLICA&#x27;, &#x27;TDIASTOLICA&#x27;,\n",
       "       &#x27;mes_6&#x27;, &#x27;mes_5&#x27;, &#x27;mes_4&#x27;, &#x27;mes_3&#x27;, &#x27;mes_2&#x27;, &#x27;mes_1&#x27;, &#x27;valor_servicio&#x27;,\n",
       "       &#x27;IV_NIVEL&#x27;, &#x27;HOSPI_NO_QUIRURGICA&#x27;, &#x27;URGENCIAS&#x27;, &#x27;H...\n",
       "       &#x27;cuidado_palitiavo__cancer&#x27;, &#x27;inmunoterapias_cancer&#x27;,\n",
       "       &#x27;Citas_oncologicas_cancer&#x27;, &#x27;psiquiatria_cancer&#x27;, &#x27;psicologia_cancer&#x27;,\n",
       "       &#x27;nutricion_cancer&#x27;],\n",
       "      dtype=&#x27;object&#x27;)),\n",
       "                                                 (&#x27;cat&#x27;,\n",
       "                                                  OneHotEncoder(drop=&#x27;if_binary&#x27;,\n",
       "                                                                handle_unknown=&#x27;ignore&#x27;),\n",
       "                                                  [&#x27;GENERO&#x27;, &#x27;ESTADO_CIVIL&#x27;,\n",
       "                                                   &#x27;CESION&#x27;,\n",
       "                                                   &#x27;CANCER_MAMA_FAMILIAR&#x27;,\n",
       "                                                   &#x27;CANCER_OTRO_SITIO&#x27;,\n",
       "                                                   &#x27;CANCER_OTRO_SITIO_FAMILIAR&#x27;,\n",
       "                                                   &#x27;CEREBRAL_FAMILIAR&#x27;,\n",
       "                                                   &#x27;atencion_nutricion&#x27;])]))])</pre></div></div></div><div class=\"sk-serial\"><div class=\"sk-item sk-dashed-wrapped\"><div class=\"sk-label-container\"><div class=\"sk-label sk-toggleable\"><input class=\"sk-toggleable__control sk-hidden--visually\" id=\"sk-estimator-id-12\" type=\"checkbox\" ><label for=\"sk-estimator-id-12\" class=\"sk-toggleable__label sk-toggleable__label-arrow\">data_processor: ColumnTransformer</label><div class=\"sk-toggleable__content\"><pre>ColumnTransformer(transformers=[(&#x27;num&#x27;,\n",
       "                                 Pipeline(steps=[(&#x27;imputer&#x27;,\n",
       "                                                  SimpleImputer(strategy=&#x27;median&#x27;)),\n",
       "                                                 (&#x27;scaler&#x27;, StandardScaler())]),\n",
       "                                 Index([&#x27;MULTI_CANCER&#x27;, &#x27;RIESGOS&#x27;, &#x27;PESO&#x27;, &#x27;TALLA&#x27;, &#x27;TSISTOLICA&#x27;, &#x27;TDIASTOLICA&#x27;,\n",
       "       &#x27;mes_6&#x27;, &#x27;mes_5&#x27;, &#x27;mes_4&#x27;, &#x27;mes_3&#x27;, &#x27;mes_2&#x27;, &#x27;mes_1&#x27;, &#x27;valor_servicio&#x27;,\n",
       "       &#x27;IV_NIVEL&#x27;, &#x27;HOSPI_NO_QUIRURGICA&#x27;, &#x27;URGENCIAS&#x27;, &#x27;HOSPITALIZACION&#x27;,\n",
       "       &#x27;CITA_ONCOLOGICA&#x27;,...\n",
       "       &#x27;cuidado_palitiavo__cancer&#x27;, &#x27;inmunoterapias_cancer&#x27;,\n",
       "       &#x27;Citas_oncologicas_cancer&#x27;, &#x27;psiquiatria_cancer&#x27;, &#x27;psicologia_cancer&#x27;,\n",
       "       &#x27;nutricion_cancer&#x27;],\n",
       "      dtype=&#x27;object&#x27;)),\n",
       "                                (&#x27;cat&#x27;,\n",
       "                                 OneHotEncoder(drop=&#x27;if_binary&#x27;,\n",
       "                                               handle_unknown=&#x27;ignore&#x27;),\n",
       "                                 [&#x27;GENERO&#x27;, &#x27;ESTADO_CIVIL&#x27;, &#x27;CESION&#x27;,\n",
       "                                  &#x27;CANCER_MAMA_FAMILIAR&#x27;, &#x27;CANCER_OTRO_SITIO&#x27;,\n",
       "                                  &#x27;CANCER_OTRO_SITIO_FAMILIAR&#x27;,\n",
       "                                  &#x27;CEREBRAL_FAMILIAR&#x27;, &#x27;atencion_nutricion&#x27;])])</pre></div></div></div><div class=\"sk-parallel\"><div class=\"sk-parallel-item\"><div class=\"sk-item\"><div class=\"sk-label-container\"><div class=\"sk-label sk-toggleable\"><input class=\"sk-toggleable__control sk-hidden--visually\" id=\"sk-estimator-id-13\" type=\"checkbox\" ><label for=\"sk-estimator-id-13\" class=\"sk-toggleable__label sk-toggleable__label-arrow\">num</label><div class=\"sk-toggleable__content\"><pre>Index([&#x27;MULTI_CANCER&#x27;, &#x27;RIESGOS&#x27;, &#x27;PESO&#x27;, &#x27;TALLA&#x27;, &#x27;TSISTOLICA&#x27;, &#x27;TDIASTOLICA&#x27;,\n",
       "       &#x27;mes_6&#x27;, &#x27;mes_5&#x27;, &#x27;mes_4&#x27;, &#x27;mes_3&#x27;, &#x27;mes_2&#x27;, &#x27;mes_1&#x27;, &#x27;valor_servicio&#x27;,\n",
       "       &#x27;IV_NIVEL&#x27;, &#x27;HOSPI_NO_QUIRURGICA&#x27;, &#x27;URGENCIAS&#x27;, &#x27;HOSPITALIZACION&#x27;,\n",
       "       &#x27;CITA_ONCOLOGICA&#x27;, &#x27;Biopsias_cancer&#x27;, &#x27;radioterapias_cancer&#x27;,\n",
       "       &#x27;quimioterapias__cancer&#x27;, &#x27;hormonoterapias__cancer&#x27;,\n",
       "       &#x27;cuidado_palitiavo__cancer&#x27;, &#x27;inmunoterapias_cancer&#x27;,\n",
       "       &#x27;Citas_oncologicas_cancer&#x27;, &#x27;psiquiatria_cancer&#x27;, &#x27;psicologia_cancer&#x27;,\n",
       "       &#x27;nutricion_cancer&#x27;],\n",
       "      dtype=&#x27;object&#x27;)</pre></div></div></div><div class=\"sk-serial\"><div class=\"sk-item\"><div class=\"sk-serial\"><div class=\"sk-item\"><div class=\"sk-estimator sk-toggleable\"><input class=\"sk-toggleable__control sk-hidden--visually\" id=\"sk-estimator-id-14\" type=\"checkbox\" ><label for=\"sk-estimator-id-14\" class=\"sk-toggleable__label sk-toggleable__label-arrow\">SimpleImputer</label><div class=\"sk-toggleable__content\"><pre>SimpleImputer(strategy=&#x27;median&#x27;)</pre></div></div></div><div class=\"sk-item\"><div class=\"sk-estimator sk-toggleable\"><input class=\"sk-toggleable__control sk-hidden--visually\" id=\"sk-estimator-id-15\" type=\"checkbox\" ><label for=\"sk-estimator-id-15\" class=\"sk-toggleable__label sk-toggleable__label-arrow\">StandardScaler</label><div class=\"sk-toggleable__content\"><pre>StandardScaler()</pre></div></div></div></div></div></div></div></div><div class=\"sk-parallel-item\"><div class=\"sk-item\"><div class=\"sk-label-container\"><div class=\"sk-label sk-toggleable\"><input class=\"sk-toggleable__control sk-hidden--visually\" id=\"sk-estimator-id-16\" type=\"checkbox\" ><label for=\"sk-estimator-id-16\" class=\"sk-toggleable__label sk-toggleable__label-arrow\">cat</label><div class=\"sk-toggleable__content\"><pre>[&#x27;GENERO&#x27;, &#x27;ESTADO_CIVIL&#x27;, &#x27;CESION&#x27;, &#x27;CANCER_MAMA_FAMILIAR&#x27;, &#x27;CANCER_OTRO_SITIO&#x27;, &#x27;CANCER_OTRO_SITIO_FAMILIAR&#x27;, &#x27;CEREBRAL_FAMILIAR&#x27;, &#x27;atencion_nutricion&#x27;]</pre></div></div></div><div class=\"sk-serial\"><div class=\"sk-item\"><div class=\"sk-estimator sk-toggleable\"><input class=\"sk-toggleable__control sk-hidden--visually\" id=\"sk-estimator-id-17\" type=\"checkbox\" ><label for=\"sk-estimator-id-17\" class=\"sk-toggleable__label sk-toggleable__label-arrow\">OneHotEncoder</label><div class=\"sk-toggleable__content\"><pre>OneHotEncoder(drop=&#x27;if_binary&#x27;, handle_unknown=&#x27;ignore&#x27;)</pre></div></div></div></div></div></div></div></div></div></div><div class=\"sk-item\"><div class=\"sk-estimator sk-toggleable\"><input class=\"sk-toggleable__control sk-hidden--visually\" id=\"sk-estimator-id-18\" type=\"checkbox\" ><label for=\"sk-estimator-id-18\" class=\"sk-toggleable__label sk-toggleable__label-arrow\">LogisticRegression</label><div class=\"sk-toggleable__content\"><pre>LogisticRegression()</pre></div></div></div></div></div></div></div>"
      ],
      "text/plain": [
       "Pipeline(steps=[('data_pipeline',\n",
       "                 Pipeline(steps=[('data_processor',\n",
       "                                  ColumnTransformer(transformers=[('num',\n",
       "                                                                   Pipeline(steps=[('imputer',\n",
       "                                                                                    SimpleImputer(strategy='median')),\n",
       "                                                                                   ('scaler',\n",
       "                                                                                    StandardScaler())]),\n",
       "                                                                   Index(['MULTI_CANCER', 'RIESGOS', 'PESO', 'TALLA', 'TSISTOLICA', 'TDIASTOLICA',\n",
       "       'mes_6', 'mes_5', 'mes_4', 'mes_3', 'mes_2', 'mes_1', 'valor_servicio',\n",
       "       'IV_NIVEL', 'HO...\n",
       "       'Citas_oncologicas_cancer', 'psiquiatria_cancer', 'psicologia_cancer',\n",
       "       'nutricion_cancer'],\n",
       "      dtype='object')),\n",
       "                                                                  ('cat',\n",
       "                                                                   OneHotEncoder(drop='if_binary',\n",
       "                                                                                 handle_unknown='ignore'),\n",
       "                                                                   ['GENERO',\n",
       "                                                                    'ESTADO_CIVIL',\n",
       "                                                                    'CESION',\n",
       "                                                                    'CANCER_MAMA_FAMILIAR',\n",
       "                                                                    'CANCER_OTRO_SITIO',\n",
       "                                                                    'CANCER_OTRO_SITIO_FAMILIAR',\n",
       "                                                                    'CEREBRAL_FAMILIAR',\n",
       "                                                                    'atencion_nutricion'])]))])),\n",
       "                ('model', LogisticRegression())])"
      ]
     },
     "execution_count": 16,
     "metadata": {},
     "output_type": "execute_result"
    }
   ],
   "source": [
    "pipeline.fit(X_train, y_train)"
   ]
  },
  {
   "cell_type": "code",
   "execution_count": 17,
   "id": "91ca6d4e",
   "metadata": {
    "execution": {
     "iopub.execute_input": "2024-03-11T01:59:03.666607Z",
     "iopub.status.busy": "2024-03-11T01:59:03.666217Z",
     "iopub.status.idle": "2024-03-11T01:59:03.672140Z",
     "shell.execute_reply": "2024-03-11T01:59:03.671313Z"
    },
    "papermill": {
     "duration": 0.01783,
     "end_time": "2024-03-11T01:59:03.674232",
     "exception": false,
     "start_time": "2024-03-11T01:59:03.656402",
     "status": "completed"
    },
    "tags": []
   },
   "outputs": [],
   "source": [
    "with open(\"pipeline.pkl\", \"wb\") as f:\n",
    "    pickle.dump(pipeline, f)"
   ]
  },
  {
   "cell_type": "code",
   "execution_count": 18,
   "id": "e833d763",
   "metadata": {
    "execution": {
     "iopub.execute_input": "2024-03-11T01:59:03.693480Z",
     "iopub.status.busy": "2024-03-11T01:59:03.692613Z",
     "iopub.status.idle": "2024-03-11T01:59:03.740315Z",
     "shell.execute_reply": "2024-03-11T01:59:03.738863Z"
    },
    "papermill": {
     "duration": 0.060866,
     "end_time": "2024-03-11T01:59:03.743686",
     "exception": false,
     "start_time": "2024-03-11T01:59:03.682820",
     "status": "completed"
    },
    "tags": []
   },
   "outputs": [],
   "source": [
    "test_preds = pipeline.predict(X_test)\n",
    "train_preds = pipeline.predict(X_train)"
   ]
  },
  {
   "cell_type": "code",
   "execution_count": 19,
   "id": "f43ad957",
   "metadata": {
    "execution": {
     "iopub.execute_input": "2024-03-11T01:59:03.776034Z",
     "iopub.status.busy": "2024-03-11T01:59:03.774568Z",
     "iopub.status.idle": "2024-03-11T01:59:03.787960Z",
     "shell.execute_reply": "2024-03-11T01:59:03.786857Z"
    },
    "papermill": {
     "duration": 0.032425,
     "end_time": "2024-03-11T01:59:03.790857",
     "exception": false,
     "start_time": "2024-03-11T01:59:03.758432",
     "status": "completed"
    },
    "tags": []
   },
   "outputs": [
    {
     "data": {
      "text/plain": [
       "0  \n",
       "0.0    567\n",
       "1.0     27\n",
       "Name: count, dtype: int64"
      ]
     },
     "execution_count": 19,
     "metadata": {},
     "output_type": "execute_result"
    }
   ],
   "source": [
    "pd.DataFrame(test_preds).value_counts()"
   ]
  },
  {
   "cell_type": "code",
   "execution_count": 20,
   "id": "35f868b7",
   "metadata": {
    "execution": {
     "iopub.execute_input": "2024-03-11T01:59:03.822236Z",
     "iopub.status.busy": "2024-03-11T01:59:03.821650Z",
     "iopub.status.idle": "2024-03-11T01:59:05.821897Z",
     "shell.execute_reply": "2024-03-11T01:59:05.820770Z"
    },
    "papermill": {
     "duration": 2.018869,
     "end_time": "2024-03-11T01:59:05.824333",
     "exception": false,
     "start_time": "2024-03-11T01:59:03.805464",
     "status": "completed"
    },
    "tags": []
   },
   "outputs": [
    {
     "data": {
      "text/plain": [
       "0.1891891891891892"
      ]
     },
     "execution_count": 20,
     "metadata": {},
     "output_type": "execute_result"
    }
   ],
   "source": [
    "test_preds = pipeline.predict_proba(X_test)[:, 1]\n",
    "train_preds = pipeline.predict_proba(X_train)[:, 1]\n",
    "ths = np.linspace(0, 1, 1000)\n",
    "best_th = ths[np.argmax([f1_score(y_test, test_preds>th) for th in ths])]\n",
    "best_th"
   ]
  },
  {
   "cell_type": "code",
   "execution_count": 21,
   "id": "16687609",
   "metadata": {
    "execution": {
     "iopub.execute_input": "2024-03-11T01:59:05.843802Z",
     "iopub.status.busy": "2024-03-11T01:59:05.843168Z",
     "iopub.status.idle": "2024-03-11T01:59:05.856801Z",
     "shell.execute_reply": "2024-03-11T01:59:05.855601Z"
    },
    "papermill": {
     "duration": 0.026004,
     "end_time": "2024-03-11T01:59:05.859209",
     "exception": false,
     "start_time": "2024-03-11T01:59:05.833205",
     "status": "completed"
    },
    "tags": []
   },
   "outputs": [
    {
     "name": "stdout",
     "output_type": "stream",
     "text": [
      "Train f1: 0.520048602673147\n",
      "Test f1: 0.5507246376811593\n"
     ]
    }
   ],
   "source": [
    "test_f1 = f1_score(y_test, test_preds>best_th)\n",
    "train_f1 = f1_score(y_train, train_preds>best_th)\n",
    "print(f\"Train f1: {train_f1}\")\n",
    "print(f\"Test f1: {test_f1}\")\n"
   ]
  },
  {
   "cell_type": "code",
   "execution_count": 22,
   "id": "27eb798b",
   "metadata": {
    "execution": {
     "iopub.execute_input": "2024-03-11T01:59:05.878876Z",
     "iopub.status.busy": "2024-03-11T01:59:05.878468Z",
     "iopub.status.idle": "2024-03-11T01:59:06.195806Z",
     "shell.execute_reply": "2024-03-11T01:59:06.194113Z"
    },
    "papermill": {
     "duration": 0.332068,
     "end_time": "2024-03-11T01:59:06.200267",
     "exception": false,
     "start_time": "2024-03-11T01:59:05.868199",
     "status": "completed"
    },
    "tags": []
   },
   "outputs": [
    {
     "data": {
      "image/png": "[encoded data removed]",
      "text/plain": [
       "<Figure size 640x480 with 1 Axes>"
      ]
     },
     "metadata": {},
     "output_type": "display_data"
    }
   ],
   "source": [
    "plt.hist(test_preds, bins=100)\n",
    "plt.show()"
   ]
  },
  {
   "cell_type": "code",
   "execution_count": 23,
   "id": "08bd48fc",
   "metadata": {
    "execution": {
     "iopub.execute_input": "2024-03-11T01:59:06.230218Z",
     "iopub.status.busy": "2024-03-11T01:59:06.229641Z",
     "iopub.status.idle": "2024-03-11T01:59:06.552945Z",
     "shell.execute_reply": "2024-03-11T01:59:06.551784Z"
    },
    "papermill": {
     "duration": 0.343327,
     "end_time": "2024-03-11T01:59:06.555613",
     "exception": false,
     "start_time": "2024-03-11T01:59:06.212286",
     "status": "completed"
    },
    "tags": []
   },
   "outputs": [
    {
     "data": {
      "text/html": [
       "<style>#sk-container-id-3 {color: black;background-color: white;}#sk-container-id-3 pre{padding: 0;}#sk-container-id-3 div.sk-toggleable {background-color: white;}#sk-container-id-3 label.sk-toggleable__label {cursor: pointer;display: block;width: 100%;margin-bottom: 0;padding: 0.3em;box-sizing: border-box;text-align: center;}#sk-container-id-3 label.sk-toggleable__label-arrow:before {content: \"▸\";float: left;margin-right: 0.25em;color: #696969;}#sk-container-id-3 label.sk-toggleable__label-arrow:hover:before {color: black;}#sk-container-id-3 div.sk-estimator:hover label.sk-toggleable__label-arrow:before {color: black;}#sk-container-id-3 div.sk-toggleable__content {max-height: 0;max-width: 0;overflow: hidden;text-align: left;background-color: #f0f8ff;}#sk-container-id-3 div.sk-toggleable__content pre {margin: 0.2em;color: black;border-radius: 0.25em;background-color: #f0f8ff;}#sk-container-id-3 input.sk-toggleable__control:checked~div.sk-toggleable__content {max-height: 200px;max-width: 100%;overflow: auto;}#sk-container-id-3 input.sk-toggleable__control:checked~label.sk-toggleable__label-arrow:before {content: \"▾\";}#sk-container-id-3 div.sk-estimator input.sk-toggleable__control:checked~label.sk-toggleable__label {background-color: #d4ebff;}#sk-container-id-3 div.sk-label input.sk-toggleable__control:checked~label.sk-toggleable__label {background-color: #d4ebff;}#sk-container-id-3 input.sk-hidden--visually {border: 0;clip: rect(1px 1px 1px 1px);clip: rect(1px, 1px, 1px, 1px);height: 1px;margin: -1px;overflow: hidden;padding: 0;position: absolute;width: 1px;}#sk-container-id-3 div.sk-estimator {font-family: monospace;background-color: #f0f8ff;border: 1px dotted black;border-radius: 0.25em;box-sizing: border-box;margin-bottom: 0.5em;}#sk-container-id-3 div.sk-estimator:hover {background-color: #d4ebff;}#sk-container-id-3 div.sk-parallel-item::after {content: \"\";width: 100%;border-bottom: 1px solid gray;flex-grow: 1;}#sk-container-id-3 div.sk-label:hover label.sk-toggleable__label {background-color: #d4ebff;}#sk-container-id-3 div.sk-serial::before {content: \"\";position: absolute;border-left: 1px solid gray;box-sizing: border-box;top: 0;bottom: 0;left: 50%;z-index: 0;}#sk-container-id-3 div.sk-serial {display: flex;flex-direction: column;align-items: center;background-color: white;padding-right: 0.2em;padding-left: 0.2em;position: relative;}#sk-container-id-3 div.sk-item {position: relative;z-index: 1;}#sk-container-id-3 div.sk-parallel {display: flex;align-items: stretch;justify-content: center;background-color: white;position: relative;}#sk-container-id-3 div.sk-item::before, #sk-container-id-3 div.sk-parallel-item::before {content: \"\";position: absolute;border-left: 1px solid gray;box-sizing: border-box;top: 0;bottom: 0;left: 50%;z-index: -1;}#sk-container-id-3 div.sk-parallel-item {display: flex;flex-direction: column;z-index: 1;position: relative;background-color: white;}#sk-container-id-3 div.sk-parallel-item:first-child::after {align-self: flex-end;width: 50%;}#sk-container-id-3 div.sk-parallel-item:last-child::after {align-self: flex-start;width: 50%;}#sk-container-id-3 div.sk-parallel-item:only-child::after {width: 0;}#sk-container-id-3 div.sk-dashed-wrapped {border: 1px dashed gray;margin: 0 0.4em 0.5em 0.4em;box-sizing: border-box;padding-bottom: 0.4em;background-color: white;}#sk-container-id-3 div.sk-label label {font-family: monospace;font-weight: bold;display: inline-block;line-height: 1.2em;}#sk-container-id-3 div.sk-label-container {text-align: center;}#sk-container-id-3 div.sk-container {/* jupyter's `normalize.less` sets `[hidden] { display: none; }` but bootstrap.min.css set `[hidden] { display: none !important; }` so we also need the `!important` here to be able to override the default hidden behavior on the sphinx rendered scikit-learn.org. See: https://github.com/scikit-learn/scikit-learn/issues/21755 */display: inline-block !important;position: relative;}#sk-container-id-3 div.sk-text-repr-fallback {display: none;}</style><div id=\"sk-container-id-3\" class=\"sk-top-container\"><div class=\"sk-text-repr-fallback\"><pre>Pipeline(steps=[(&#x27;data_pipeline&#x27;,\n",
       "                 Pipeline(steps=[(&#x27;data_processor&#x27;,\n",
       "                                  ColumnTransformer(transformers=[(&#x27;num&#x27;,\n",
       "                                                                   Pipeline(steps=[(&#x27;imputer&#x27;,\n",
       "                                                                                    SimpleImputer(strategy=&#x27;median&#x27;)),\n",
       "                                                                                   (&#x27;scaler&#x27;,\n",
       "                                                                                    StandardScaler())]),\n",
       "                                                                   Index([&#x27;MULTI_CANCER&#x27;, &#x27;RIESGOS&#x27;, &#x27;PESO&#x27;, &#x27;TALLA&#x27;, &#x27;TSISTOLICA&#x27;, &#x27;TDIASTOLICA&#x27;,\n",
       "       &#x27;mes_6&#x27;, &#x27;mes_5&#x27;, &#x27;mes_4&#x27;, &#x27;mes_3&#x27;, &#x27;mes_2&#x27;, &#x27;mes_1&#x27;, &#x27;valor_servicio&#x27;,\n",
       "       &#x27;IV_NIVEL&#x27;, &#x27;HO...\n",
       "       &#x27;Citas_oncologicas_cancer&#x27;, &#x27;psiquiatria_cancer&#x27;, &#x27;psicologia_cancer&#x27;,\n",
       "       &#x27;nutricion_cancer&#x27;],\n",
       "      dtype=&#x27;object&#x27;)),\n",
       "                                                                  (&#x27;cat&#x27;,\n",
       "                                                                   OneHotEncoder(drop=&#x27;if_binary&#x27;,\n",
       "                                                                                 handle_unknown=&#x27;ignore&#x27;),\n",
       "                                                                   [&#x27;GENERO&#x27;,\n",
       "                                                                    &#x27;ESTADO_CIVIL&#x27;,\n",
       "                                                                    &#x27;CESION&#x27;,\n",
       "                                                                    &#x27;CANCER_MAMA_FAMILIAR&#x27;,\n",
       "                                                                    &#x27;CANCER_OTRO_SITIO&#x27;,\n",
       "                                                                    &#x27;CANCER_OTRO_SITIO_FAMILIAR&#x27;,\n",
       "                                                                    &#x27;CEREBRAL_FAMILIAR&#x27;,\n",
       "                                                                    &#x27;atencion_nutricion&#x27;])]))])),\n",
       "                (&#x27;model&#x27;, LogisticRegression())])</pre><b>In a Jupyter environment, please rerun this cell to show the HTML representation or trust the notebook. <br />On GitHub, the HTML representation is unable to render, please try loading this page with nbviewer.org.</b></div><div class=\"sk-container\" hidden><div class=\"sk-item sk-dashed-wrapped\"><div class=\"sk-label-container\"><div class=\"sk-label sk-toggleable\"><input class=\"sk-toggleable__control sk-hidden--visually\" id=\"sk-estimator-id-19\" type=\"checkbox\" ><label for=\"sk-estimator-id-19\" class=\"sk-toggleable__label sk-toggleable__label-arrow\">Pipeline</label><div class=\"sk-toggleable__content\"><pre>Pipeline(steps=[(&#x27;data_pipeline&#x27;,\n",
       "                 Pipeline(steps=[(&#x27;data_processor&#x27;,\n",
       "                                  ColumnTransformer(transformers=[(&#x27;num&#x27;,\n",
       "                                                                   Pipeline(steps=[(&#x27;imputer&#x27;,\n",
       "                                                                                    SimpleImputer(strategy=&#x27;median&#x27;)),\n",
       "                                                                                   (&#x27;scaler&#x27;,\n",
       "                                                                                    StandardScaler())]),\n",
       "                                                                   Index([&#x27;MULTI_CANCER&#x27;, &#x27;RIESGOS&#x27;, &#x27;PESO&#x27;, &#x27;TALLA&#x27;, &#x27;TSISTOLICA&#x27;, &#x27;TDIASTOLICA&#x27;,\n",
       "       &#x27;mes_6&#x27;, &#x27;mes_5&#x27;, &#x27;mes_4&#x27;, &#x27;mes_3&#x27;, &#x27;mes_2&#x27;, &#x27;mes_1&#x27;, &#x27;valor_servicio&#x27;,\n",
       "       &#x27;IV_NIVEL&#x27;, &#x27;HO...\n",
       "       &#x27;Citas_oncologicas_cancer&#x27;, &#x27;psiquiatria_cancer&#x27;, &#x27;psicologia_cancer&#x27;,\n",
       "       &#x27;nutricion_cancer&#x27;],\n",
       "      dtype=&#x27;object&#x27;)),\n",
       "                                                                  (&#x27;cat&#x27;,\n",
       "                                                                   OneHotEncoder(drop=&#x27;if_binary&#x27;,\n",
       "                                                                                 handle_unknown=&#x27;ignore&#x27;),\n",
       "                                                                   [&#x27;GENERO&#x27;,\n",
       "                                                                    &#x27;ESTADO_CIVIL&#x27;,\n",
       "                                                                    &#x27;CESION&#x27;,\n",
       "                                                                    &#x27;CANCER_MAMA_FAMILIAR&#x27;,\n",
       "                                                                    &#x27;CANCER_OTRO_SITIO&#x27;,\n",
       "                                                                    &#x27;CANCER_OTRO_SITIO_FAMILIAR&#x27;,\n",
       "                                                                    &#x27;CEREBRAL_FAMILIAR&#x27;,\n",
       "                                                                    &#x27;atencion_nutricion&#x27;])]))])),\n",
       "                (&#x27;model&#x27;, LogisticRegression())])</pre></div></div></div><div class=\"sk-serial\"><div class=\"sk-item\"><div class=\"sk-label-container\"><div class=\"sk-label sk-toggleable\"><input class=\"sk-toggleable__control sk-hidden--visually\" id=\"sk-estimator-id-20\" type=\"checkbox\" ><label for=\"sk-estimator-id-20\" class=\"sk-toggleable__label sk-toggleable__label-arrow\">data_pipeline: Pipeline</label><div class=\"sk-toggleable__content\"><pre>Pipeline(steps=[(&#x27;data_processor&#x27;,\n",
       "                 ColumnTransformer(transformers=[(&#x27;num&#x27;,\n",
       "                                                  Pipeline(steps=[(&#x27;imputer&#x27;,\n",
       "                                                                   SimpleImputer(strategy=&#x27;median&#x27;)),\n",
       "                                                                  (&#x27;scaler&#x27;,\n",
       "                                                                   StandardScaler())]),\n",
       "                                                  Index([&#x27;MULTI_CANCER&#x27;, &#x27;RIESGOS&#x27;, &#x27;PESO&#x27;, &#x27;TALLA&#x27;, &#x27;TSISTOLICA&#x27;, &#x27;TDIASTOLICA&#x27;,\n",
       "       &#x27;mes_6&#x27;, &#x27;mes_5&#x27;, &#x27;mes_4&#x27;, &#x27;mes_3&#x27;, &#x27;mes_2&#x27;, &#x27;mes_1&#x27;, &#x27;valor_servicio&#x27;,\n",
       "       &#x27;IV_NIVEL&#x27;, &#x27;HOSPI_NO_QUIRURGICA&#x27;, &#x27;URGENCIAS&#x27;, &#x27;H...\n",
       "       &#x27;cuidado_palitiavo__cancer&#x27;, &#x27;inmunoterapias_cancer&#x27;,\n",
       "       &#x27;Citas_oncologicas_cancer&#x27;, &#x27;psiquiatria_cancer&#x27;, &#x27;psicologia_cancer&#x27;,\n",
       "       &#x27;nutricion_cancer&#x27;],\n",
       "      dtype=&#x27;object&#x27;)),\n",
       "                                                 (&#x27;cat&#x27;,\n",
       "                                                  OneHotEncoder(drop=&#x27;if_binary&#x27;,\n",
       "                                                                handle_unknown=&#x27;ignore&#x27;),\n",
       "                                                  [&#x27;GENERO&#x27;, &#x27;ESTADO_CIVIL&#x27;,\n",
       "                                                   &#x27;CESION&#x27;,\n",
       "                                                   &#x27;CANCER_MAMA_FAMILIAR&#x27;,\n",
       "                                                   &#x27;CANCER_OTRO_SITIO&#x27;,\n",
       "                                                   &#x27;CANCER_OTRO_SITIO_FAMILIAR&#x27;,\n",
       "                                                   &#x27;CEREBRAL_FAMILIAR&#x27;,\n",
       "                                                   &#x27;atencion_nutricion&#x27;])]))])</pre></div></div></div><div class=\"sk-serial\"><div class=\"sk-item sk-dashed-wrapped\"><div class=\"sk-label-container\"><div class=\"sk-label sk-toggleable\"><input class=\"sk-toggleable__control sk-hidden--visually\" id=\"sk-estimator-id-21\" type=\"checkbox\" ><label for=\"sk-estimator-id-21\" class=\"sk-toggleable__label sk-toggleable__label-arrow\">data_processor: ColumnTransformer</label><div class=\"sk-toggleable__content\"><pre>ColumnTransformer(transformers=[(&#x27;num&#x27;,\n",
       "                                 Pipeline(steps=[(&#x27;imputer&#x27;,\n",
       "                                                  SimpleImputer(strategy=&#x27;median&#x27;)),\n",
       "                                                 (&#x27;scaler&#x27;, StandardScaler())]),\n",
       "                                 Index([&#x27;MULTI_CANCER&#x27;, &#x27;RIESGOS&#x27;, &#x27;PESO&#x27;, &#x27;TALLA&#x27;, &#x27;TSISTOLICA&#x27;, &#x27;TDIASTOLICA&#x27;,\n",
       "       &#x27;mes_6&#x27;, &#x27;mes_5&#x27;, &#x27;mes_4&#x27;, &#x27;mes_3&#x27;, &#x27;mes_2&#x27;, &#x27;mes_1&#x27;, &#x27;valor_servicio&#x27;,\n",
       "       &#x27;IV_NIVEL&#x27;, &#x27;HOSPI_NO_QUIRURGICA&#x27;, &#x27;URGENCIAS&#x27;, &#x27;HOSPITALIZACION&#x27;,\n",
       "       &#x27;CITA_ONCOLOGICA&#x27;,...\n",
       "       &#x27;cuidado_palitiavo__cancer&#x27;, &#x27;inmunoterapias_cancer&#x27;,\n",
       "       &#x27;Citas_oncologicas_cancer&#x27;, &#x27;psiquiatria_cancer&#x27;, &#x27;psicologia_cancer&#x27;,\n",
       "       &#x27;nutricion_cancer&#x27;],\n",
       "      dtype=&#x27;object&#x27;)),\n",
       "                                (&#x27;cat&#x27;,\n",
       "                                 OneHotEncoder(drop=&#x27;if_binary&#x27;,\n",
       "                                               handle_unknown=&#x27;ignore&#x27;),\n",
       "                                 [&#x27;GENERO&#x27;, &#x27;ESTADO_CIVIL&#x27;, &#x27;CESION&#x27;,\n",
       "                                  &#x27;CANCER_MAMA_FAMILIAR&#x27;, &#x27;CANCER_OTRO_SITIO&#x27;,\n",
       "                                  &#x27;CANCER_OTRO_SITIO_FAMILIAR&#x27;,\n",
       "                                  &#x27;CEREBRAL_FAMILIAR&#x27;, &#x27;atencion_nutricion&#x27;])])</pre></div></div></div><div class=\"sk-parallel\"><div class=\"sk-parallel-item\"><div class=\"sk-item\"><div class=\"sk-label-container\"><div class=\"sk-label sk-toggleable\"><input class=\"sk-toggleable__control sk-hidden--visually\" id=\"sk-estimator-id-22\" type=\"checkbox\" ><label for=\"sk-estimator-id-22\" class=\"sk-toggleable__label sk-toggleable__label-arrow\">num</label><div class=\"sk-toggleable__content\"><pre>Index([&#x27;MULTI_CANCER&#x27;, &#x27;RIESGOS&#x27;, &#x27;PESO&#x27;, &#x27;TALLA&#x27;, &#x27;TSISTOLICA&#x27;, &#x27;TDIASTOLICA&#x27;,\n",
       "       &#x27;mes_6&#x27;, &#x27;mes_5&#x27;, &#x27;mes_4&#x27;, &#x27;mes_3&#x27;, &#x27;mes_2&#x27;, &#x27;mes_1&#x27;, &#x27;valor_servicio&#x27;,\n",
       "       &#x27;IV_NIVEL&#x27;, &#x27;HOSPI_NO_QUIRURGICA&#x27;, &#x27;URGENCIAS&#x27;, &#x27;HOSPITALIZACION&#x27;,\n",
       "       &#x27;CITA_ONCOLOGICA&#x27;, &#x27;Biopsias_cancer&#x27;, &#x27;radioterapias_cancer&#x27;,\n",
       "       &#x27;quimioterapias__cancer&#x27;, &#x27;hormonoterapias__cancer&#x27;,\n",
       "       &#x27;cuidado_palitiavo__cancer&#x27;, &#x27;inmunoterapias_cancer&#x27;,\n",
       "       &#x27;Citas_oncologicas_cancer&#x27;, &#x27;psiquiatria_cancer&#x27;, &#x27;psicologia_cancer&#x27;,\n",
       "       &#x27;nutricion_cancer&#x27;],\n",
       "      dtype=&#x27;object&#x27;)</pre></div></div></div><div class=\"sk-serial\"><div class=\"sk-item\"><div class=\"sk-serial\"><div class=\"sk-item\"><div class=\"sk-estimator sk-toggleable\"><input class=\"sk-toggleable__control sk-hidden--visually\" id=\"sk-estimator-id-23\" type=\"checkbox\" ><label for=\"sk-estimator-id-23\" class=\"sk-toggleable__label sk-toggleable__label-arrow\">SimpleImputer</label><div class=\"sk-toggleable__content\"><pre>SimpleImputer(strategy=&#x27;median&#x27;)</pre></div></div></div><div class=\"sk-item\"><div class=\"sk-estimator sk-toggleable\"><input class=\"sk-toggleable__control sk-hidden--visually\" id=\"sk-estimator-id-24\" type=\"checkbox\" ><label for=\"sk-estimator-id-24\" class=\"sk-toggleable__label sk-toggleable__label-arrow\">StandardScaler</label><div class=\"sk-toggleable__content\"><pre>StandardScaler()</pre></div></div></div></div></div></div></div></div><div class=\"sk-parallel-item\"><div class=\"sk-item\"><div class=\"sk-label-container\"><div class=\"sk-label sk-toggleable\"><input class=\"sk-toggleable__control sk-hidden--visually\" id=\"sk-estimator-id-25\" type=\"checkbox\" ><label for=\"sk-estimator-id-25\" class=\"sk-toggleable__label sk-toggleable__label-arrow\">cat</label><div class=\"sk-toggleable__content\"><pre>[&#x27;GENERO&#x27;, &#x27;ESTADO_CIVIL&#x27;, &#x27;CESION&#x27;, &#x27;CANCER_MAMA_FAMILIAR&#x27;, &#x27;CANCER_OTRO_SITIO&#x27;, &#x27;CANCER_OTRO_SITIO_FAMILIAR&#x27;, &#x27;CEREBRAL_FAMILIAR&#x27;, &#x27;atencion_nutricion&#x27;]</pre></div></div></div><div class=\"sk-serial\"><div class=\"sk-item\"><div class=\"sk-estimator sk-toggleable\"><input class=\"sk-toggleable__control sk-hidden--visually\" id=\"sk-estimator-id-26\" type=\"checkbox\" ><label for=\"sk-estimator-id-26\" class=\"sk-toggleable__label sk-toggleable__label-arrow\">OneHotEncoder</label><div class=\"sk-toggleable__content\"><pre>OneHotEncoder(drop=&#x27;if_binary&#x27;, handle_unknown=&#x27;ignore&#x27;)</pre></div></div></div></div></div></div></div></div></div></div><div class=\"sk-item\"><div class=\"sk-estimator sk-toggleable\"><input class=\"sk-toggleable__control sk-hidden--visually\" id=\"sk-estimator-id-27\" type=\"checkbox\" ><label for=\"sk-estimator-id-27\" class=\"sk-toggleable__label sk-toggleable__label-arrow\">LogisticRegression</label><div class=\"sk-toggleable__content\"><pre>LogisticRegression()</pre></div></div></div></div></div></div></div>"
      ],
      "text/plain": [
       "Pipeline(steps=[('data_pipeline',\n",
       "                 Pipeline(steps=[('data_processor',\n",
       "                                  ColumnTransformer(transformers=[('num',\n",
       "                                                                   Pipeline(steps=[('imputer',\n",
       "                                                                                    SimpleImputer(strategy='median')),\n",
       "                                                                                   ('scaler',\n",
       "                                                                                    StandardScaler())]),\n",
       "                                                                   Index(['MULTI_CANCER', 'RIESGOS', 'PESO', 'TALLA', 'TSISTOLICA', 'TDIASTOLICA',\n",
       "       'mes_6', 'mes_5', 'mes_4', 'mes_3', 'mes_2', 'mes_1', 'valor_servicio',\n",
       "       'IV_NIVEL', 'HO...\n",
       "       'Citas_oncologicas_cancer', 'psiquiatria_cancer', 'psicologia_cancer',\n",
       "       'nutricion_cancer'],\n",
       "      dtype='object')),\n",
       "                                                                  ('cat',\n",
       "                                                                   OneHotEncoder(drop='if_binary',\n",
       "                                                                                 handle_unknown='ignore'),\n",
       "                                                                   ['GENERO',\n",
       "                                                                    'ESTADO_CIVIL',\n",
       "                                                                    'CESION',\n",
       "                                                                    'CANCER_MAMA_FAMILIAR',\n",
       "                                                                    'CANCER_OTRO_SITIO',\n",
       "                                                                    'CANCER_OTRO_SITIO_FAMILIAR',\n",
       "                                                                    'CEREBRAL_FAMILIAR',\n",
       "                                                                    'atencion_nutricion'])]))])),\n",
       "                ('model', LogisticRegression())])"
      ]
     },
     "execution_count": 23,
     "metadata": {},
     "output_type": "execute_result"
    }
   ],
   "source": [
    "pipeline.fit(X, y)"
   ]
  },
  {
   "cell_type": "markdown",
   "id": "5d09fd10",
   "metadata": {
    "papermill": {
     "duration": 0.009198,
     "end_time": "2024-03-11T01:59:06.574942",
     "exception": false,
     "start_time": "2024-03-11T01:59:06.565744",
     "status": "completed"
    },
    "tags": []
   },
   "source": [
    "# Submission"
   ]
  },
  {
   "cell_type": "code",
   "execution_count": 24,
   "id": "def36b0a",
   "metadata": {
    "execution": {
     "iopub.execute_input": "2024-03-11T01:59:06.599680Z",
     "iopub.status.busy": "2024-03-11T01:59:06.598747Z",
     "iopub.status.idle": "2024-03-11T01:59:06.671708Z",
     "shell.execute_reply": "2024-03-11T01:59:06.670179Z"
    },
    "papermill": {
     "duration": 0.090096,
     "end_time": "2024-03-11T01:59:06.675125",
     "exception": false,
     "start_time": "2024-03-11T01:59:06.585029",
     "status": "completed"
    },
    "tags": []
   },
   "outputs": [
    {
     "name": "stderr",
     "output_type": "stream",
     "text": [
      "/opt/conda/lib/python3.10/site-packages/sklearn/preprocessing/_encoders.py:202: UserWarning: Found unknown categories in columns [2, 3, 4, 5, 6] during transform. These unknown categories will be encoded as all zeros\n",
      "  warnings.warn(\n"
     ]
    }
   ],
   "source": [
    "test_df = pd.read_parquet(osp.join(DATA_DIR, \"df_test.parquet\"))\n",
    "submission_pred = pipeline.predict_proba(test_df)[:, 1]\n",
    "submission_pred_bool = submission_pred>best_th\n",
    "submission_pred_int = [int(item) for item in submission_pred_bool]\n",
    "submission = pd.DataFrame(data=dict(ID=test_df.index, Target=submission_pred_int))\n",
    "submission.to_csv(\"submission.csv\", index=False)"
   ]
  },
  {
   "cell_type": "code",
   "execution_count": null,
   "id": "49425d29",
   "metadata": {
    "papermill": {
     "duration": 0.016071,
     "end_time": "2024-03-11T01:59:06.709292",
     "exception": false,
     "start_time": "2024-03-11T01:59:06.693221",
     "status": "completed"
    },
    "tags": []
   },
   "outputs": [],
   "source": [
    " "
   ]
  }
 ],
 "metadata": {
  "kaggle": {
   "accelerator": "none",
   "dataSources": [
    {
     "databundleVersionId": 7748115,
     "sourceId": 70907,
     "sourceType": "competition"
    }
   ],
   "dockerImageVersionId": 30646,
   "isGpuEnabled": false,
   "isInternetEnabled": true,
   "language": "python",
   "sourceType": "notebook"
  },
  "kernelspec": {
   "display_name": "Python 3 (ipykernel)",
   "language": "python",
   "name": "python3"
  },
  "language_info": {
   "codemirror_mode": {
    "name": "ipython",
    "version": 3
   },
   "file_extension": ".py",
   "mimetype": "text/x-python",
   "name": "python",
   "nbconvert_exporter": "python",
   "pygments_lexer": "ipython3",
   "version": "3.10.9"
  },
  "papermill": {
   "default_parameters": {},
   "duration": 9.944956,
   "end_time": "2024-03-11T01:59:07.351090",
   "environment_variables": {},
   "exception": null,
   "input_path": "__notebook__.ipynb",
   "output_path": "__notebook__.ipynb",
   "parameters": {},
   "start_time": "2024-03-11T01:58:57.406134",
   "version": "2.4.0"
  }
 },
 "nbformat": 4,
 "nbformat_minor": 5
}
