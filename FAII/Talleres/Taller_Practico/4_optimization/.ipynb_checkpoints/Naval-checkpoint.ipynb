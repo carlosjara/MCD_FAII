{
 "cells": [
  {
   "cell_type": "code",
   "execution_count": 1,
   "id": "796ec9d5-3a15-44b8-8283-0e0b4167c557",
   "metadata": {},
   "outputs": [],
   "source": [
    "import pandas as pd\n",
    "import numpy as np"
   ]
  },
  {
   "cell_type": "code",
   "execution_count": 2,
   "id": "eef24caf-6a17-4356-a23c-953e54a544cb",
   "metadata": {},
   "outputs": [],
   "source": [
    "BARCO = 'B'\n",
    "FALLO = 'F'\n",
    "GOLPE = 'G'\n",
    "VACIO = '-'"
   ]
  },
  {
   "cell_type": "code",
   "execution_count": 3,
   "id": "36f61708-9a39-43b9-a506-594854f5b09b",
   "metadata": {},
   "outputs": [],
   "source": [
    "## Definicion de funciones\n",
    "def LlenarAutomaticoMatrix(matriz,cant_barcos):\n",
    "    for i in range(cant_barcos):\n",
    "        x_rand = np.random.randint(0,4)\n",
    "        y_rand = np.random.randint(0,4)\n",
    "        #print(f\"Rand:{i} - {x_rand},{y_rand}\")\n",
    "        if matriz[x_rand,y_rand]==BARCO:\n",
    "            x_rand_ = np.random.randint(0,4)\n",
    "            y_rand_ = np.random.randint(0,4)\n",
    "            matriz[x_rand_,y_rand_] = BARCO\n",
    "        else:\n",
    "            matriz[x_rand,y_rand] = BARCO\n",
    "    return matriz\n",
    "\n",
    "def LlenarManualMatrix(matriz,cant_barcos):\n",
    "    for i in range(cant_barcos):\n",
    "        x_rand, y_rand = input(\"Coordenada (X Y):\").split()\n",
    "        x_rand, y_rand  = int(x_rand), int(y_rand) \n",
    "        #print(f\"Rand:{i} - {x_rand},{y_rand}\")\n",
    "        if matriz[x_rand,y_rand]==BARCO:\n",
    "            x_rand, y_rand_ = input(\"Ya lo habia ingresado, prueba otro!: (X Y):\")\n",
    "            x_rand, y_rand_  = int(x_rand_), int(y_rand_)\n",
    "            matriz[x_rand_,y_rand_] = BARCO\n",
    "        else:\n",
    "            matriz[x_rand,y_rand] = BARCO\n",
    "    return matriz\n",
    "\n",
    "def Generar_matrix():  \n",
    "    return np.full((5,5),'-')\n",
    "\n",
    "def ataque(matriz, x,y):\n",
    "    #print(f\"Tu ataque : -{x}-{y}-\\n{print(matriz[x, y])} \")\n",
    "    if matriz[x,y]==BARCO or matriz[x,y]==GOLPE:\n",
    "        return True\n",
    "    else:\n",
    "        return False\n",
    "    return False\n",
    "    #return True if matriz[x,y] == BARCO else False"
   ]
  },
  {
   "cell_type": "code",
   "execution_count": 4,
   "id": "5e58892d-2f57-48d8-80f8-fa1a1478a2a0",
   "metadata": {},
   "outputs": [
    {
     "name": "stdin",
     "output_type": "stream",
     "text": [
      "Coordenada (X Y): 1 1\n",
      "Coordenada (X Y): 2 2\n",
      "Coordenada (X Y): 3 3\n"
     ]
    },
    {
     "name": "stdout",
     "output_type": "stream",
     "text": [
      "TABLAS\n",
      "\n",
      "\n",
      "Jugador:\n",
      "[['-' '-' '-' '-' '-']\n",
      " ['-' 'B' '-' '-' '-']\n",
      " ['-' '-' 'B' '-' '-']\n",
      " ['-' '-' '-' 'B' '-']\n",
      " ['-' '-' '-' '-' '-']]\n",
      "Maquina:\n",
      "[['-' '-' '-' '-' '-']\n",
      " ['-' '-' '-' '-' '-']\n",
      " ['-' '-' '-' '-' '-']\n",
      " ['-' '-' '-' '-' '-']\n",
      " ['-' '-' '-' '-' '-']]\n"
     ]
    }
   ],
   "source": [
    "Jugador = Generar_matrix()\n",
    "Maquina = Generar_matrix()\n",
    "F_Maquina = Generar_matrix()\n",
    "Jugador = LlenarManualMatrix(Jugador,3)\n",
    "Maquina = LlenarAutomaticoMatrix(Maquina,3)\n",
    "print(f\"TABLAS\\n\\n\\nJugador:\\n{Jugador}\\nMaquina:\\n{F_Maquina}\")\n"
   ]
  },
  {
   "cell_type": "code",
   "execution_count": null,
   "id": "d3f34b75-ff46-4165-9a3c-26bb7494da5c",
   "metadata": {},
   "outputs": [],
   "source": [
    "Maquina"
   ]
  },
  {
   "cell_type": "code",
   "execution_count": 5,
   "id": "887af0df-9f4c-42bf-a695-8cc241a5d527",
   "metadata": {},
   "outputs": [
    {
     "name": "stdout",
     "output_type": "stream",
     "text": [
      "Sr. Jugador SU TURNO: \n"
     ]
    },
    {
     "name": "stdin",
     "output_type": "stream",
     "text": [
      "Ataque Jugador(X Y): 1 1\n"
     ]
    },
    {
     "name": "stdout",
     "output_type": "stream",
     "text": [
      "Jugador   Maquina\n",
      "- - - - -  - - - - -\n",
      "- B - - -  - F - - -\n",
      "- - B - -  - - - - -\n",
      "- - - B -  - - - - -\n",
      "- - - - -  - - - - -\n",
      "Resultado JUGADOR -  Fallaste\n",
      "\n",
      "\n",
      "Ataque Maquina(X Y): 0 2\n",
      "Jugador   Maquina\n",
      "- - F - -  - - - - -\n",
      "- B - - -  - F - - -\n",
      "- - B - -  - - - - -\n",
      "- - - B -  - - - - -\n",
      "- - - - -  - - - - -\n",
      "Resultado MAQUINA -  Falló\n",
      "\n",
      "\n",
      "Sus aciertos en esta ronda son: 0\n",
      "Los aciertos de la maquina esta ronda son: 0\n",
      "###################################################################\n",
      "\n",
      "\n"
     ]
    },
    {
     "name": "stdin",
     "output_type": "stream",
     "text": [
      "Ataque Jugador(X Y): 0 2\n"
     ]
    },
    {
     "name": "stdout",
     "output_type": "stream",
     "text": [
      "Jugador   Maquina\n",
      "- - F - -  - - F - -\n",
      "- B - - -  - F - - -\n",
      "- - B - -  - - - - -\n",
      "- - - B -  - - - - -\n",
      "- - - - -  - - - - -\n",
      "Resultado JUGADOR -  Fallaste\n",
      "\n",
      "\n",
      "Ataque Maquina(X Y): 3 1\n",
      "Jugador   Maquina\n",
      "- - F - -  - - F - -\n",
      "- B - - -  - F - - -\n",
      "- - B - -  - - - - -\n",
      "- F - B -  - - - - -\n",
      "- - - - -  - - - - -\n",
      "Resultado MAQUINA -  Falló\n",
      "\n",
      "\n",
      "Sus aciertos en esta ronda son: 0\n",
      "Los aciertos de la maquina esta ronda son: 0\n",
      "###################################################################\n",
      "\n",
      "\n"
     ]
    },
    {
     "name": "stdin",
     "output_type": "stream",
     "text": [
      "Ataque Jugador(X Y): 1 2\n"
     ]
    },
    {
     "name": "stdout",
     "output_type": "stream",
     "text": [
      "Jugador   Maquina\n",
      "- - F - -  - - F - -\n",
      "- B - - -  - F F - -\n",
      "- - B - -  - - - - -\n",
      "- F - B -  - - - - -\n",
      "- - - - -  - - - - -\n",
      "Resultado JUGADOR -  Fallaste\n",
      "\n",
      "\n",
      "Ataque Maquina(X Y): 2 0\n",
      "Jugador   Maquina\n",
      "- - F - -  - - F - -\n",
      "- B - - -  - F F - -\n",
      "F - B - -  - - - - -\n",
      "- F - B -  - - - - -\n",
      "- - - - -  - - - - -\n",
      "Resultado MAQUINA -  Falló\n",
      "\n",
      "\n",
      "Sus aciertos en esta ronda son: 0\n",
      "Los aciertos de la maquina esta ronda son: 0\n",
      "###################################################################\n",
      "\n",
      "\n"
     ]
    },
    {
     "name": "stdin",
     "output_type": "stream",
     "text": [
      "Ataque Jugador(X Y): 0 4\n"
     ]
    },
    {
     "name": "stdout",
     "output_type": "stream",
     "text": [
      "Jugador   Maquina\n",
      "- - F - -  - - F - F\n",
      "- B - - -  - F F - -\n",
      "F - B - -  - - - - -\n",
      "- F - B -  - - - - -\n",
      "- - - - -  - - - - -\n",
      "Resultado JUGADOR -  Fallaste\n",
      "\n",
      "\n",
      "Ataque Maquina(X Y): 1 3\n",
      "Jugador   Maquina\n",
      "- - F - -  - - F - F\n",
      "- B - F -  - F F - -\n",
      "F - B - -  - - - - -\n",
      "- F - B -  - - - - -\n",
      "- - - - -  - - - - -\n",
      "Resultado MAQUINA -  Falló\n",
      "\n",
      "\n",
      "Sus aciertos en esta ronda son: 0\n",
      "Los aciertos de la maquina esta ronda son: 0\n",
      "###################################################################\n",
      "\n",
      "\n"
     ]
    },
    {
     "name": "stdin",
     "output_type": "stream",
     "text": [
      "Ataque Jugador(X Y): 4 0\n"
     ]
    },
    {
     "name": "stdout",
     "output_type": "stream",
     "text": [
      "Jugador   Maquina\n",
      "- - F - -  - - F - F\n",
      "- B - F -  - F F - -\n",
      "F - B - -  - - - - -\n",
      "- F - B -  - - - - -\n",
      "- - - - -  F - - - -\n",
      "Resultado JUGADOR -  Fallaste\n",
      "\n",
      "\n",
      "Ataque Maquina(X Y): 0 1\n",
      "Jugador   Maquina\n",
      "- F F - -  - - F - F\n",
      "- B - F -  - F F - -\n",
      "F - B - -  - - - - -\n",
      "- F - B -  - - - - -\n",
      "- - - - -  F - - - -\n",
      "Resultado MAQUINA -  Falló\n",
      "\n",
      "\n",
      "Sus aciertos en esta ronda son: 0\n",
      "Los aciertos de la maquina esta ronda son: 0\n",
      "###################################################################\n",
      "\n",
      "\n"
     ]
    },
    {
     "name": "stdin",
     "output_type": "stream",
     "text": [
      "Ataque Jugador(X Y): 0 2\n"
     ]
    },
    {
     "name": "stdout",
     "output_type": "stream",
     "text": [
      "Jugador   Maquina\n",
      "- F F - -  - - F - F\n",
      "- B - F -  - F F - -\n",
      "F - B - -  - - - - -\n",
      "- F - B -  - - - - -\n",
      "- - - - -  F - - - -\n",
      "Resultado JUGADOR -  Fallaste\n",
      "\n",
      "\n",
      "Ataque Maquina(X Y): 0 3\n",
      "Jugador   Maquina\n",
      "- F F F -  - - F - F\n",
      "- B - F -  - F F - -\n",
      "F - B - -  - - - - -\n",
      "- F - B -  - - - - -\n",
      "- - - - -  F - - - -\n",
      "Resultado MAQUINA -  Falló\n",
      "\n",
      "\n",
      "Sus aciertos en esta ronda son: 0\n",
      "Los aciertos de la maquina esta ronda son: 0\n",
      "###################################################################\n",
      "\n",
      "\n"
     ]
    },
    {
     "name": "stdin",
     "output_type": "stream",
     "text": [
      "Ataque Jugador(X Y): 2 2\n"
     ]
    },
    {
     "name": "stdout",
     "output_type": "stream",
     "text": [
      "Jugador   Maquina\n",
      "- F F F -  - - F - F\n",
      "- B - F -  - F F - -\n",
      "F - B - -  - - F - -\n",
      "- F - B -  - - - - -\n",
      "- - - - -  F - - - -\n",
      "Resultado JUGADOR -  Fallaste\n",
      "\n",
      "\n",
      "Ataque Maquina(X Y): 3 1\n",
      "Jugador   Maquina\n",
      "- F F F -  - - F - F\n",
      "- B - F -  - F F - -\n",
      "F - B - -  - - F - -\n",
      "- F - B -  - - - - -\n",
      "- - - - -  F - - - -\n",
      "Resultado MAQUINA -  Falló\n",
      "\n",
      "\n",
      "Sus aciertos en esta ronda son: 0\n",
      "Los aciertos de la maquina esta ronda son: 0\n",
      "###################################################################\n",
      "\n",
      "\n"
     ]
    },
    {
     "name": "stdin",
     "output_type": "stream",
     "text": [
      "Ataque Jugador(X Y): 0 3\n"
     ]
    },
    {
     "name": "stdout",
     "output_type": "stream",
     "text": [
      "Jugador   Maquina\n",
      "- F F F -  - - F F F\n",
      "- B - F -  - F F - -\n",
      "F - B - -  - - F - -\n",
      "- F - B -  - - - - -\n",
      "- - - - -  F - - - -\n",
      "Resultado JUGADOR -  Fallaste\n",
      "\n",
      "\n",
      "Ataque Maquina(X Y): 0 0\n",
      "Jugador   Maquina\n",
      "F F F F -  - - F F F\n",
      "- B - F -  - F F - -\n",
      "F - B - -  - - F - -\n",
      "- F - B -  - - - - -\n",
      "- - - - -  F - - - -\n",
      "Resultado MAQUINA -  Falló\n",
      "\n",
      "\n",
      "Sus aciertos en esta ronda son: 0\n",
      "Los aciertos de la maquina esta ronda son: 0\n",
      "###################################################################\n",
      "\n",
      "\n"
     ]
    },
    {
     "name": "stdin",
     "output_type": "stream",
     "text": [
      "Ataque Jugador(X Y): 1 4\n"
     ]
    },
    {
     "name": "stdout",
     "output_type": "stream",
     "text": [
      "Jugador   Maquina\n",
      "F F F F -  - - F F F\n",
      "- B - F -  - F F - F\n",
      "F - B - -  - - F - -\n",
      "- F - B -  - - - - -\n",
      "- - - - -  F - - - -\n",
      "Resultado JUGADOR -  Fallaste\n",
      "\n",
      "\n",
      "Ataque Maquina(X Y): 2 0\n",
      "Jugador   Maquina\n",
      "F F F F -  - - F F F\n",
      "- B - F -  - F F - F\n",
      "F - B - -  - - F - -\n",
      "- F - B -  - - - - -\n",
      "- - - - -  F - - - -\n",
      "Resultado MAQUINA -  Falló\n",
      "\n",
      "\n",
      "Sus aciertos en esta ronda son: 0\n",
      "Los aciertos de la maquina esta ronda son: 0\n",
      "###################################################################\n",
      "\n",
      "\n"
     ]
    },
    {
     "name": "stdin",
     "output_type": "stream",
     "text": [
      "Ataque Jugador(X Y): 3 4\n"
     ]
    },
    {
     "name": "stdout",
     "output_type": "stream",
     "text": [
      "Jugador   Maquina\n",
      "F F F F -  - - F F F\n",
      "- B - F -  - F F - F\n",
      "F - B - -  - - F - -\n",
      "- F - B -  - - - - F\n",
      "- - - - -  F - - - -\n",
      "Resultado JUGADOR -  Fallaste\n",
      "\n",
      "\n",
      "Ataque Maquina(X Y): 2 3\n",
      "Jugador   Maquina\n",
      "F F F F -  - - F F F\n",
      "- B - F -  - F F - F\n",
      "F - B F -  - - F - -\n",
      "- F - B -  - - - - F\n",
      "- - - - -  F - - - -\n",
      "Resultado MAQUINA -  Falló\n",
      "\n",
      "\n",
      "Sus aciertos en esta ronda son: 0\n",
      "Los aciertos de la maquina esta ronda son: 0\n",
      "###################################################################\n",
      "\n",
      "\n"
     ]
    },
    {
     "name": "stdin",
     "output_type": "stream",
     "text": [
      "Ataque Jugador(X Y): 1 4\n"
     ]
    },
    {
     "name": "stdout",
     "output_type": "stream",
     "text": [
      "Jugador   Maquina\n",
      "F F F F -  - - F F F\n",
      "- B - F -  - F F - F\n",
      "F - B F -  - - F - -\n",
      "- F - B -  - - - - F\n",
      "- - - - -  F - - - -\n",
      "Resultado JUGADOR -  Fallaste\n",
      "\n",
      "\n",
      "Ataque Maquina(X Y): 0 3\n",
      "Jugador   Maquina\n",
      "F F F F -  - - F F F\n",
      "- B - F -  - F F - F\n",
      "F - B F -  - - F - -\n",
      "- F - B -  - - - - F\n",
      "- - - - -  F - - - -\n",
      "Resultado MAQUINA -  Falló\n",
      "\n",
      "\n",
      "Sus aciertos en esta ronda son: 0\n",
      "Los aciertos de la maquina esta ronda son: 0\n",
      "###################################################################\n",
      "\n",
      "\n"
     ]
    },
    {
     "name": "stdin",
     "output_type": "stream",
     "text": [
      "Ataque Jugador(X Y): 2 4\n"
     ]
    },
    {
     "name": "stdout",
     "output_type": "stream",
     "text": [
      "Jugador   Maquina\n",
      "F F F F -  - - F F F\n",
      "- B - F -  - F F - F\n",
      "F - B F -  - - F - F\n",
      "- F - B -  - - - - F\n",
      "- - - - -  F - - - -\n",
      "Resultado JUGADOR -  Fallaste\n",
      "\n",
      "\n",
      "Ataque Maquina(X Y): 0 3\n",
      "Jugador   Maquina\n",
      "F F F F -  - - F F F\n",
      "- B - F -  - F F - F\n",
      "F - B F -  - - F - F\n",
      "- F - B -  - - - - F\n",
      "- - - - -  F - - - -\n",
      "Resultado MAQUINA -  Falló\n",
      "\n",
      "\n",
      "Sus aciertos en esta ronda son: 0\n",
      "Los aciertos de la maquina esta ronda son: 0\n",
      "###################################################################\n",
      "\n",
      "\n"
     ]
    },
    {
     "name": "stdin",
     "output_type": "stream",
     "text": [
      "Ataque Jugador(X Y): 3 4\n"
     ]
    },
    {
     "name": "stdout",
     "output_type": "stream",
     "text": [
      "Jugador   Maquina\n",
      "F F F F -  - - F F F\n",
      "- B - F -  - F F - F\n",
      "F - B F -  - - F - F\n",
      "- F - B -  - - - - F\n",
      "- - - - -  F - - - -\n",
      "Resultado JUGADOR -  Fallaste\n",
      "\n",
      "\n",
      "Ataque Maquina(X Y): 0 1\n",
      "Jugador   Maquina\n",
      "F F F F -  - - F F F\n",
      "- B - F -  - F F - F\n",
      "F - B F -  - - F - F\n",
      "- F - B -  - - - - F\n",
      "- - - - -  F - - - -\n",
      "Resultado MAQUINA -  Falló\n",
      "\n",
      "\n",
      "Sus aciertos en esta ronda son: 0\n",
      "Los aciertos de la maquina esta ronda son: 0\n",
      "###################################################################\n",
      "\n",
      "\n"
     ]
    },
    {
     "name": "stdin",
     "output_type": "stream",
     "text": [
      "Ataque Jugador(X Y): 4 3\n"
     ]
    },
    {
     "name": "stdout",
     "output_type": "stream",
     "text": [
      "Jugador   Maquina\n",
      "F F F F -  - - F F F\n",
      "- B - F -  - F F - F\n",
      "F - B F -  - - F - F\n",
      "- F - B -  - - - - F\n",
      "- - - - -  F - - F -\n",
      "Resultado JUGADOR -  Fallaste\n",
      "\n",
      "\n",
      "Ataque Maquina(X Y): 3 0\n",
      "Jugador   Maquina\n",
      "F F F F -  - - F F F\n",
      "- B - F -  - F F - F\n",
      "F - B F -  - - F - F\n",
      "F F - B -  - - - - F\n",
      "- - - - -  F - - F -\n",
      "Resultado MAQUINA -  Falló\n",
      "\n",
      "\n",
      "Sus aciertos en esta ronda son: 0\n",
      "Los aciertos de la maquina esta ronda son: 0\n",
      "###################################################################\n",
      "\n",
      "\n"
     ]
    },
    {
     "name": "stdin",
     "output_type": "stream",
     "text": [
      "Ataque Jugador(X Y): 4 2\n"
     ]
    },
    {
     "name": "stdout",
     "output_type": "stream",
     "text": [
      "Jugador   Maquina\n",
      "F F F F -  - - F F F\n",
      "- B - F -  - F F - F\n",
      "F - B F -  - - F - F\n",
      "F F - B -  - - - - F\n",
      "- - - - -  F - F F -\n",
      "Resultado JUGADOR -  Fallaste\n",
      "\n",
      "\n",
      "Ataque Maquina(X Y): 1 3\n",
      "Jugador   Maquina\n",
      "F F F F -  - - F F F\n",
      "- B - F -  - F F - F\n",
      "F - B F -  - - F - F\n",
      "F F - B -  - - - - F\n",
      "- - - - -  F - F F -\n",
      "Resultado MAQUINA -  Falló\n",
      "\n",
      "\n",
      "Sus aciertos en esta ronda son: 0\n",
      "Los aciertos de la maquina esta ronda son: 0\n",
      "###################################################################\n",
      "\n",
      "\n"
     ]
    },
    {
     "name": "stdin",
     "output_type": "stream",
     "text": [
      "Ataque Jugador(X Y): 3 3\n"
     ]
    },
    {
     "name": "stdout",
     "output_type": "stream",
     "text": [
      "Jugador   Maquina\n",
      "F F F F -  - - F F F\n",
      "- B - F -  - F F - F\n",
      "F - B F -  - - F - F\n",
      "F F - B -  - - - F F\n",
      "- - - - -  F - F F -\n",
      "Resultado JUGADOR -  Fallaste\n",
      "\n",
      "\n",
      "Ataque Maquina(X Y): 1 3\n",
      "Jugador   Maquina\n",
      "F F F F -  - - F F F\n",
      "- B - F -  - F F - F\n",
      "F - B F -  - - F - F\n",
      "F F - B -  - - - F F\n",
      "- - - - -  F - F F -\n",
      "Resultado MAQUINA -  Falló\n",
      "\n",
      "\n",
      "Sus aciertos en esta ronda son: 0\n",
      "Los aciertos de la maquina esta ronda son: 0\n",
      "###################################################################\n",
      "\n",
      "\n"
     ]
    },
    {
     "name": "stdin",
     "output_type": "stream",
     "text": [
      "Ataque Jugador(X Y): 3 2\n"
     ]
    },
    {
     "name": "stdout",
     "output_type": "stream",
     "text": [
      "Jugador   Maquina\n",
      "F F F F -  - - F F F\n",
      "- B - F -  - F F - F\n",
      "F - B F -  - - F - F\n",
      "F F - B -  - - F F F\n",
      "- - - - -  F - F F -\n",
      "Resultado JUGADOR -  Fallaste\n",
      "\n",
      "\n",
      "Ataque Maquina(X Y): 3 1\n",
      "Jugador   Maquina\n",
      "F F F F -  - - F F F\n",
      "- B - F -  - F F - F\n",
      "F - B F -  - - F - F\n",
      "F F - B -  - - F F F\n",
      "- - - - -  F - F F -\n",
      "Resultado MAQUINA -  Falló\n",
      "\n",
      "\n",
      "Sus aciertos en esta ronda son: 0\n",
      "Los aciertos de la maquina esta ronda son: 0\n",
      "###################################################################\n",
      "\n",
      "\n"
     ]
    },
    {
     "name": "stdin",
     "output_type": "stream",
     "text": [
      "Ataque Jugador(X Y): 3 0\n"
     ]
    },
    {
     "name": "stdout",
     "output_type": "stream",
     "text": [
      "Jugador   Maquina\n",
      "F F F F -  - - F F F\n",
      "- B - F -  - F F - F\n",
      "F - B F -  - - F - F\n",
      "F F - B -  F - F F F\n",
      "- - - - -  F - F F -\n",
      "Resultado JUGADOR -  Fallaste\n",
      "\n",
      "\n",
      "Ataque Maquina(X Y): 3 3\n",
      "Jugador   Maquina\n",
      "F F F F -  - - F F F\n",
      "- B - F -  - F F - F\n",
      "F - B F -  - - F - F\n",
      "F F - G -  F - F F F\n",
      "- - - - -  F - F F -\n",
      "Resultado MAQUINA -  Te dieron!\n",
      "\n",
      "\n",
      "Sus aciertos en esta ronda son: 0\n",
      "Los aciertos de la maquina esta ronda son: 1\n",
      "###################################################################\n",
      "\n",
      "\n"
     ]
    },
    {
     "name": "stdin",
     "output_type": "stream",
     "text": [
      "Ataque Jugador(X Y): 3 1\n"
     ]
    },
    {
     "name": "stdout",
     "output_type": "stream",
     "text": [
      "Jugador   Maquina\n",
      "F F F F -  - - F F F\n",
      "- B - F -  - F F - F\n",
      "F - B F -  - - F - F\n",
      "F F - G -  F F F F F\n",
      "- - - - -  F - F F -\n",
      "Resultado JUGADOR -  Fallaste\n",
      "\n",
      "\n",
      "Ataque Maquina(X Y): 0 1\n",
      "Jugador   Maquina\n",
      "F F F F -  - - F F F\n",
      "- B - F -  - F F - F\n",
      "F - B F -  - - F - F\n",
      "F F - G -  F F F F F\n",
      "- - - - -  F - F F -\n",
      "Resultado MAQUINA -  Falló\n",
      "\n",
      "\n",
      "Sus aciertos en esta ronda son: 0\n",
      "Los aciertos de la maquina esta ronda son: 1\n",
      "###################################################################\n",
      "\n",
      "\n"
     ]
    },
    {
     "name": "stdin",
     "output_type": "stream",
     "text": [
      "Ataque Jugador(X Y): 2 1\n"
     ]
    },
    {
     "name": "stdout",
     "output_type": "stream",
     "text": [
      "Jugador   Maquina\n",
      "F F F F -  - - F F F\n",
      "- B - F -  - F F - F\n",
      "F - B F -  - G F - F\n",
      "F F - G -  F F F F F\n",
      "- - - - -  F - F F -\n",
      "Resultado JUGADOR -  Golpe!\n",
      "\n",
      "\n",
      "Ataque Maquina(X Y): 3 0\n",
      "Jugador   Maquina\n",
      "F F F F -  - - F F F\n",
      "- B - F -  - F F - F\n",
      "F - B F -  - G F - F\n",
      "F F - G -  F F F F F\n",
      "- - - - -  F - F F -\n",
      "Resultado MAQUINA -  Falló\n",
      "\n",
      "\n",
      "Sus aciertos en esta ronda son: 1\n",
      "Los aciertos de la maquina esta ronda son: 1\n",
      "###################################################################\n",
      "\n",
      "\n"
     ]
    },
    {
     "name": "stdin",
     "output_type": "stream",
     "text": [
      "Ataque Jugador(X Y): 2 0\n"
     ]
    },
    {
     "name": "stdout",
     "output_type": "stream",
     "text": [
      "Jugador   Maquina\n",
      "F F F F -  - - F F F\n",
      "- B - F -  - F F - F\n",
      "F - B F -  G G F - F\n",
      "F F - G -  F F F F F\n",
      "- - - - -  F - F F -\n",
      "Resultado JUGADOR -  Golpe!\n",
      "\n",
      "\n",
      "Ataque Maquina(X Y): 2 1\n",
      "Jugador   Maquina\n",
      "F F F F -  - - F F F\n",
      "- B - F -  - F F - F\n",
      "F F B F -  G G F - F\n",
      "F F - G -  F F F F F\n",
      "- - - - -  F - F F -\n",
      "Resultado MAQUINA -  Falló\n",
      "\n",
      "\n",
      "Sus aciertos en esta ronda son: 2\n",
      "Los aciertos de la maquina esta ronda son: 1\n",
      "###################################################################\n",
      "\n",
      "\n"
     ]
    },
    {
     "name": "stdin",
     "output_type": "stream",
     "text": [
      "Ataque Jugador(X Y): 1 3\n"
     ]
    },
    {
     "name": "stdout",
     "output_type": "stream",
     "text": [
      "Jugador   Maquina\n",
      "F F F F -  - - F F F\n",
      "- B - F -  - F F G F\n",
      "F F B F -  G G F - F\n",
      "F F - G -  F F F F F\n",
      "- - - - -  F - F F -\n",
      "Resultado JUGADOR -  Golpe!\n",
      "\n",
      "\n",
      "Ataque Maquina(X Y): 0 3\n",
      "Jugador   Maquina\n",
      "F F F F -  - - F F F\n",
      "- B - F -  - F F G F\n",
      "F F B F -  G G F - F\n",
      "F F - G -  F F F F F\n",
      "- - - - -  F - F F -\n",
      "Resultado MAQUINA -  Falló\n",
      "\n",
      "\n",
      "Sus aciertos en esta ronda son: 3\n",
      "Los aciertos de la maquina esta ronda son: 1\n",
      "###################################################################\n",
      "\n",
      "\n",
      "###################################################################\n",
      "################             RESULTADO              ###############\n",
      "###################################################################\n",
      "Jugador   Maquina\n",
      "F F F F -  - - F F F\n",
      "- B - F -  - F F G F\n",
      "F F B F -  G G F - F\n",
      "F F - G -  F F F F F\n",
      "- - - - -  F - F F -\n",
      "\n",
      "\n",
      "###################################################################\n",
      "####### JUGADOR : 3 ########## MAQUINA 1 ###\n",
      "###################################################################\n"
     ]
    }
   ],
   "source": [
    "### JUEGO V2 (Automatico a muerte)\n",
    "\n",
    "print(\"Sr. Jugador SU TURNO: \")\n",
    "aciertos_j = 0\n",
    "aciertos_m = 0\n",
    "while aciertos_j < 3:\n",
    "    if aciertos_m >= 3:\n",
    "        break\n",
    "    else:\n",
    "        x, y = input(\"Ataque Jugador(X Y):\").split()\n",
    "        x, y = int(x), int(y)\n",
    "        resultado_j=''\n",
    "        if ataque(Maquina,x,y):\n",
    "            if F_Maquina[x, y] == GOLPE:\n",
    "                F_Maquina[x, y] = GOLPE\n",
    "                Maquina[x, y] = GOLPE\n",
    "            else:\n",
    "                F_Maquina[x, y] = GOLPE\n",
    "                Maquina[x, y] = GOLPE\n",
    "                aciertos_j+=1\n",
    "            resultado_j = 'Golpe!'\n",
    "            #print(\"Golpe\")\n",
    "        else:\n",
    "            resultado_j = 'Fallaste'\n",
    "            #print(\"Fallaste\")\n",
    "            F_Maquina[x, y] = FALLO\n",
    "            Maquina[x, y] = FALLO\n",
    "        \n",
    "        print(\"Jugador\".ljust(10) + \"Maquina\")\n",
    "        for j in range(len(Jugador)):\n",
    "            fila_jugador = ' '.join(str(cell) for cell in Jugador[j])\n",
    "            fila_maquina = ' '.join(str(cell) for cell in F_Maquina[j])\n",
    "            print(fila_jugador.ljust(10), fila_maquina)\n",
    "        \n",
    "        print(\"Resultado JUGADOR - \", resultado_j)\n",
    "        print(\"\\n\")\n",
    "        \n",
    "        x_m, y_m = np.random.randint(0,4), np.random.randint(0,4)\n",
    "        print(f\"Ataque Maquina(X Y): {x_m} {y_m}\")\n",
    "        resultado_m = ''\n",
    "        if ataque(Jugador,x_m,y_m):\n",
    "            if Jugador[x_m, y_m] == GOLPE:\n",
    "                Jugador[x_m, y_m] = GOLPE\n",
    "            else:\n",
    "                Jugador[x_m, y_m] = GOLPE\n",
    "                aciertos_m+=1\n",
    "            resultado_m = 'Te dieron!'\n",
    "            #print(\"Te dieron!\")\n",
    "        else:\n",
    "            resultado_m = 'Falló'\n",
    "            #print(\"Falló\")\n",
    "            Jugador[x_m, y_m] = FALLO\n",
    "        print(\"Jugador\".ljust(10) + \"Maquina\")\n",
    "        for j in range(len(Jugador)):\n",
    "            fila_jugador = ' '.join(str(cell) for cell in Jugador[j])\n",
    "            fila_maquina = ' '.join(str(cell) for cell in F_Maquina[j])\n",
    "            print(fila_jugador.ljust(10), fila_maquina)\n",
    "        \n",
    "        print(\"Resultado MAQUINA - \",resultado_m)\n",
    "        print(\"\\n\")\n",
    "    print(f\"Sus aciertos en esta ronda son: {aciertos_j}\")\n",
    "    print(f\"Los aciertos de la maquina esta ronda son: {aciertos_m}\")\n",
    "    print(\"###################################################################\")\n",
    "    print(\"\\n\")\n",
    "\n",
    "print(\"###################################################################\")\n",
    "print(\"################             RESULTADO              ###############\")\n",
    "print(\"###################################################################\")\n",
    "print(\"Jugador\".ljust(10) + \"Maquina\")\n",
    "for j in range(len(Jugador)):\n",
    "    fila_jugador = ' '.join(str(cell) for cell in Jugador[j])\n",
    "    fila_maquina = ' '.join(str(cell) for cell in Maquina[j])\n",
    "    print(fila_jugador.ljust(10), fila_maquina)\n",
    "print(\"\\n\")    \n",
    "\n",
    "print(\"###################################################################\")\n",
    "print(f\"####### JUGADOR : {aciertos_j} ########## MAQUINA {aciertos_m} ###\")\n",
    "print(\"###################################################################\")\n",
    "# reiniciar tablas automaticamente\n",
    "Jugador = Generar_matrix()\n",
    "Maquina = Generar_matrix()\n",
    "F_Maquina = Generar_matrix()\n",
    "Maquina = LlenarAutomaticoMatrix(Maquina,3)\n",
    "Jugador = LlenarAutomaticoMatrix(Maquina,3)"
   ]
  },
  {
   "cell_type": "code",
   "execution_count": null,
   "id": "f58b13ec-b0d9-4a35-8a1c-de3b31b77b1a",
   "metadata": {},
   "outputs": [],
   "source": []
  },
  {
   "cell_type": "code",
   "execution_count": null,
   "id": "25b03e79-aa01-4729-8874-7732675115d8",
   "metadata": {},
   "outputs": [],
   "source": []
  },
  {
   "cell_type": "code",
   "execution_count": null,
   "id": "34eb5255-0a2f-42e9-bbd6-46fdf7c3ca7f",
   "metadata": {},
   "outputs": [],
   "source": []
  },
  {
   "cell_type": "code",
   "execution_count": null,
   "id": "e4ab9047-1225-420d-ae78-1b301208c53b",
   "metadata": {},
   "outputs": [],
   "source": []
  },
  {
   "cell_type": "code",
   "execution_count": null,
   "id": "eabcc864-90fe-4a14-a490-6ac3cd8ea2b9",
   "metadata": {},
   "outputs": [],
   "source": []
  },
  {
   "cell_type": "code",
   "execution_count": null,
   "id": "a557e89f-9708-4c5e-8f01-83d89b837d32",
   "metadata": {},
   "outputs": [],
   "source": []
  },
  {
   "cell_type": "code",
   "execution_count": null,
   "id": "c0932c02-d06c-4e9f-b12a-9ab63cc71147",
   "metadata": {},
   "outputs": [],
   "source": []
  },
  {
   "cell_type": "code",
   "execution_count": null,
   "id": "d84aa81f-ce92-4060-9526-2418effd4190",
   "metadata": {
    "tags": []
   },
   "outputs": [],
   "source": [
    "### JUEGO MANUAL a 5 DISPAROS\n",
    "\n",
    "print(\"Sr. Jugador SU TURNO: \")\n",
    "aciertos_j = 0\n",
    "acierto_m = 0\n",
    "#while aciertos_j <= 3 or acierto_m <=3:\n",
    "for i in range(5):\n",
    "    x, y = input(\"Ataque(X Y):\").split()\n",
    "    x, y = int(x), int(y)\n",
    "    if ataque(Maquina,x,y):\n",
    "        F_Maquina[x, y] = GOLPE\n",
    "        aciertos_j+=1\n",
    "        print(\"Golpe\")\n",
    "    else:\n",
    "        print(\"Fallaste\")\n",
    "        F_Maquina[x, y] = FALLO\n",
    "\n",
    "    print(\"Jugador\".ljust(10) + \"Maquina\")\n",
    "    for j in range(len(Jugador)):\n",
    "        fila_jugador = ' '.join(str(cell) for cell in Jugador[j])\n",
    "        fila_maquina = ' '.join(str(cell) for cell in F_Maquina[j])\n",
    "        print(fila_jugador.ljust(10), fila_maquina)\n",
    "    print(\"\\n\")\n",
    "print(f\"Sus aciertos en esta ronda son: {aciertos_j}\")\n",
    "    "
   ]
  },
  {
   "cell_type": "markdown",
   "id": "ef0512ca-be23-4065-bc5b-edf1d724e5c8",
   "metadata": {},
   "source": [
    "# "
   ]
  }
 ],
 "metadata": {
  "kernelspec": {
   "display_name": "Python 3 (ipykernel)",
   "language": "python",
   "name": "python3"
  },
  "language_info": {
   "codemirror_mode": {
    "name": "ipython",
    "version": 3
   },
   "file_extension": ".py",
   "mimetype": "text/x-python",
   "name": "python",
   "nbconvert_exporter": "python",
   "pygments_lexer": "ipython3",
   "version": "3.10.9"
  }
 },
 "nbformat": 4,
 "nbformat_minor": 5
}
