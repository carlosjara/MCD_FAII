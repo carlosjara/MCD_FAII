{
 "cells": [
  {
   "cell_type": "markdown",
   "id": "6d1709f8",
   "metadata": {},
   "source": [
    "#### Carlos Enrique Jaramillo Aros\n",
    "\n",
    "#### MCD - FAII\n",
    "\n",
    "#### 1144180744"
   ]
  },
  {
   "cell_type": "markdown",
   "id": "a3279d8b",
   "metadata": {},
   "source": [
    "## **4. Parcial final - Parte Practica**\n",
    "\n",
    "### El Problema\n",
    "\n",
    "En días recientes trabajamos con una compañía de comestibles que estaba interesada en predecir el comportamiento de las ventas (en unidades) de sus dos productos estrella. Fuimos contratados para generar un modelo que permita pronosticar las ventas del siguiente mes de cada uno de esos dos productos. La base de datos disponible en el archivo Examen.csv tiene la información de cada uno de los productos desde enero de 2008.\n",
    "\n",
    "Su misión es encontrar el mejor modelo para pronosticar cada una de las series. Usted debe entregar un informe escrito de no más de cuatro páginas que presente los resultados al cliente y cuente el proceso para llegar a los pronósticos. Vea las instrucciones para asegurar que entrega los archivos requeridos"
   ]
  },
  {
   "cell_type": "markdown",
   "id": "9a1c1723",
   "metadata": {
    "id": "VzcABaPQxaEH"
   },
   "source": [
    "## **1. Carga de paquetes**"
   ]
  },
  {
   "cell_type": "code",
   "execution_count": null,
   "id": "e9e63413",
   "metadata": {
    "colab": {
     "base_uri": "https://localhost:8080/"
    },
    "id": "6zSQriFDxOPo",
    "outputId": "affdc2a0-c72d-48c7-99df-b01eeef709ed"
   },
   "outputs": [],
   "source": [
    "import numpy as np\n",
    "import pandas as pd # Operaciones con dataframes\n",
    "from matplotlib import pyplot as plt # gráficos\n",
    "from statsmodels.tsa.seasonal import seasonal_decompose # descomposición de series\n",
    "from statsmodels.tsa.holtwinters import SimpleExpSmoothing  # Holwinters simple\n",
    "from statsmodels.tsa.holtwinters import ExponentialSmoothing # Holwinters doble y tripe\n",
    "from statsmodels.tsa.exponential_smoothing.ets import ETSModel\n",
    "from sklearn.metrics import mean_squared_error\n",
    "!pip install fastai wwf bayesian-optimization -q --upgrade\n",
    "from bayes_opt import BayesianOptimization"
   ]
  },
  {
   "cell_type": "markdown",
   "id": "4af69ea7",
   "metadata": {
    "id": "douz2KVtxrQW"
   },
   "source": [
    "## **2. Carga de datos**\n",
    "\n",
    "Nuestra primera tarea será leer el archivo de Excel. Para eso podemos emplear el paquete Pandas. Carguemos los datos en un objeto que denominaremos data."
   ]
  },
  {
   "cell_type": "code",
   "execution_count": null,
   "id": "d5f5e53c",
   "metadata": {},
   "outputs": [],
   "source": []
  }
 ],
 "metadata": {
  "kernelspec": {
   "display_name": "Python 3 (ipykernel)",
   "language": "python",
   "name": "python3"
  },
  "language_info": {
   "codemirror_mode": {
    "name": "ipython",
    "version": 3
   },
   "file_extension": ".py",
   "mimetype": "text/x-python",
   "name": "python",
   "nbconvert_exporter": "python",
   "pygments_lexer": "ipython3",
   "version": "3.10.9"
  }
 },
 "nbformat": 4,
 "nbformat_minor": 5
}
