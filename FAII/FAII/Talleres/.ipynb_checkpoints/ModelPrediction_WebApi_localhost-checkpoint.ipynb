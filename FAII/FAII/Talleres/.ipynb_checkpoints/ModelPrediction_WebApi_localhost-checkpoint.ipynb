{
 "cells": [
  {
   "cell_type": "code",
   "execution_count": null,
   "id": "99bcde2c",
   "metadata": {},
   "outputs": [],
   "source": [
    "#!pip install scikit-learn==1.2.2"
   ]
  },
  {
   "cell_type": "code",
   "execution_count": null,
   "id": "c46f54ca",
   "metadata": {},
   "outputs": [],
   "source": [
    "import numpy as np\n",
    "import pandas as pd # Operaciones con dataframes\n",
    "from matplotlib import pyplot as plt # gráficos\n",
    "from statsmodels.tsa.seasonal import seasonal_decompose # descomposición de series\n",
    "from statsmodels.tsa.holtwinters import SimpleExpSmoothing  # Holwinters simple\n",
    "from statsmodels.tsa.holtwinters import ExponentialSmoothing # Holwinters doble y tripe\n",
    "from statsmodels.tsa.exponential_smoothing.ets import ETSModel\n",
    "from sklearn.metrics import mean_squared_error\n",
    "from sklearn.metrics import r2_score\n",
    "\n",
    "###\n",
    "#Codigo para probar servicio\n",
    "###\n",
    "import pickle\n"
   ]
  },
  {
   "cell_type": "code",
   "execution_count": null,
   "id": "b85df27a",
   "metadata": {},
   "outputs": [],
   "source": [
    "import joblib\n",
    "from flask import Flask, request, jsonify\n",
    "app = Flask(__name__)\n",
    "\n",
    "def hacer_prediccion(datos_nuevos):\n",
    "    modelo = joblib.load('models/Suavizacion_Holt_add_add.pkl')\n",
    "    ets = modelo.fit()\n",
    "    #predicciones = modelo.predict(datos_nuevos)\n",
    "    point_forecast=ets.forecast(datos_nuevos)\n",
    "    ci = ets.get_prediction(start = point_forecast.index[0],\n",
    "                                    end = point_forecast.index[-1])\n",
    "\n",
    "    conf_forecast = ci.pred_int(alpha=0.05)#.iloc[:,0]\n",
    "    limits = ci.predicted_mean\n",
    "\n",
    "\n",
    "    preds_holt = pd.concat([limits, conf_forecast], axis = 1)\n",
    "    preds_holt.columns = ['Point_forecast', 'lower_95', 'upper_95']\n",
    "    #print(preds_holt)\n",
    "    return preds_holt['Point_forecast'].to_json(orient='records')"
   ]
  },
  {
   "cell_type": "code",
   "execution_count": null,
   "id": "ef11b6c0",
   "metadata": {},
   "outputs": [],
   "source": [
    "predicciones = hacer_prediccion(8)\n",
    "predicciones"
   ]
  },
  {
   "cell_type": "code",
   "execution_count": null,
   "id": "33f25b1b",
   "metadata": {},
   "outputs": [],
   "source": [
    "import pickle\n",
    "\n",
    "def save_model_with_pickle(model, filename):\n",
    "    with open(filename, 'wb') as file:\n",
    "        pickle.dump(model, file)\n",
    "\n",
    "def load_model_with_pickle(filename):\n",
    "    with open(filename, 'rb') as file:\n",
    "        model = pickle.load(file)\n",
    "    return model"
   ]
  },
  {
   "cell_type": "code",
   "execution_count": null,
   "id": "3a22cbba",
   "metadata": {},
   "outputs": [],
   "source": [
    "def gb_reg_predict(df_data):\n",
    "    # Assuming you have already saved the model using joblib\n",
    "    # If not, you need to save the model first with joblib before loading it with pickle\n",
    "    # joblib.dump(model, 'models/boosting.pkl')\n",
    "\n",
    "    # Load the model using pickle\n",
    "    modelo = load_model_with_pickle('C:/Users/CARLOS/OneDrive/Documentos_personal/Estudio/Estudio/Universidad/ICESI/Maestria Ciencia de Datos/Semestre2/Visualizacion de la informacion/proyecto/Modelos/boosting.pkl')\n",
    "\n",
    "    y_pred_train = modelo.predict(df_data)\n",
    "    return y_pred_train"
   ]
  },
  {
   "cell_type": "code",
   "execution_count": null,
   "id": "f3a8eb94",
   "metadata": {},
   "outputs": [],
   "source": [
    "import joblib\n",
    "from flask import Flask, request, jsonify\n",
    "app = Flask(__name__)\n",
    "\n",
    "\n",
    "@app.route('/gB_predict', methods=['POST'])\n",
    "def predecir_():\n",
    "    # Obtener datos del cuerpo de la solicitud (POST)\n",
    "    #print(\"HOLA MUNDO\")\n",
    "    data = request.json\n",
    "    \n",
    "    #datos_nuevos = data['datos']\n",
    "    df_nuevo_cliente = pd.DataFrame([data])\n",
    "    # Llamar a la función hacer_prediccion con los datos proporcionados\n",
    "    predicciones = gb_reg_predict(df_nuevo_cliente)\n",
    "    \n",
    "    # Devolver las predicciones en formato JSON\n",
    "    #return jsonify({'gB_reg': predicciones})\n",
    "    return predicciones\n",
    "if __name__ == '__main__':\n",
    "    app.run(debug=True, use_reloader=False)"
   ]
  },
  {
   "cell_type": "code",
   "execution_count": null,
   "id": "2c8f7836",
   "metadata": {},
   "outputs": [],
   "source": [
    "\n",
    "@app.route('/predecir', methods=['POST'])\n",
    "def predecir_():\n",
    "    # Obtener datos del cuerpo de la solicitud (POST)\n",
    "    data = request.json\n",
    "    datos_nuevos = data['datos']\n",
    "    \n",
    "    # Llamar a la función hacer_prediccion con los datos proporcionados\n",
    "    predicciones = hacer_prediccion(datos_nuevos)\n",
    "    \n",
    "    # Devolver las predicciones en formato JSON\n",
    "    return jsonify({'predicciones': predicciones})\n",
    "\n",
    "if __name__ == '__main__':\n",
    "    app.run(debug=True, use_reloader=False)\n"
   ]
  },
  {
   "cell_type": "code",
   "execution_count": null,
   "id": "de59faa9",
   "metadata": {},
   "outputs": [],
   "source": []
  },
  {
   "cell_type": "code",
   "execution_count": null,
   "id": "c29301e5",
   "metadata": {},
   "outputs": [],
   "source": []
  },
  {
   "cell_type": "code",
   "execution_count": null,
   "id": "c10f5bf5",
   "metadata": {},
   "outputs": [],
   "source": []
  }
 ],
 "metadata": {
  "kernelspec": {
   "display_name": "Python 3 (ipykernel)",
   "language": "python",
   "name": "python3"
  },
  "language_info": {
   "codemirror_mode": {
    "name": "ipython",
    "version": 3
   },
   "file_extension": ".py",
   "mimetype": "text/x-python",
   "name": "python",
   "nbconvert_exporter": "python",
   "pygments_lexer": "ipython3",
   "version": "3.10.9"
  }
 },
 "nbformat": 4,
 "nbformat_minor": 5
}
