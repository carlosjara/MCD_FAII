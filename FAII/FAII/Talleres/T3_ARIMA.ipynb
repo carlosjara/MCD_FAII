{
 "cells": [
  {
   "cell_type": "code",
   "execution_count": 3,
   "id": "bc6bb6ec",
   "metadata": {},
   "outputs": [],
   "source": [
    "#!pip install pmdarima\n",
    "from pmdarima.arima import auto_arima\n",
    "from pmdarima.utils import acf,pacf\n",
    "from pmdarima.arima import ARIMA\n",
    "import pandas as pd\n",
    "import numpy as np \n",
    "from statsmodels.sandbox.stats.runs import runstest_1samp # prueba de rachas de Wald y Wolfowitz\n",
    "import statsmodels.api as sm # prueba de Box-Pierce y la modificación de Ljung-Box\n",
    "from matplotlib import pyplot as plt # gráficos \n",
    "import pylab as py\n",
    "from scipy import stats\n",
    "from datetime import datetime\n",
    "from dateutil.relativedelta import relativedelta\n",
    "from statsmodels.graphics.tsaplots import plot_acf,plot_pacf"
   ]
  },
  {
   "cell_type": "code",
   "execution_count": null,
   "id": "12c0dacf",
   "metadata": {},
   "outputs": [],
   "source": []
  }
 ],
 "metadata": {
  "kernelspec": {
   "display_name": "Python 3 (ipykernel)",
   "language": "python",
   "name": "python3"
  },
  "language_info": {
   "codemirror_mode": {
    "name": "ipython",
    "version": 3
   },
   "file_extension": ".py",
   "mimetype": "text/x-python",
   "name": "python",
   "nbconvert_exporter": "python",
   "pygments_lexer": "ipython3",
   "version": "3.10.9"
  }
 },
 "nbformat": 4,
 "nbformat_minor": 5
}
